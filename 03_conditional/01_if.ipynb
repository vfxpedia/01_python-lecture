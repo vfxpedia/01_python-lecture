{
 "cells": [
  {
   "cell_type": "markdown",
   "id": "77c9391f",
   "metadata": {},
   "source": [
    "### 조건문\n",
    "\n",
    "1. if\n",
    "2. if ...else\n",
    "3. if ...elif\n",
    "4. if ...elif ...else"
   ]
  },
  {
   "cell_type": "code",
   "execution_count": 1,
   "id": "61e8c177",
   "metadata": {},
   "outputs": [
    {
     "name": "stdout",
     "output_type": "stream",
     "text": [
      "if 블럭이 실행되었습니다.\n",
      "-----\n"
     ]
    }
   ],
   "source": [
    "if True:\n",
    "    print('if 블럭이 실행되었습니다.')\n",
    "print('-----')"
   ]
  },
  {
   "cell_type": "code",
   "execution_count": 2,
   "id": "c3f10e61",
   "metadata": {},
   "outputs": [
    {
     "name": "stdout",
     "output_type": "stream",
     "text": [
      "-----\n"
     ]
    }
   ],
   "source": [
    "if False:\n",
    "    print('if 블럭이 실행되었습니다.')\n",
    "print('-----')"
   ]
  },
  {
   "cell_type": "code",
   "execution_count": 10,
   "id": "9b9cdc28",
   "metadata": {},
   "outputs": [
    {
     "name": "stdout",
     "output_type": "stream",
     "text": [
      "우수 학생이시네요\n",
      "시험보느라 모두 수고하셨습니다.\n"
     ]
    }
   ],
   "source": [
    "# if 조건문 활용해서, score가 90점 이상일 경우 '우수 학생이시네요'가 출력되게끔 코드를 작성해주세요.\n",
    "# 그리고 조건문과 상관없이 '시험보느라 모두 수고하셨습니다.'가 출력되게끔 코드를 작성해주세요.\n",
    "score = 95\n",
    "score = int(input(\"점수를 입력하세요: \"))\n",
    "\n",
    "\n",
    "if score >= 90:\n",
    "    print('우수 학생이시네요')\n",
    "\n",
    "print('시험보느라 모두 수고하셨습니다.')"
   ]
  },
  {
   "cell_type": "code",
   "execution_count": 13,
   "id": "9063af2f",
   "metadata": {},
   "outputs": [
    {
     "name": "stdout",
     "output_type": "stream",
     "text": [
      "생일 축하합니다!\n",
      "오늘도 좋은 하루 되세요!\n"
     ]
    }
   ],
   "source": [
    "today = 821\n",
    "\n",
    "your_birthday = int(input(\"당신의 생일을 입력하세요 (MMDD 형식): \"))\n",
    "if your_birthday == today:\n",
    "    print('생일 축하합니다!')\n",
    "\n",
    "print('오늘도 좋은 하루 되세요!')"
   ]
  },
  {
   "cell_type": "code",
   "execution_count": 18,
   "id": "b48cc839",
   "metadata": {},
   "outputs": [
    {
     "name": "stdout",
     "output_type": "stream",
     "text": [
      "128은/는 짝수입니다.\n",
      "프로그램을 종료합니다.\n"
     ]
    }
   ],
   "source": [
    "# num 짝, 홀\n",
    "\n",
    "num = int(input(\"정수를 입력하세요: \"))\n",
    "\n",
    "if num % 2 == 0:\n",
    "    print(f'{num}은/는 짝수입니다.')\n",
    "else:\n",
    "    print(f'{num}은/는 홀수입니다.')\n",
    "    \n",
    "print('프로그램을 종료합니다.')"
   ]
  },
  {
   "cell_type": "code",
   "execution_count": 4,
   "id": "2ba7d44c",
   "metadata": {},
   "outputs": [
    {
     "name": "stdout",
     "output_type": "stream",
     "text": [
      "당신의 학점은 F입니다.\n"
     ]
    }
   ],
   "source": [
    "\"\"\"\n",
    "socre, grade\n",
    "90~100: A\n",
    "80~89: B\n",
    "70~79: C\n",
    "60~69: D\n",
    "60 미만: F\n",
    "마지막에는 입력한 grade f스프링 포맷팅으로 당신의 학점은 ~입니다. 라고 출력해주세요.\n",
    "\"\"\"\n",
    "score = int(input(\"점수를 입력하세요: \"))\n",
    "valid = True\n",
    "\n",
    "if score < 60:\n",
    "    grade = 'F'\n",
    "elif score < 70:\n",
    "    grade = 'D'\n",
    "elif score < 80:\n",
    "    grade = 'C'\n",
    "elif score < 90:\n",
    "    grade = 'B'\n",
    "elif score <= 100:\n",
    "    grade = 'A'\n",
    "else:\n",
    "    print('학점을 올바르게 입력하세요. 범위는 1-100 입니다.')\n",
    "    valid = False\n",
    "\n",
    "if valid:\n",
    "    print(f'당신의 학점은 {grade}입니다.')"
   ]
  },
  {
   "cell_type": "code",
   "execution_count": null,
   "id": "4e633d03",
   "metadata": {},
   "outputs": [],
   "source": [
    "## **문제 1: 선택의 시작**\n",
    "\n",
    "**\"토끼는 서울에 갈 것인가?\"**\n",
    "\n",
    "토끼는 서울로 상경할 계획을 세우고 있습니다. 다음 조건을 확인하세요.\n",
    "\n",
    "1. 사용자에게 \"서울에 갈 계획이 있나요? (y/n): \"를 입력받으세요.\n",
    "2. 입력값이 `'y'`이면 **\"서울로 간다!\"**를 출력하세요."
   ]
  },
  {
   "cell_type": "code",
   "execution_count": 23,
   "id": "bfd9c5d0",
   "metadata": {},
   "outputs": [],
   "source": [
    "your_plan = input('서울에 갈 계획이 있나요? (y/n): ')\n",
    "\n",
    "if your_plan == 'y':\n",
    "    print('서울로 간다!')\n",
    "else:\n",
    "    pass"
   ]
  },
  {
   "cell_type": "code",
   "execution_count": null,
   "id": "61a5ba0a",
   "metadata": {},
   "outputs": [],
   "source": [
    "## **문제 2: 짐 싸기**\n",
    "\n",
    "**\"토끼는 짐을 싸야 할까?\"**\n",
    "\n",
    "토끼는 서울에 가기로 마음먹었지만 짐을 싸야 할지 고민하고 있습니다.\n",
    "\n",
    "1. 사용자에게 \"집에 있는 가구를 다 가져갈까요? (y/n): \"를 입력받으세요.\n",
    "    \n",
    "    ---\n",
    "    \n",
    "2. 입력값이 `'n'`이면 **\"서울에서 가구를 새로 산다.\"**를 출력하세요."
   ]
  },
  {
   "cell_type": "code",
   "execution_count": 27,
   "id": "ad88816b",
   "metadata": {},
   "outputs": [
    {
     "name": "stdout",
     "output_type": "stream",
     "text": [
      "서울에서 가구를 새로 산다.\n"
     ]
    }
   ],
   "source": [
    "movement_confirm = input('집에 있는 가구를 다 가져갈까요? (y/n): ')\n",
    "\n",
    "if movement_confirm == 'n':\n",
    "    print('서울에서 가구를 새로 산다.')\n",
    "else:\n",
    "    pass"
   ]
  },
  {
   "cell_type": "code",
   "execution_count": null,
   "id": "de7fc98d",
   "metadata": {},
   "outputs": [],
   "source": [
    "## **문제 3: 기차표 구매**\n",
    "\n",
    "**\"토끼는 기차표를 살 수 있을까?\"**\n",
    "\n",
    "토끼는 서울행 기차표를 구매하려 합니다.\n",
    "\n",
    "1. 사용자에게 \"현재 소지금은 얼마인가요? (숫자 입력): \"을 입력받으세요.\n",
    "2. 입력값이 `50000` 이상이면 **\"기차표를 구매했다!\"**를 출력하세요."
   ]
  },
  {
   "cell_type": "code",
   "execution_count": 30,
   "id": "7215d0e1",
   "metadata": {},
   "outputs": [
    {
     "name": "stdout",
     "output_type": "stream",
     "text": [
      "기차표를 구매했다!\n"
     ]
    }
   ],
   "source": [
    "money_amount = int(input('현재 소지금은 얼마인가요? (숫자 입력): '))\n",
    "\n",
    "if money_amount >= 50000:\n",
    "    print('기차표를 구매했다!')\n",
    "else:\n",
    "    pass\n",
    "    "
   ]
  },
  {
   "cell_type": "code",
   "execution_count": null,
   "id": "0e131b32",
   "metadata": {},
   "outputs": [],
   "source": [
    "## **문제 4: 서울 도착**\n",
    "\n",
    "**\"토끼는 서울에 도착했다. 날씨가 좋을까?\"**\n",
    "\n",
    "서울에 도착한 토끼는 날씨에 따라 이동할 계획입니다.\n",
    "\n",
    "1. 사용자에게 \"오늘 서울 날씨는 맑음인가요? (y/n): \"를 입력받으세요.\n",
    "2. 입력값이 `'y'`이면 **\"서울 구경을 나간다.\"**를 출력하세요.\n",
    "3. 입력값이 `'n'`이면 **\"집에서 쉰다.\"**를 출력하세요."
   ]
  },
  {
   "cell_type": "code",
   "execution_count": 40,
   "id": "fc3b2856",
   "metadata": {},
   "outputs": [],
   "source": [
    "clean_weather = input('오늘 서울 날씨는 맑음인가요? (y/n): ')\n",
    "\n",
    "if clean_weather == 'y':\n",
    "    print('서울 구경을 나간다.')\n",
    "elif clean_weather == 'n' :\n",
    "    print('집에서 쉰다.')\n",
    "else:\n",
    "    pass"
   ]
  },
  {
   "cell_type": "code",
   "execution_count": null,
   "id": "f8204323",
   "metadata": {},
   "outputs": [],
   "source": [
    "## **문제 5: 집 구하기**\n",
    "\n",
    "**\"토끼는 어디에 살까?\"**\n",
    "\n",
    "서울에서 집을 구해야 하는 토끼는 예산에 따라 집을 선택합니다.\n",
    "\n",
    "1. 사용자에게 \"월세 예산은 얼마인가요? (숫자 입력): \"를 입력받으세요.\n",
    "2. 입력값이 `1000000` 이하이면 **\"고시원에서 산다.\"**를 출력하세요.\n",
    "3. 그 외의 경우 **\"원룸을 계약한다.\"**를 출력하세요."
   ]
  },
  {
   "cell_type": "code",
   "execution_count": null,
   "id": "321746af",
   "metadata": {},
   "outputs": [
    {
     "name": "stdout",
     "output_type": "stream",
     "text": [
      "원룸을 계약한다.\n"
     ]
    }
   ],
   "source": [
    "rent_amount = int(input('월세 예산은 얼마인가요? (숫자입력): '))\n",
    "\n",
    "if rent_amount <= 1000000:\n",
    "    print('고시원에서 산다.')\n",
    "else:\n",
    "    print('원룸을 계약한다.')"
   ]
  },
  {
   "cell_type": "code",
   "execution_count": 8,
   "id": "f0756011",
   "metadata": {},
   "outputs": [
    {
     "name": "stdout",
     "output_type": "stream",
     "text": [
      "고시원에서 산다\n"
     ]
    }
   ],
   "source": [
    "# 삼항 연산자로 만들어보기\n",
    "rent_amount = int(input('월세 예산은 얼마인가요? (숫자입력): '))\n",
    "\n",
    "result = '고시원에서 산다' if rent_amount <= 1000000 else '원룸을 계약한다.'\n",
    "print(result)"
   ]
  },
  {
   "cell_type": "code",
   "execution_count": null,
   "id": "517be085",
   "metadata": {},
   "outputs": [],
   "source": [
    "## **문제 6: 직장 찾기**\n",
    "\n",
    "**\"토끼는 직장을 구해야 한다!\"**\n",
    "\n",
    "토끼는 서울에서 일자리를 찾고 있습니다. 직장에 따라 일의 강도가 다릅니다.\n",
    "\n",
    "1. 사용자에게 \"원하는 직장 종류를 입력하세요 (프리랜서/중소기업/대기업): \"를 입력받으세요.\n",
    "2. 입력값이 `'프리랜서'`이면 **\"시간은 자유롭지만 불안정하다.\"**를 출력하세요.\n",
    "3. 입력값이 `'중소기업'`이면 **\"안정적이지만 일이 많다.\"**를 출력하세요."
   ]
  },
  {
   "cell_type": "code",
   "execution_count": 44,
   "id": "213aa42f",
   "metadata": {},
   "outputs": [
    {
     "name": "stdout",
     "output_type": "stream",
     "text": [
      "시간은 자유롭지만 불안정한다.\n"
     ]
    }
   ],
   "source": [
    "company_type = input('원하는 직장 종류를 입력하세요 (프리랜서/중소기업/대기업): ')\n",
    "\n",
    "if company_type == '프리랜서':\n",
    "    print('시간은 자유롭지만 불안정한다.')\n",
    "elif company_type == '중소기업':\n",
    "    print('안정적이지만 일이 많다.')\n",
    "else:\n",
    "    pass"
   ]
  },
  {
   "cell_type": "code",
   "execution_count": null,
   "id": "689ea22d",
   "metadata": {},
   "outputs": [],
   "source": [
    "## **문제 7: 생활 루틴 정하기**\n",
    "\n",
    "**\"토끼는 서울에서 생활 루틴을 정해야 한다.\"**\n",
    "\n",
    "서울 생활에 적응한 토끼는 하루 루틴을 정하려 합니다.\n",
    "\n",
    "1. 사용자에게 \"아침에 일어나는 시간을 입력하세요 (숫자 입력, 1~10): \"를 입력받으세요.\n",
    "2. 입력값이 `3`이면 **\"운동을 한다.\"**를 출력하세요.\n",
    "3. 입력값이 `4`이면 **\"공부를 한다.\"**를 출력하세요.\n",
    "4. 입력값이 `5`이면 **\"바로 출근 준비를 한다.\"**를 출력하세요."
   ]
  },
  {
   "cell_type": "code",
   "execution_count": 46,
   "id": "9c71d6be",
   "metadata": {},
   "outputs": [
    {
     "name": "stdout",
     "output_type": "stream",
     "text": [
      "공부를 한다.\n"
     ]
    }
   ],
   "source": [
    "wake_time = int(input('아침에 일어나는 시간을 입력하세요 (숫자입력, 1~10): '))\n",
    "\n",
    "if wake_time == 3:\n",
    "    print('운동을 한다.')\n",
    "elif wake_time == 4:\n",
    "    print('공부를 한다.')\n",
    "elif wake_time == 5:\n",
    "    print('바로 출근 준비를 한다.')\n",
    "else:\n",
    "    pass"
   ]
  },
  {
   "cell_type": "code",
   "execution_count": null,
   "id": "f3c9216a",
   "metadata": {},
   "outputs": [],
   "source": [
    "## **문제 8: 주말 계획**\n",
    "\n",
    "**\"토끼의 주말 계획은?\"**\n",
    "\n",
    "주말이 되자 토끼는 여유로운 시간을 보내려 합니다.\n",
    "\n",
    "1. 사용자에게 \"오늘 날씨가 어떤가요? (맑음/비/눈): \"를 입력받으세요.\n",
    "2. 입력값이 `'맑음'`이면 **\"한강에 가서 피크닉을 즐기는 척하며 일을 한다.\"**를 출력하세요.\n",
    "3. 입력값이 `'비'`이면 **\"집에서 빗소리를 ASMR 삼아 일을 한다.\"**를 출력하세요.\n",
    "4. 입력값이 `'눈'`이면 **\"전기장판 안에서 귤을 까먹으며 일을 한다.\"**를 출력하세요.\n",
    "5. 그 외의 값이 입력되면 **\"암막 커튼 때문에 일어나지 못했다. 푹 잘 수 있군, 럭키비키잖아?\"**를 출력하세요."
   ]
  },
  {
   "cell_type": "code",
   "execution_count": 51,
   "id": "72edb619",
   "metadata": {},
   "outputs": [
    {
     "name": "stdout",
     "output_type": "stream",
     "text": [
      "전기장판 안에서 귤을 까먹으며 일을 한다.\n"
     ]
    }
   ],
   "source": [
    "status_weather = input('오늘 날씨가 어떤가요? (맑음/비/눈): ')\n",
    "\n",
    "if status_weather == '맑음':\n",
    "    print('한강에 가서 피크닉을 즐기는 척하며 일을 한다.')\n",
    "elif status_weather == '비' :\n",
    "    print('집에서 빗소리를 ASMR 삼아 일을 한다.')\n",
    "elif status_weather == '눈' :\n",
    "    print('전기장판 안에서 귤을 까먹으며 일을 한다.')\n",
    "else:\n",
    "    print('암막 커튼 때문에 일어나지 못했다. 푹 잘 수 있군, 럭키비키잖아?')"
   ]
  },
  {
   "cell_type": "code",
   "execution_count": null,
   "id": "0df1ac8f",
   "metadata": {},
   "outputs": [],
   "source": [
    "# match - case\n",
    "\n",
    "status_weather = input('오늘 날씨가 어떤가요? (맑음/비/눈): ')\n",
    "\n",
    "match status_weather:\n",
    "    case '맑음':\n",
    "        print(\"한강에 가서 피크닉을 즐기는 척하며 일을 한다.\")\n",
    "    case '비':\n",
    "        print(\"집에서 빗소리를 ASMR 삼아 일을 한다.\")\n",
    "    case '눈':\n",
    "        print(\"전기장판 안에서 귤을 까먹으며 일을 한다.\")\n",
    "    case _:\n",
    "        print(\"암막 커튼 때문에 일어나지 못했다. 푹 잘 수 있군, 럭키비키잖아?\")"
   ]
  },
  {
   "cell_type": "code",
   "execution_count": null,
   "id": "3fe3d798",
   "metadata": {},
   "outputs": [],
   "source": [
    "python 3.10\n",
    "\n",
    "match 표현식:\n",
    "    case 값1:\n",
    "        수행코드\n",
    "    case 값2:\n",
    "        수행코드\n",
    "    case 값3:\n",
    "        수행코드\n",
    "    case _:\n",
    "        수행코드"
   ]
  },
  {
   "cell_type": "code",
   "execution_count": null,
   "id": "17ec3395",
   "metadata": {},
   "outputs": [],
   "source": [
    "## **문제 9: 음료 자판기(match-case)**\n",
    "\n",
    "**\"토끼의 음료 선택\"**\n",
    "\n",
    "목이 마른 토끼가 음료 자판기 앞에 섰습니다.\n",
    "\n",
    "1. 사용자에게 \"음료선택 (1.콜라 2.사이다 3.주스) : \"를 입력받으세요.\n",
    "\n",
    "1. 입력값이 `'1'`이면 **\"콜라를 선택하셨습니다.\"**를 출력하세요.\n",
    "2. 입력값이 `'2'`이면 **\"사이다를 선택하셨습니다.\"**를 출력하세요.\n",
    "3. 입력값이 `'3'`이면 **\"주스를 선택하셨습니다.\"**를 출력하세요.\n",
    "4. 그 외의 값이 입력되면 **\"잘못 선택하셨습니다.\"**를 출력하세요."
   ]
  },
  {
   "cell_type": "code",
   "execution_count": null,
   "id": "f8899140",
   "metadata": {},
   "outputs": [],
   "source": [
    "choice = input(\"음료선택 (1.콜라 2.사이다 3.주스) : \")\n",
    "\n",
    "match choice:\n",
    "    case '1':\n",
    "        print(\"콜라를 선택하셨습니다.\")\n",
    "    case '2':\n",
    "        print(\"사이다를 선택하셨습니다.\")\n",
    "    case '3':\n",
    "        print(\"주스를 선택하셨습니다.\")\n",
    "    case _:\n",
    "        print(\"잘못 선택하셨습니다.\")   # default 역할"
   ]
  }
 ],
 "metadata": {
  "kernelspec": {
   "display_name": "pystudy_env",
   "language": "python",
   "name": "python3"
  },
  "language_info": {
   "codemirror_mode": {
    "name": "ipython",
    "version": 3
   },
   "file_extension": ".py",
   "mimetype": "text/x-python",
   "name": "python",
   "nbconvert_exporter": "python",
   "pygments_lexer": "ipython3",
   "version": "3.12.11"
  }
 },
 "nbformat": 4,
 "nbformat_minor": 5
}
