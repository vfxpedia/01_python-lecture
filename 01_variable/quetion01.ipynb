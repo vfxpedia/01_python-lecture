{
 "cells": [
  {
   "cell_type": "markdown",
   "id": "f1a3baee",
   "metadata": {},
   "source": [
    "### **문제 1**\n",
    "\n",
    "1. `name`이라는 이름의 변수를 선언하고, **당신의 이름**을 문자열로 저장하세요.\n",
    "2. `age`라는 이름의 변수를 선언하고, **당신의 나이**를 숫자로 저장하세요."
   ]
  },
  {
   "cell_type": "code",
   "execution_count": null,
   "id": "5debc997",
   "metadata": {},
   "outputs": [
    {
     "name": "stdout",
     "output_type": "stream",
     "text": [
      "OH Heungjae 37\n"
     ]
    }
   ],
   "source": [
    "name = \"OH Heungjae\"\n",
    "age = 37\n",
    "\n",
    "print(name, age)"
   ]
  },
  {
   "cell_type": "code",
   "execution_count": 9,
   "id": "135b47a8",
   "metadata": {},
   "outputs": [
    {
     "name": "stdout",
     "output_type": "stream",
     "text": [
      "<class 'str'>\n",
      "<class 'int'>\n"
     ]
    }
   ],
   "source": [
    "print(type(name))\n",
    "print(type(age))"
   ]
  },
  {
   "cell_type": "code",
   "execution_count": 2,
   "id": "85953859",
   "metadata": {},
   "outputs": [],
   "source": [
    "name = \"OH Heungjae\"\n",
    "age = '37'"
   ]
  },
  {
   "cell_type": "code",
   "execution_count": 4,
   "id": "611fafae",
   "metadata": {},
   "outputs": [
    {
     "name": "stdout",
     "output_type": "stream",
     "text": [
      "OH Heungjae 37\n"
     ]
    }
   ],
   "source": [
    "print(name, age)"
   ]
  },
  {
   "cell_type": "code",
   "execution_count": 7,
   "id": "ee968df2",
   "metadata": {},
   "outputs": [
    {
     "name": "stdout",
     "output_type": "stream",
     "text": [
      "<class 'str'>\n",
      "<class 'str'>\n"
     ]
    }
   ],
   "source": [
    "print(type(age))\n",
    "print(type(name))"
   ]
  },
  {
   "cell_type": "code",
   "execution_count": 12,
   "id": "efdce256",
   "metadata": {},
   "outputs": [
    {
     "name": "stdout",
     "output_type": "stream",
     "text": [
      "OH Heungjae 37\n",
      "OH Heungjae 37nn37\n",
      "OH Heungjae:37\n"
     ]
    }
   ],
   "source": [
    "print(name, age) # , 는 출력시 공백을 넣어주고 개행을 디폴트로 같는다.\n",
    "print(name, age, end='nn') #end='nn' 마지막에 nn을 붙이고 개행을 하지 않는다.\n",
    "print(age)\n",
    "print(name, age, sep=':') #sep=':' 는 출력시 :를 넣어준다."
   ]
  },
  {
   "cell_type": "code",
   "execution_count": 4,
   "id": "8ccac4c9",
   "metadata": {},
   "outputs": [
    {
     "name": "stdout",
     "output_type": "stream",
     "text": [
      "OH Heungjae 37\n"
     ]
    }
   ],
   "source": [
    "print(name, age)\n",
    "name = \"OH Heungjae2\""
   ]
  }
 ],
 "metadata": {
  "kernelspec": {
   "display_name": "pystudy_env",
   "language": "python",
   "name": "python3"
  },
  "language_info": {
   "codemirror_mode": {
    "name": "ipython",
    "version": 3
   },
   "file_extension": ".py",
   "mimetype": "text/x-python",
   "name": "python",
   "nbconvert_exporter": "python",
   "pygments_lexer": "ipython3",
   "version": "3.12.11"
  }
 },
 "nbformat": 4,
 "nbformat_minor": 5
}
