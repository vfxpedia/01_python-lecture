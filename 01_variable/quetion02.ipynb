{
 "cells": [
  {
   "cell_type": "markdown",
   "id": "f1a3baee",
   "metadata": {},
   "source": [
    "### **문제 2**\n",
    "\n",
    "다음 조건에 맞게 변수를 작성해보세요.\n",
    "\n",
    "1. `height`라는 변수에 **키**를 숫자형으로 저장하세요.\n",
    "2. `dream`이라는 변수에 **당신의 목표**을 문자열로 저장하세요."
   ]
  },
  {
   "cell_type": "code",
   "execution_count": 1,
   "id": "5debc997",
   "metadata": {},
   "outputs": [
    {
     "name": "stdout",
     "output_type": "stream",
     "text": [
      "My height is 191 cm\n",
      "My dream is Became a AI Engineer\n",
      "My height is 191 cm and my dream is Became a AI Engineer\n",
      "My height is 191 cm and my dream is Became a AI Engineer\n",
      "My height is 191 cm and my dream is Became a AI Engineer\n",
      "My height is 191 cm and my dream is Became a AI Engineer\n",
      "My height is 191 cm and my dream is Became a AI Engineer\n"
     ]
    }
   ],
   "source": [
    "height = 191\n",
    "dream = \"Became a AI Engineer\"\n",
    "\n",
    "print(\"My height is\", height, \"cm\")\n",
    "print(\"My dream is\", dream)\n",
    "print(\"My height is {} cm and my dream is {}\".format(height, dream))\n",
    "print(f\"My height is {height} cm and my dream is {dream}\")\n",
    "print(\"My height is %d cm and my dream is %s\" % (height, dream))\n",
    "print(\"My height is {0} cm and my dream is {1}\".format(height, dream))\n",
    "print(\"My height is {height} cm and my dream is {dream}\".format(height=height, dream=dream))"
   ]
  }
 ],
 "metadata": {
  "kernelspec": {
   "display_name": "pystudy_env",
   "language": "python",
   "name": "python3"
  },
  "language_info": {
   "codemirror_mode": {
    "name": "ipython",
    "version": 3
   },
   "file_extension": ".py",
   "mimetype": "text/x-python",
   "name": "python",
   "nbconvert_exporter": "python",
   "pygments_lexer": "ipython3",
   "version": "3.12.11"
  }
 },
 "nbformat": 4,
 "nbformat_minor": 5
}
