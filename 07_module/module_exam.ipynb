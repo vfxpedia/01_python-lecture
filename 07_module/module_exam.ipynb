{
 "cells": [
  {
   "cell_type": "markdown",
   "id": "f847b891",
   "metadata": {},
   "source": [
    "### 문제 1: 토끼**의 팀원 소개 모듈**\n",
    "\n",
    "토끼는 대기업에 입사한 후, 팀원들의 역할을 소개하는 프로그램을 작성하려고 합니다. `team_module.py`라는 모듈을 생성하고 이를 사용해 아래 요구사항을 구현하세요.\n",
    "\n",
    "```\n",
    "\"안녕하세요, 주식회사 Python입니다.\"\n",
    "\"저는 팀장입니다. 팀을 이끌고 있습니다.\"\n",
    "\"저는 개발자입니다. 프로젝트를 개발하고 있습니다.\"\n",
    "```\n",
    "\n",
    "1. **`team_module.py` 내용**:\n",
    "    - 함수 `introduce_manager()`: \"저는 팀장입니다. 팀을 이끌고 있습니다.\" 반환\n",
    "    - 함수 `introduce_developer()`: \"저는 개발자입니다. LLM 서비스를 개발하고 있습니다.\" 반환\n",
    "    - 변수 `company`: \"주식회사 Python\"\n",
    "2. 메인 스크립트에서 `team_module.py`를 불러와 아래와 같이 출력하세요:\n",
    "\n",
    "```\n",
    "\"안녕하세요, 주식회사 Python입니다.\"\n",
    "\"저는 팀장입니다. 팀을 이끌고 있습니다.\"\n",
    "\"저는 개발자입니다. 프로젝트를 개발하고 있습니다.\"\n",
    "```"
   ]
  },
  {
   "cell_type": "code",
   "execution_count": 21,
   "id": "9ae0699c",
   "metadata": {},
   "outputs": [
    {
     "data": {
      "text/plain": [
       "'\\n# team_module.py\\n\\ncompany = \"주식회사 Python\"\\n\\ndef introduce_manager():\\n    return \"저는 팀장입니다. 팀을 이끌고 있습니다.\"\\n\\ndef introduce_developer():\\n    return \"저는 개발자입니다. LLM 서비스를 개발하고 있습니다.\"\\n'"
      ]
     },
     "execution_count": 21,
     "metadata": {},
     "output_type": "execute_result"
    }
   ],
   "source": [
    "'''\n",
    "# team_module.py\n",
    "\n",
    "company = \"주식회사 Python\"\n",
    "\n",
    "def introduce_manager():\n",
    "    return \"저는 팀장입니다. 팀을 이끌고 있습니다.\"\n",
    "\n",
    "def introduce_developer():\n",
    "    return \"저는 개발자입니다. LLM 서비스를 개발하고 있습니다.\"\n",
    "'''"
   ]
  },
  {
   "cell_type": "code",
   "execution_count": 22,
   "id": "0cf87157",
   "metadata": {},
   "outputs": [
    {
     "name": "stdout",
     "output_type": "stream",
     "text": [
      "안녕하세요, 주식회사 Python입니다.\n",
      "저는 팀장입니다. 팀을 이끌고 있습니다.\n",
      "저는 개발자입니다. LLM 서비스를 개발하고 있습니다.\n"
     ]
    }
   ],
   "source": [
    "from team_module import company, introduce_manager, introduce_developer\n",
    "\n",
    "print(f'안녕하세요, {company}입니다.')\n",
    "print(introduce_manager())\n",
    "print(introduce_developer())\n"
   ]
  },
  {
   "cell_type": "code",
   "execution_count": 23,
   "id": "9dd4839f",
   "metadata": {},
   "outputs": [
    {
     "name": "stdout",
     "output_type": "stream",
     "text": [
      "안녕하세요, 주식회사 Python입니다.\n",
      "저는 팀장입니다. 팀을 이끌고 있습니다.\n",
      "저는 개발자입니다. LLM 서비스를 개발하고 있습니다.\n"
     ]
    }
   ],
   "source": [
    "import team_module as tm\n",
    "\n",
    "print(f'안녕하세요, {tm.company}입니다.')\n",
    "print(tm.introduce_manager())\n",
    "print(tm.introduce_developer())"
   ]
  },
  {
   "cell_type": "markdown",
   "id": "8d69fbf7",
   "metadata": {},
   "source": [
    "### 문제 2: 토끼**의 출퇴근 관리 모듈**\n",
    "\n",
    "토끼는 팀원들의 출퇴근 시간을 관리하는 프로그램을 작성하고자 합니다. `attendance_module.py`를 생성하고 이를 사용해 아래 요구사항을 구현하세요.\n",
    "\n",
    "1. **`attendance_module.py` 내용**:\n",
    "    - 함수 **`record_attendance(name, time)`**: \"{name}님이 {time}에 출근했습니다.\" 반환\n",
    "    - 함수 `record_leave(name, time)`: \"{name}님이 {time}에 퇴근했습니다.\" 반환\n",
    "2. 메인 스크립트에서 **`attendance_module.py`를** 불러와 아래와 같이 출력하세요:\n",
    "    \n",
    "    ```\n",
    "    \"토끼님이 9:00에 출근했습니다.\"\n",
    "    \"토끼님이 18:00에 퇴근했습니다.\"\n",
    "    ```"
   ]
  },
  {
   "cell_type": "code",
   "execution_count": 42,
   "id": "b6f6d804",
   "metadata": {},
   "outputs": [
    {
     "name": "stdout",
     "output_type": "stream",
     "text": [
      "토끼님이 9:00에 출근했습니다.\n",
      "토끼님이 18:00에 퇴근했습니다.\n"
     ]
    }
   ],
   "source": [
    "\"\"\"\n",
    "# attendance_module.py\n",
    "\n",
    "def record_attendace(name, time):\n",
    "    return f'{name}님이 {time}에 출근했습니다.'\n",
    "\n",
    "def record_leave(name, time):\n",
    "    return f'{name}님이 {time}에 퇴근했습니다.'\n",
    "\"\"\"\n",
    "from attendance_module import record_attendance, record_leave\n",
    "\n",
    "print(record_attendance('토끼', \"9:00\"))\n",
    "print(record_leave('토끼', \"18:00\"))"
   ]
  },
  {
   "cell_type": "code",
   "execution_count": 39,
   "id": "977e376d",
   "metadata": {},
   "outputs": [
    {
     "name": "stdout",
     "output_type": "stream",
     "text": [
      "토끼님이 9:00에 출근했습니다.\n",
      "토끼님이 18:00에 퇴근했습니다.\n"
     ]
    }
   ],
   "source": [
    "import attendance_module as am\n",
    "\n",
    "print(am.record_attendance('토끼', \"9:00\"))\n",
    "print(am.record_leave('토끼', \"18:00\"))"
   ]
  },
  {
   "cell_type": "markdown",
   "id": "325fe15e",
   "metadata": {},
   "source": [
    "### 문제 3: 토끼**의 업무 진행 모듈**\n",
    "\n",
    "토끼는 팀에서 업무 진행 상황을 기록하는 프로그램을 작성하려 합니다. `task_module.py`를 생성하고 이를 사용해 아래 요구사항을 구현하세요.\n",
    "\n",
    "1. **`task_module.py` 내용**:\n",
    "    - 함수 `start_task(task_name)`: \"작업 '{task_name}'이(가) 시작되었습니다.\" 반환\n",
    "    - 함수 `complete_task(task_name)`: \"작업 '{task_name}'이(가) 완료되었습니다.\" 반환\n",
    "2. 메인 스크립트에서 `task_module.py`를 불러와 아래와 같이 출력하세요:\n",
    "    \n",
    "    ```\n",
    "    \"작업 '코드 리뷰'이(가) 시작되었습니다.\"\n",
    "    \"작업 '코드 리뷰'이(가) 완료되었습니다.\"\n",
    "    ```"
   ]
  },
  {
   "cell_type": "code",
   "execution_count": 26,
   "id": "e733a3d2",
   "metadata": {},
   "outputs": [
    {
     "data": {
      "text/plain": [
       "'\\n# task_module.py\\n\\ndef start_task(task_name):\\n    return f\"작업 \\'{task_name}\\'이(가) 시작되었습니다.\"\\n\\ndef complete_task(task_name):\\n    return f\"작업 \\'{task_name}\\'이(가) 완료되었습니다.\"\\n'"
      ]
     },
     "execution_count": 26,
     "metadata": {},
     "output_type": "execute_result"
    }
   ],
   "source": [
    "'''\n",
    "# task_module.py\n",
    "\n",
    "def start_task(task_name):\n",
    "    return f\"작업 '{task_name}'이(가) 시작되었습니다.\"\n",
    "\n",
    "def complete_task(task_name):\n",
    "    return f\"작업 '{task_name}'이(가) 완료되었습니다.\"\n",
    "'''"
   ]
  },
  {
   "cell_type": "code",
   "execution_count": 27,
   "id": "09d4dc29",
   "metadata": {},
   "outputs": [
    {
     "name": "stdout",
     "output_type": "stream",
     "text": [
      "작업 '코드 리뷰'이(가) 시작되었습니다.\n",
      "작업 '코드 리뷰'이(가) 완료되었습니다.\n"
     ]
    }
   ],
   "source": [
    "from task_module import start_task, complete_task\n",
    "\n",
    "print(start_task('코드 리뷰'))\n",
    "print(complete_task('코드 리뷰'))"
   ]
  },
  {
   "cell_type": "markdown",
   "id": "a0b102f8",
   "metadata": {},
   "source": [
    "### 문제 4: **내장 모듈을 활용한 토끼의 업무 효율성 계산**\n",
    "\n",
    "토끼는 자신의 업무 효율성을 계산하려고 합니다. `math` 모듈을 사용하여 아래 요구사항을 구현하세요.\n",
    "\n",
    "1. 매일 처리한 업무량을 기록한 배열이 [10, 12, 8, 15, 9]라면 평균 업무량을 ***올림하여*(math.ceil)** 출력하세요.\n",
    "2. 평균 업무량보다 많이 처리한 날의 개수를 계산하세요."
   ]
  },
  {
   "cell_type": "code",
   "execution_count": 90,
   "id": "54d00cf2",
   "metadata": {},
   "outputs": [
    {
     "name": "stdout",
     "output_type": "stream",
     "text": [
      "평균 업무량 : 11\n",
      "평균 업무량보다 많이 처리한 날의 개수 : 2\n",
      "평균 업무량보다 많이 처리한 날의 개수 : 2\n"
     ]
    }
   ],
   "source": [
    "import math\n",
    "\n",
    "work_time = [10, 12, 8, 15, 9]\n",
    "\n",
    "# for i in range(len(work_time)):\n",
    "# work_time[0] + work_time[1] + work_time[2] + work_time[3] + work_time[4]\n",
    "\n",
    "avr_time = sum(work_time) / len(work_time)\n",
    "result = math.ceil(avr_time)\n",
    "print(f'평균 업무량 : {result}')\n",
    "\n",
    "count = 0\n",
    "\n",
    "for i in work_time:\n",
    "    if i > result:\n",
    "        count += 1\n",
    "\n",
    "print(f'평균 업무량보다 많이 처리한 날의 개수 : {count}')\n",
    "\n",
    "work_time.append(result)\n",
    "work_time.sort(reverse=True)\n",
    "print('평균 업무량보다 많이 처리한 날의 개수 : {}'.format(work_time.index(result)))"
   ]
  },
  {
   "cell_type": "markdown",
   "id": "e519ca5d",
   "metadata": {},
   "source": [
    "### 문제 5: **내장 모듈을 활용한 토끼의 업무 보고서 작성**\n",
    "\n",
    "토끼는 팀원의 업무 보고서를 작성하려고 합니다. `datetime` 모듈을 사용하여 현재 날짜와 시간을 포함한 보고서를 생성하세요.\n",
    "\n",
    "1. 현재 날짜와 시간. 팀원 이름과 작업 내용을 출력하세요.\n",
    "\n",
    "```\n",
    "[2024-12-24 08:55:31] 토끼님이 작업 '코드 리뷰'을(를) 완료했습니다.\n",
    "```"
   ]
  },
  {
   "cell_type": "code",
   "execution_count": 94,
   "id": "aea8a492",
   "metadata": {},
   "outputs": [
    {
     "name": "stdout",
     "output_type": "stream",
     "text": [
      "[2025-08-26 20:43:50] 토끼님이 작업 '코드 리뷰'이(가) 완료되었습니다.\n"
     ]
    }
   ],
   "source": [
    "import datetime\n",
    "from task_module import complete_task\n",
    "\n",
    "now_time = datetime.datetime.now()\n",
    "now_time = str(now_time)\n",
    "now_time = now_time[:-7]\n",
    "\n",
    "print(f'[{now_time}] 토끼님이 {complete_task('코드 리뷰')}')\n"
   ]
  }
 ],
 "metadata": {
  "kernelspec": {
   "display_name": "pystudy_env",
   "language": "python",
   "name": "python3"
  },
  "language_info": {
   "codemirror_mode": {
    "name": "ipython",
    "version": 3
   },
   "file_extension": ".py",
   "mimetype": "text/x-python",
   "name": "python",
   "nbconvert_exporter": "python",
   "pygments_lexer": "ipython3",
   "version": "3.12.11"
  }
 },
 "nbformat": 4,
 "nbformat_minor": 5
}
