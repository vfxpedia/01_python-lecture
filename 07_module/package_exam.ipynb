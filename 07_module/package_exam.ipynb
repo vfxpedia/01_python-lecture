{
 "cells": [
  {
   "cell_type": "markdown",
   "id": "539dcee4",
   "metadata": {},
   "source": [
    "### 문제 1: **pip로 패키지 설치 연습**\n",
    "\n",
    "토끼는 `numpy` 라이브러리를 설치하여 업무 데이터를 처리하려고 합니다.\n",
    "\n",
    "```bash\n",
    "pip install numpy\n",
    "```\n",
    "\n",
    "1. 터미널에서 `numpy`를 설치하세요.\n",
    "1. `numpy`의 mean() 함수를 사용해 배열의 평균을 계산하세요.\n",
    "\n",
    "---\n",
    "\n",
    "### 문제 2: **requirements.txt 연습**\n",
    "\n",
    "토끼는 프로젝트의 종속성을 관리하기 위해 `requirements.txt`를 생성하려고 합니다.\n",
    "\n",
    "1. 현재 설치된 패키지 목록을 `requirements.txt` 파일에 저장하세요:\n",
    "    \n",
    "    ```bash\n",
    "    pip freeze > requirements.txt\n",
    "    ```\n",
    "    \n",
    "    1. 새로운 가상 환경을 만들어 `requirements.txt`를 이용해 동일한 환경을 설정하세요:\n",
    "        \n",
    "        ```bash\n",
    "        python -m venv new_env\n",
    "        source new_env\\Scripts\\activate  # Windows에서는 new_env\\Scripts\\activate\n",
    "        \t\t\t\t\t\t\t\t\t\t\t\t\t\t\t\t # Mac 에서는 new_env\\bin\\activate\n",
    "        pip install -r requirements.txt\n",
    "        ```\n",
    "        \n",
    "\n",
    "1. 새롭게 생성한 가상 환경에서 직전 문제의 평균 계산 코드를 수행하세요."
   ]
  },
  {
   "cell_type": "code",
   "execution_count": null,
   "id": "4424271a",
   "metadata": {},
   "outputs": [],
   "source": []
  }
 ],
 "metadata": {
  "language_info": {
   "name": "python"
  }
 },
 "nbformat": 4,
 "nbformat_minor": 5
}
