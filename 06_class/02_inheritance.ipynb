{
 "cells": [
  {
   "cell_type": "markdown",
   "id": "3e93eab7",
   "metadata": {},
   "source": [
    "### 상속 (Inheritance)"
   ]
  },
  {
   "cell_type": "code",
   "execution_count": 6,
   "id": "927d231a",
   "metadata": {},
   "outputs": [
    {
     "name": "stdout",
     "output_type": "stream",
     "text": [
      "Hello. This is Python\n",
      "korea\n",
      "korea\n"
     ]
    }
   ],
   "source": [
    "class Person:\n",
    "    national = 'korea'\n",
    "    \n",
    "    def greeting(self):\n",
    "        return 'Hello. This is Python'\n",
    "\n",
    "class Student(Person):\n",
    "    pass\n",
    "\n",
    "student = Student()\n",
    "print(student.greeting())    # Hello. This is Python\n",
    "print(student.national)\n",
    "print(Person.national)"
   ]
  },
  {
   "cell_type": "code",
   "execution_count": 7,
   "id": "000d38a7",
   "metadata": {},
   "outputs": [],
   "source": [
    "class Person:\n",
    "\n",
    "    def __init__(self, name, phone):\n",
    "        self.name = name\n",
    "        self.phone = phone"
   ]
  },
  {
   "cell_type": "code",
   "execution_count": 8,
   "id": "50d0b734",
   "metadata": {},
   "outputs": [
    {
     "name": "stdout",
     "output_type": "stream",
     "text": [
      "<__main__.Person object at 0x00000153BE16ACF0>\n"
     ]
    }
   ],
   "source": [
    "# person = Person()    # __init__() method는 overrinding 하기 때문에, 초기화하려면 __init__(self)만해도 되지만,\n",
    "                       # 새로운 값으로 초기화하기 위해서 (overriding)는 아규먼트를 넣어줘야한다. -> Person(name, phone)\n",
    "person = Person('rabbit', '01012345678')\n",
    "print(person)"
   ]
  },
  {
   "cell_type": "code",
   "execution_count": 60,
   "id": "c970d305",
   "metadata": {},
   "outputs": [],
   "source": [
    "class Person:\n",
    "\n",
    "    def __init__(self, name, phone):\n",
    "        self.name = name\n",
    "        self.phone = phone\n",
    "\n",
    "    def __str__(self):\n",
    "        return f'{self.name}'"
   ]
  },
  {
   "cell_type": "code",
   "execution_count": 61,
   "id": "586b68aa",
   "metadata": {},
   "outputs": [
    {
     "name": "stdout",
     "output_type": "stream",
     "text": [
      "rabbit\n"
     ]
    }
   ],
   "source": [
    "# person = Person()    # __init__() method는 overrinding 하기 때문에, 초기화하려면 __init__(self)만해도 되지만,\n",
    "                       # 새로운 값으로 초기화하기 위해서 (overriding)는 아규먼트를 넣어줘야한다. -> Person(name, phone)\n",
    "person = Person('rabbit', '01012345678')\n",
    "print(person)"
   ]
  },
  {
   "cell_type": "code",
   "execution_count": 68,
   "id": "693220ed",
   "metadata": {},
   "outputs": [],
   "source": [
    "class Student(Person):\n",
    "\n",
    "    def __init__(self, name, phone, hobby):\n",
    "        # 방법 1. 직접 할당 (상속의 의미가 없음)\n",
    "        # self.name = name\n",
    "        # self.phone = phone\n",
    "        \n",
    "        # 방법 2. 부모클래스.__init__(self, ...)\n",
    "        # Person.__init__(self, name, phone)\n",
    "\n",
    "        # 방법 3. super().__init__()    -> super()는 다중상속에서는 사용되지 않음.\n",
    "        super().__init__(name, phone)\n",
    "        self.hobby = hobby"
   ]
  },
  {
   "cell_type": "code",
   "execution_count": 66,
   "id": "830d8b27",
   "metadata": {},
   "outputs": [
    {
     "name": "stdout",
     "output_type": "stream",
     "text": [
      "홍길동 01011112222 파이썬 스터디\n"
     ]
    }
   ],
   "source": [
    "student1 = Student('홍길동', '01011112222', '파이썬 스터디')\n",
    "print(student1.name, student1.phone, student1.hobby)"
   ]
  },
  {
   "cell_type": "markdown",
   "id": "3c7baee7",
   "metadata": {},
   "source": [
    "- 오버라이딩 Overriding"
   ]
  },
  {
   "cell_type": "code",
   "execution_count": 70,
   "id": "c8dd4bee",
   "metadata": {},
   "outputs": [],
   "source": [
    "class Animal:\n",
    "    species = '동물'\n",
    "\n",
    "    def introduce(self):\n",
    "        print('동물의 왕국에 오신 것을 환영합니다!')\n",
    "\n",
    "\n",
    "class Mammalia(Animal):\n",
    "    species = '포유류'\n",
    "\n",
    "    def has_fur(self):\n",
    "        return True\n",
    "\n",
    "\n",
    "class Rabbit(Mammalia):\n",
    "    name = '토끼'\n",
    "\n",
    "    def eat(self):\n",
    "        print('당근은 정말 맛있어!!!!')\n",
    "\n",
    "\n",
    "class RabbitTeacher(Rabbit):\n",
    "\n",
    "    def introduce(self):\n",
    "        print('안녕하세요 토끼 강사입니다!')"
   ]
  },
  {
   "cell_type": "code",
   "execution_count": 71,
   "id": "8a0ea923",
   "metadata": {},
   "outputs": [
    {
     "name": "stdout",
     "output_type": "stream",
     "text": [
      "안녕하세요 토끼 강사입니다!\n",
      "토끼\n",
      "당근은 정말 맛있어!!!!\n",
      "포유류\n",
      "True\n"
     ]
    }
   ],
   "source": [
    "rt = RabbitTeacher()\n",
    "\n",
    "rt.introduce()          # 안녕하세요 토끼 강사입니다!\n",
    "print(rt.name)          # 토끼\n",
    "rt.eat()                # 당근은 정말 맛있어!!!!\n",
    "print(rt.species)       # 포유류\n",
    "print(rt.has_fur())     # True"
   ]
  },
  {
   "cell_type": "code",
   "execution_count": 73,
   "id": "0b048f82",
   "metadata": {},
   "outputs": [
    {
     "data": {
      "text/plain": [
       "(__main__.RabbitTeacher,\n",
       " __main__.Rabbit,\n",
       " __main__.Mammalia,\n",
       " __main__.Animal,\n",
       " object)"
      ]
     },
     "execution_count": 73,
     "metadata": {},
     "output_type": "execute_result"
    }
   ],
   "source": [
    "RabbitTeacher.__mro__    # Method Resolution object -> 메서드의 탐색 순서"
   ]
  },
  {
   "cell_type": "code",
   "execution_count": null,
   "id": "dff76b17",
   "metadata": {},
   "outputs": [],
   "source": [
    "### 문제 1: **기본 상속을 활용한 클래스 생성**\n",
    "\n",
    "토끼는 이직을 준비하며 새로운 직업군을 탐색하고 있습니다. 토끼의 기본적인 정보를 담는 `Person` 클래스를 만들고, 이를 상속받는 `Candidate` 클래스를 생성하세요.\n",
    "\n",
    "1. `Person` 클래스:\n",
    "    - 클래스 속성 `national`은 \"Korea\"로 설정합니다.\n",
    "    - ****메서드 `introduce`는 `\"안녕하세요, 저는 한국에서 왔습니다.\"`를 반환합니다.\n",
    "2. `Candidate` 클래스:\n",
    "    - `Person` 클래스를 상속받습니다.\n",
    "    - 생성자에서 이름(`name`)과 관심 분야(`field`)를 매개변수로 받아 저장합니다.\n",
    "    - 메서드 `introduce`를 오버라이드하여 `\"안녕하세요, 저는 [name]입니다. [field] 분야에 관심이 있습니다.\"`를 반환합니다."
   ]
  },
  {
   "cell_type": "code",
   "execution_count": 76,
   "id": "39f45c38",
   "metadata": {},
   "outputs": [],
   "source": [
    "class Person:\n",
    "    national = \"Korea\"\n",
    "\n",
    "    def introduce(self):\n",
    "        return f'안녕하세요, 저는 한국에서 왔습니다.'\n",
    "\n",
    "class Candidate(Person):\n",
    "\n",
    "    def __init__(self, name, field):\n",
    "        self.name = name\n",
    "        self.field = field\n",
    "\n",
    "    def introduce(self):\n",
    "        return f'안녕하세요, 저는 {self.name}입니다. {self.field} 분야에 관심이 있습니다.'\n"
   ]
  },
  {
   "cell_type": "code",
   "execution_count": 79,
   "id": "3be086ac",
   "metadata": {},
   "outputs": [
    {
     "name": "stdout",
     "output_type": "stream",
     "text": [
      "안녕하세요, 저는 한국에서 왔습니다.\n",
      "안녕하세요, 저는 J입니다. AI 분야에 관심이 있습니다.\n"
     ]
    }
   ],
   "source": [
    "p = Person()\n",
    "c = Candidate('J', 'AI')\n",
    "print(p.introduce())\n",
    "print(c.introduce())"
   ]
  },
  {
   "cell_type": "code",
   "execution_count": null,
   "id": "75b344ff",
   "metadata": {},
   "outputs": [],
   "source": [
    "### 문제 2: **다중 상속을 활용한 클래스 생성**\n",
    "\n",
    "토끼는 이직을 준비하며 여러 강사님들의 도움을 받고 있습니다. 강사의 역할을 분리한 클래스를 만들어 상속 구조를 테스트하세요.\n",
    "\n",
    "1. `Mentor` 클래스:\n",
    "    - 메서드 `introduce`는 `\"안녕하세요, 저는 한국에서 왔습니다.\"`를 반환합니다.\n",
    "    - 메서드 `guide`는 `\"이직 준비를 도와드립니다.\"`를 반환합니다.\n",
    "2. `Lecturer` 클래스:\n",
    "    - 메서드 `teach`는 `\"이직에 필요한 기술을 가르쳐드립니다.\"`를 반환합니다.\n",
    "3. `Coach` 클래스:\n",
    "    - `Mentor`와 `Lecturer` 클래스를 다중 상속받습니다.\n",
    "    - 메서드 `support`는 `\"여러 방면으로 지원을 아끼지 않겠습니다.\"`를 반환합니다."
   ]
  },
  {
   "cell_type": "code",
   "execution_count": null,
   "id": "092b7cef",
   "metadata": {},
   "outputs": [],
   "source": [
    "### 문제 2: **다중 상속을 활용한 클래스 생성**\n",
    "\n",
    "토끼는 이직을 준비하며 여러 강사님들의 도움을 받고 있습니다. 강사의 역할을 분리한 클래스를 만들어 상속 구조를 테스트하세요.\n",
    "\n",
    "1. `Mentor` 클래스:\n",
    "    - 메서드 `guide`는 `\"이직 준비를 도와드립니다.\"`를 반환합니다.\n",
    "2. `Lecturer` 클래스:\n",
    "    - 메서드 `teach`는 `\"이직에 필요한 기술을 가르쳐드립니다.\"`를 반환합니다.\n",
    "3. `Coach` 클래스:\n",
    "    - `Mentor`와 `Lecturer` 클래스를 다중 상속받습니다.\n",
    "    - 메서드 `support`는 `\"여러 방면으로 지원을 아끼지 않겠습니다.\"`를 반환합니다."
   ]
  },
  {
   "cell_type": "code",
   "execution_count": 85,
   "id": "497fbfcd",
   "metadata": {},
   "outputs": [],
   "source": [
    "class Mentor:\n",
    "    \n",
    "    def guide(self):\n",
    "        return \"이직 준비를 도와드립니다.\"\n",
    "\n",
    "class Lecturer:\n",
    "\n",
    "    def teach(self):\n",
    "        return \"이직에 필요한 기술을 가르쳐드립니다.\"\n",
    "\n",
    "class Coach(Mentor, Lecturer):\n",
    "    \n",
    "    def support(self):\n",
    "        return \"여러 방면으로 지원을 아끼지 않습니다.\""
   ]
  },
  {
   "cell_type": "code",
   "execution_count": 90,
   "id": "dcf1cf1c",
   "metadata": {},
   "outputs": [
    {
     "name": "stdout",
     "output_type": "stream",
     "text": [
      "이직 준비를 도와드립니다.\n",
      "이직에 필요한 기술을 가르쳐드립니다.\n",
      "여러 방면으로 지원을 아끼지 않습니다.\n",
      "이직에 필요한 기술을 가르쳐드립니다.\n",
      "이직 준비를 도와드립니다.\n"
     ]
    }
   ],
   "source": [
    "m = Mentor()\n",
    "l = Lecturer()\n",
    "c = Coach()\n",
    "\n",
    "print(m.guide())\n",
    "# print(m.teach())    -> error\n",
    "\n",
    "print(l.teach())\n",
    "# print(l.guide())    -> error\n",
    "\n",
    "print(c.support())\n",
    "print(c.teach())\n",
    "print(c.guide())\n"
   ]
  },
  {
   "cell_type": "code",
   "execution_count": 81,
   "id": "04cf16fd",
   "metadata": {},
   "outputs": [],
   "source": [
    "class Mentor:\n",
    "\n",
    "    def introduce(self):\n",
    "        return f'안녕하세요, 저는 한국에서 왔습니다.'\n",
    "    \n",
    "    def guide(self):\n",
    "        return f'이직 준비를 도와드립니다.'\n",
    "\n",
    "class Lecturer:\n",
    "\n",
    "    def teach(self):\n",
    "        return f'이직에 필요한 기술을 가르쳐드립니다.'\n",
    "\n",
    "class Coach(Mentor, Lecturer):\n",
    "\n",
    "    def support(self):\n",
    "        return f'여러 방면으로 지원을 아끼지 않겠습니다.'"
   ]
  },
  {
   "cell_type": "code",
   "execution_count": 82,
   "id": "cc7ec086",
   "metadata": {},
   "outputs": [
    {
     "data": {
      "text/plain": [
       "(__main__.Coach, __main__.Mentor, __main__.Lecturer, object)"
      ]
     },
     "execution_count": 82,
     "metadata": {},
     "output_type": "execute_result"
    }
   ],
   "source": [
    "Coach.__mro__"
   ]
  },
  {
   "cell_type": "code",
   "execution_count": null,
   "id": "a77f0449",
   "metadata": {},
   "outputs": [],
   "source": [
    "### 문제 3: **부모 클래스 속성 오버라이딩**\n",
    "\n",
    "토끼는 이직 준비를 위해 개인적인 특성을 강조하고 있습니다. 부모 클래스의 메서드를 오버라이딩하여 각기 다른 인스턴스를 만들어보세요.\n",
    "\n",
    "1. `Person` 클래스:\n",
    "    - 속성 `name`과 `national`을 생성자로 받아 저장합니다.\n",
    "    - 메서드 `introduce`는 `\"안녕하세요, 저는 [name]입니다. 저는 [national]에서 왔습니다.\"`를 반환합니다.\n",
    "2. `Candidate` 클래스:\n",
    "    - `Person` 클래스를 상속받습니다.\n",
    "    - `introduce` 메서드를 오버라이드하여 `\"안녕하세요, 제 이름은 [name]이고, 이직 준비 중입니다.\"`를 반환합니다."
   ]
  },
  {
   "cell_type": "code",
   "execution_count": 91,
   "id": "76e5d592",
   "metadata": {},
   "outputs": [],
   "source": [
    "class Person:\n",
    "    def __init__(self, name, national):\n",
    "        self.name = name\n",
    "        self.national = national\n",
    "\n",
    "    def introduce(self):\n",
    "        return f'안녕하세요, 저는 {self.name}입니다. 저는 {self.national}에서 왔습니다.'\n",
    "\n",
    "class Candidate(Person):\n",
    "\n",
    "    def introduce(self):\n",
    "        return f'안녕하세요, 제 이름은 {self.name}이고, 이직 준비 중입니다.'"
   ]
  },
  {
   "cell_type": "code",
   "execution_count": 92,
   "id": "e9e770d0",
   "metadata": {},
   "outputs": [
    {
     "name": "stdout",
     "output_type": "stream",
     "text": [
      "안녕하세요, 저는 Aurora입니다. 저는 KOR에서 왔습니다.\n",
      "안녕하세요, 제 이름은 rozi이고, 이직 준비 중입니다.\n"
     ]
    }
   ],
   "source": [
    "p = Person('Aurora', 'KOR')\n",
    "print(p.introduce())\n",
    "\n",
    "c = Candidate('rozi', 'AUS')\n",
    "print(c.introduce())"
   ]
  },
  {
   "cell_type": "code",
   "execution_count": null,
   "id": "a55cdbfd",
   "metadata": {},
   "outputs": [],
   "source": [
    "### 문제 4: **상속의 특성 통합 테스트**\n",
    "\n",
    "토끼는 강사님들의 지도를 받으며 다양한 분야에서 경험을 쌓고 있습니다. 상속과 메서드 오버라이딩, 다중 상속을 종합적으로 테스트하세요.\n",
    "\n",
    "1. `Mentor` 클래스:\n",
    "    - 속성 `field`를 생성자로 받아 저장합니다.\n",
    "    - 메서드 `guide`는 `\"저는 [field] 분야의 멘토입니다.\"`를 반환합니다.\n",
    "2. `Lecturer` 클래스:\n",
    "    - 속성 `experience`를 생성자로 받아 저장합니다.\n",
    "    - 메서드 `teach`는 `\"저는 [experience]년의 강의 경력을 가지고 있습니다.\"`를 반환합니다.\n",
    "3. `Candidate` 클래스:\n",
    "    - `Mentor`와 `Lecturer` 클래스를 다중 상속받습니다.\n",
    "    - `guide` 메서드를 오버라이드하여 `\"저는 [field] 분야의 강사이며, 이직 준비를 도와드립니다.\"`를 반환합니다."
   ]
  },
  {
   "cell_type": "code",
   "execution_count": 96,
   "id": "88cd6896",
   "metadata": {},
   "outputs": [],
   "source": [
    "class Mentor:\n",
    "    \n",
    "    def __init__(self, field):\n",
    "        self.field = field\n",
    "    \n",
    "    def guide(self):\n",
    "        return f'저는 {self.field}분야의 멘토입니다.'\n",
    "\n",
    "class Lecturer:\n",
    "\n",
    "    def __init__(self, experience):\n",
    "        self.experience = experience\n",
    "    \n",
    "    def teach(self):\n",
    "        return f'저는 {self.experience}년의 강의 경력을 가지고 있습니다.'\n",
    "\n",
    "class Candidate(Mentor, Lecturer):\n",
    "    def __init__(self, field, experience):\n",
    "        Mentor.__init__(self, field)\n",
    "        Lecturer.__init__(self, experience)\n",
    "\n",
    "    def guide(self):\n",
    "        return f'저는 {self.field}분야의 강사이며, 이직 준비를 도와드립니다.'"
   ]
  },
  {
   "cell_type": "code",
   "execution_count": 97,
   "id": "4a1fdefd",
   "metadata": {},
   "outputs": [
    {
     "name": "stdout",
     "output_type": "stream",
     "text": [
      "저는 LLM분야의 멘토입니다.\n",
      "저는 900년의 강의 경력을 가지고 있습니다.\n",
      "저는 AI분야의 강사이며, 이직 준비를 도와드립니다.\n",
      "저는 30년의 강의 경력을 가지고 있습니다.\n"
     ]
    }
   ],
   "source": [
    "Candidate.__mro__\n",
    "m = Mentor('LLM')\n",
    "l = Lecturer(900)\n",
    "c = Candidate('AI', 30)\n",
    "\n",
    "print(m.guide())\n",
    "print(l.teach())\n",
    "print(c.guide())\n",
    "print(c.teach())"
   ]
  },
  {
   "cell_type": "code",
   "execution_count": null,
   "id": "2810ceea",
   "metadata": {},
   "outputs": [],
   "source": []
  },
  {
   "cell_type": "code",
   "execution_count": null,
   "id": "e3102159",
   "metadata": {},
   "outputs": [],
   "source": []
  },
  {
   "cell_type": "code",
   "execution_count": null,
   "id": "c1e72535",
   "metadata": {},
   "outputs": [],
   "source": []
  },
  {
   "cell_type": "code",
   "execution_count": null,
   "id": "15c38930",
   "metadata": {},
   "outputs": [],
   "source": []
  },
  {
   "cell_type": "code",
   "execution_count": null,
   "id": "03b2bee8",
   "metadata": {},
   "outputs": [],
   "source": []
  }
 ],
 "metadata": {
  "kernelspec": {
   "display_name": "pystudy_env",
   "language": "python",
   "name": "python3"
  },
  "language_info": {
   "codemirror_mode": {
    "name": "ipython",
    "version": 3
   },
   "file_extension": ".py",
   "mimetype": "text/x-python",
   "name": "python",
   "nbconvert_exporter": "python",
   "pygments_lexer": "ipython3",
   "version": "3.12.11"
  }
 },
 "nbformat": 4,
 "nbformat_minor": 5
}
