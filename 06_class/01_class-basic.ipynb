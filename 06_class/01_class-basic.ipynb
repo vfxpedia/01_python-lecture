{
 "cells": [
  {
   "cell_type": "markdown",
   "id": "2a470007",
   "metadata": {},
   "source": [
    "### 클래스"
   ]
  },
  {
   "cell_type": "code",
   "execution_count": 35,
   "id": "e3c4e9e9",
   "metadata": {},
   "outputs": [],
   "source": [
    "class Student:\n",
    "    # 1. 클래스 속성\n",
    "    dream = '취업'\n",
    "    # 2. 생성자 (->인스턴스 속성 정의)\n",
    "    \n",
    "    # 3. 메서드 (인스턴스->self 무조건, class method, 정적 self x)\n",
    "    def study(self):\n",
    "        print('오늘도 열심히 공부하는 19기 학생!')\n"
   ]
  },
  {
   "cell_type": "code",
   "execution_count": 37,
   "id": "b2cce75b",
   "metadata": {},
   "outputs": [
    {
     "name": "stdout",
     "output_type": "stream",
     "text": [
      "<__main__.Student object at 0x000001FEBC914710>\n"
     ]
    }
   ],
   "source": [
    "student = Student()     # 인스턴스 생성만 한거다. Student라는 클래스로 생성한 student 객체다.\n",
    "                        \n",
    "\n",
    "print(student)"
   ]
  },
  {
   "cell_type": "code",
   "execution_count": 25,
   "id": "aafdbd5e",
   "metadata": {},
   "outputs": [
    {
     "name": "stdout",
     "output_type": "stream",
     "text": [
      "오늘도 열심히 공부하는 19기 학생!\n",
      "오늘도 열심히 공부하는 19기 학생!\n"
     ]
    },
    {
     "data": {
      "text/plain": [
       "NoneType"
      ]
     },
     "execution_count": 25,
     "metadata": {},
     "output_type": "execute_result"
    }
   ],
   "source": [
    "student.study()    # 클래스 안에 있는 메서드인 study를 호출하고 싶어서 student.메서드()를 사용한다.\n",
    "                   # . 의존연산자 앞에 있는 것에 의존해서 호출할께\n",
    "                   # 클래스로 인스턴스를 만들었어.\n",
    "type(student.study())"
   ]
  },
  {
   "cell_type": "code",
   "execution_count": 31,
   "id": "90be0f71",
   "metadata": {},
   "outputs": [
    {
     "name": "stdout",
     "output_type": "stream",
     "text": [
      "<__main__.Student object at 0x000001FEBCA6C980>\n",
      "오늘도 열심히 공부하는 19기 학생!\n",
      "취업\n"
     ]
    }
   ],
   "source": [
    "student2 = Student()\n",
    "\n",
    "print(student2)\n",
    "student2.study()\n",
    "print(student2.dream)"
   ]
  },
  {
   "cell_type": "code",
   "execution_count": 60,
   "id": "5275f476",
   "metadata": {},
   "outputs": [],
   "source": [
    "class Student:\n",
    "    # 1. 클래스 속성\n",
    "    dream = '취업'\n",
    "    # 2. 생성자 (->인스턴스 속성 정의), 생성자도 스페셜 메서드 이므로 self가 먼저 와야한다.\n",
    "    def __init__(self, name, phone):\n",
    "        self.name = name\n",
    "        self.phone = phone\n",
    "        print('Student 인스턴스 생성!')\n",
    "    # 3. 메서드 (인스턴스->self 무조건, class method, 정적 self x)\n",
    "    def study(self):\n",
    "        print('오늘도 열심히 공부하는 19기 학생!')\n"
   ]
  },
  {
   "cell_type": "code",
   "execution_count": 69,
   "id": "797b31be",
   "metadata": {},
   "outputs": [
    {
     "name": "stdout",
     "output_type": "stream",
     "text": [
      "Student 인스턴스 생성!\n",
      "A 123\n"
     ]
    }
   ],
   "source": [
    "student = Student('A', '123')\n",
    "print(student.name, student.phone)"
   ]
  },
  {
   "cell_type": "markdown",
   "id": "ba8724e3",
   "metadata": {},
   "source": [
    "__메서드__\n",
    "\n",
    "클래스를 가지고 생성자가 호출"
   ]
  },
  {
   "cell_type": "code",
   "execution_count": 56,
   "id": "1541cb11",
   "metadata": {},
   "outputs": [
    {
     "name": "stdout",
     "output_type": "stream",
     "text": [
      "Student 인스턴스 생성!\n",
      "<class '__main__.Student'>\n",
      "<__main__.Student object at 0x000001FEBCA28E90>\n",
      "<__main__.Student object at 0x000001FEBCA28E90>\n",
      "오늘도 열심히 공부하는 19기 학생!\n"
     ]
    }
   ],
   "source": [
    "student = Student()\n",
    "print(type(student))\n",
    "print(student)\n",
    "print(student.__repr__())\n",
    "student.study()"
   ]
  },
  {
   "cell_type": "code",
   "execution_count": null,
   "id": "ee7d9c3c",
   "metadata": {},
   "outputs": [],
   "source": [
    "class Student:\n",
    "    # 1. 클래스 속성\n",
    "    dream = ['취업']\n",
    "    name = ''\n",
    "\n",
    "    def study(self):\n",
    "        print('오늘도 열심히 공부하는 19기 학생!')\n",
    "\n",
    "    def introduce(self):\n",
    "        print(f'저는 {self.name}이구요. 제 꿈은 {self.dream}입니다!')"
   ]
  },
  {
   "cell_type": "code",
   "execution_count": 109,
   "id": "7c36713a",
   "metadata": {},
   "outputs": [
    {
     "name": "stdout",
     "output_type": "stream",
     "text": [
      "<__main__.Student object at 0x000001FEBC410440> <__main__.Student object at 0x000001FEBCAB05C0>\n"
     ]
    }
   ],
   "source": [
    "student1 = Student()\n",
    "student2 = Student()\n",
    "\n",
    "print(student1, student2)"
   ]
  },
  {
   "cell_type": "code",
   "execution_count": null,
   "id": "845e771d",
   "metadata": {},
   "outputs": [
    {
     "name": "stdout",
     "output_type": "stream",
     "text": [
      "저는 이구요. 제 꿈은 ['취업']입니다!\n",
      "저는 영이구요. 제 꿈은 ['취업', '만수르']입니다!\n"
     ]
    }
   ],
   "source": [
    "student1.introduce()\n",
    "student1.name = '영'\n",
    "student1.dream.append('만수르')\n",
    "student1.introduce()"
   ]
  },
  {
   "cell_type": "code",
   "execution_count": 100,
   "id": "1be1c23e",
   "metadata": {},
   "outputs": [
    {
     "name": "stdout",
     "output_type": "stream",
     "text": [
      "저는 이구요. 제 꿈은 ['취업', '만수르']입니다!\n",
      "저는 영이구요. 제 꿈은 ['취업', '만수르', '만수르']입니다!\n"
     ]
    }
   ],
   "source": [
    "student2.introduce()\n",
    "student2.name = '영'\n",
    "student2.dream.append('만수르')\n",
    "student2.introduce()"
   ]
  },
  {
   "cell_type": "code",
   "execution_count": 6,
   "id": "425cdc7e",
   "metadata": {},
   "outputs": [
    {
     "name": "stdout",
     "output_type": "stream",
     "text": [
      "전역:  global variable\n",
      "지역(외부 함수):  outer variable\n",
      "지역(내부 함수):  outer variable\n",
      "인스턴스:  instance variable\n",
      "클래스 지역:  local variable\n"
     ]
    }
   ],
   "source": [
    "# 전역 네임스페이스\n",
    "variable = \"global variable\"\n",
    "print('전역: ', variable)    # 전역:  global variable\n",
    "\n",
    "def outer_function():\n",
    "    # 외부 함수 네임스페이스\n",
    "    variable = \"outer variable\"\n",
    "    print('지역(외부 함수): ', variable)\n",
    "    \n",
    "    def inner_function():\n",
    "        # 지역 네임스페이스\n",
    "        # variable = \"inner variable\"\n",
    "        print('지역(내부 함수): ', variable)\n",
    "    \n",
    "    inner_function()\n",
    "\n",
    "outer_function()    # 지역(외부 함수):  outer variable\n",
    "                    # 지역(내부 함수):  inner variable\n",
    "\n",
    "class TestClass:\n",
    "    # 클래스 네임스페이스\n",
    "    variable = \"class variable\"\n",
    "    \n",
    "    def __init__(self, value):\n",
    "        self.variable = value  # 인스턴스 네임스페이스\n",
    "    \n",
    "    def class_function(self):\n",
    "        variable = \"local variable\"\n",
    "        print('클래스 지역: ', variable)\n",
    "\n",
    "# 인스턴스 생성 및 메서드 호출\n",
    "obj = TestClass(\"instance variable\")\n",
    "print('인스턴스: ', obj.variable)    # 인스턴스:  instance variable\n",
    "obj.class_function()                # 클래스 지역:  local variable"
   ]
  },
  {
   "cell_type": "code",
   "execution_count": null,
   "id": "59a8d01d",
   "metadata": {},
   "outputs": [
    {
     "name": "stdout",
     "output_type": "stream",
     "text": [
      "토끼\n",
      "래빗\n",
      "산토끼\n"
     ]
    }
   ],
   "source": [
    "name = '토끼'\n",
    "names = ['토끼', '래빗', '산토끼']\n",
    "\n",
    "for name in names:    # for 문에 사용된 name은 사실 전역 변수의 name과 동일하다. 하지만 우리가 그동안 배운 개념과 다르지 않나?\n",
    "                      # 왜냐하면 안쪽으로 들어와서 사용된 것이니깐...? -> 파이썬의 허점?\n",
    "    print(name)\n",
    "\n",
    "def print_name(name):\n",
    "    name2 = 'myname'    # name2 -> 함수내에서 선언 했기 때문에 함수 안에서만 사용 가능\n",
    "    print(name)\n",
    "\n",
    "class Teacher:\n",
    "    name = '토끼'"
   ]
  },
  {
   "cell_type": "code",
   "execution_count": 11,
   "id": "184ef9d1",
   "metadata": {},
   "outputs": [
    {
     "name": "stdout",
     "output_type": "stream",
     "text": [
      "global variable\n",
      "global modified in function\n"
     ]
    }
   ],
   "source": [
    "g_variable = \"global variable\"\n",
    "\n",
    "def modify_global():\n",
    "    global g_variable   # 전역 변수를 사용하겠다고 선언\n",
    "    g_variable = \"global modified in function\"\n",
    "\n",
    "print(g_variable)    # global variable\n",
    "modify_global()\n",
    "print(g_variable)    # global modified in function\n"
   ]
  },
  {
   "cell_type": "code",
   "execution_count": 16,
   "id": "e57dfea0",
   "metadata": {},
   "outputs": [
    {
     "name": "stdout",
     "output_type": "stream",
     "text": [
      "outer variable\n",
      "outer modified in inner function\n"
     ]
    }
   ],
   "source": [
    "def outer_function():\n",
    "    variable = \"outer variable\"\n",
    "\n",
    "    def inner_function():\n",
    "        nonlocal variable\n",
    "        variable = \"outer modified in inner function\"\n",
    "\n",
    "    print(variable)\n",
    "    inner_function()\n",
    "    print(variable)\n",
    "\n",
    "outer_function()    # outer variable\n",
    "                    # outer modified in inner function"
   ]
  },
  {
   "cell_type": "code",
   "execution_count": null,
   "id": "88c1a936",
   "metadata": {},
   "outputs": [],
   "source": [
    "### **문제 1: 클래스 속성, 인스턴스 속성 테스트**\n",
    "\n",
    "토끼는 이직 준비를 위해 자기소개서를 작성해야 합니다. `Rabbit`이라는 클래스를 만들어 토끼의 기본 정보를 설정하세요.\n",
    "\n",
    "1. 클래스 속성 `species`를 설정하여 \"토끼\"로 초기화하세요.\n",
    "2. 생성자를 통해 인스턴스 속성 `name`과 `current_job`을 설정하세요.\n",
    "3. 메서드 `introduce`를 만들어 이름과 현재 직업을 소개하는 문자열을 반환하세요.\n",
    "4. 다른 인스턴스를 생성해도 `species`는 공유되지만, `name`과 `current_job`은 서로 독립적임을 확인하세요."
   ]
  },
  {
   "cell_type": "code",
   "execution_count": 18,
   "id": "ec5879b5",
   "metadata": {},
   "outputs": [],
   "source": [
    "class Rabbit:\n",
    "    species = \"토끼\"\n",
    "\n",
    "    def __init__(self, name, current_job):\n",
    "        self.name = name\n",
    "        self.current_job = current_job\n",
    "\n",
    "    def introduce(self):\n",
    "        return f'저의 이름은 {self.name}이고, 직업은 {self.current_job}입니다.'"
   ]
  },
  {
   "cell_type": "code",
   "execution_count": 20,
   "id": "57e0c01a",
   "metadata": {},
   "outputs": [
    {
     "name": "stdout",
     "output_type": "stream",
     "text": [
      "토끼 토끼\n",
      "저의 이름은 일번토끼이고, 직업은 강사입니다.\n",
      "저의 이름은 이번토끼이고, 직업은 훈련생입니다.\n"
     ]
    }
   ],
   "source": [
    "rabbit1 = Rabbit('일번토끼','강사')\n",
    "rabbit2 = Rabbit('이번토끼', '훈련생')\n",
    "\n",
    "print(rabbit1.species, rabbit2.species)\n",
    "print(rabbit1.introduce())\n",
    "print(rabbit2.introduce())"
   ]
  },
  {
   "cell_type": "code",
   "execution_count": null,
   "id": "0e5a52de",
   "metadata": {},
   "outputs": [],
   "source": [
    "### **문제 2: 클래스 속성과 인스턴스 속성의 차이**\n",
    "\n",
    "토끼는 이직 준비를 하며 다양한 직업 스킬을 학습 중입니다. 클래스 속성과 인스턴스 속성의 차이를 확인하세요.\n",
    "\n",
    "1. `Character` 클래스를 생성하세요.\n",
    "2. 클래스 속성 `skills`를 정의하여 빈 리스트로 초기화하세요.\n",
    "3. 생성자에서 인스턴스 속성 `skills`를 별도로 초기화하세요.\n",
    "4. `add_skill` 메서드에서 클래스 속성이 아닌 인스턴스 속성에 스킬을 추가하도록 수정하세요."
   ]
  },
  {
   "cell_type": "code",
   "execution_count": 21,
   "id": "065e7ab0",
   "metadata": {},
   "outputs": [],
   "source": [
    "class Character:\n",
    "    skills = []\n",
    "\n",
    "    def __init__(self):\n",
    "        self.skills = []\n",
    "\n",
    "    def add_skill(self, skill):    # 매서드 안에서 인스턴스 속성에 접근하기 위해서는 self.skills를 사용한다.\n",
    "        self.skills.append(skill)  # 파라미터로 skill을 받아서 이것을 매개변수로 저장할 수 있게 한다."
   ]
  },
  {
   "cell_type": "code",
   "execution_count": 27,
   "id": "75d58437",
   "metadata": {},
   "outputs": [
    {
     "name": "stdout",
     "output_type": "stream",
     "text": [
      "['powerup']\n",
      "['powerup']\n"
     ]
    }
   ],
   "source": [
    "character1 = Character()\n",
    "character1.add_skill('powerup')\n",
    "print(character1.skills)\n",
    "print(character1.skills)"
   ]
  },
  {
   "cell_type": "code",
   "execution_count": null,
   "id": "6441a481",
   "metadata": {},
   "outputs": [],
   "source": [
    "### **문제 3: 인스턴스 속성과 클래스 속성의 우선순위**\n",
    "\n",
    "토끼는 이직을 위해 별명을 여러 개 사용합니다. 클래스 속성으로 `nickname`을 설정하지만, 각 인스턴스마다 별명을 변경할 수 있습니다.\n",
    "\n",
    "1. `Character` 클래스에 클래스 속성 `nickname`을 설정하세요.\n",
    "2. 생성자에서 인스턴스 속성 `nickname`을 설정하세요.\n",
    "3. 클래스 속성과 인스턴스 속성이 충돌할 때, 인스턴스 속성이 우선됨을 확인하세요."
   ]
  },
  {
   "cell_type": "code",
   "execution_count": null,
   "id": "f92c0408",
   "metadata": {},
   "outputs": [],
   "source": [
    "class Character:\n",
    "    nickname = 'J'                   # 클래스 속성을 만듦\n",
    "    \n",
    "    def __init__(self, nickname):    # 생성자를 통해서 인스턴스 속성을 만드는 과정\n",
    "        self.nickname = nickname\n"
   ]
  },
  {
   "cell_type": "code",
   "execution_count": 31,
   "id": "d55ba969",
   "metadata": {},
   "outputs": [
    {
     "name": "stdout",
     "output_type": "stream",
     "text": [
      "powerJ\n"
     ]
    }
   ],
   "source": [
    "# 실제로 클래스 속성과 인스턴스 속성이 충돌되지는 않는다, 네임스페이스 영역이 다르기 때문에,\n",
    "# 하지만 이름이 같더라도 인스턴스가 먼저 실행된다.\n",
    "\n",
    "character = Character('powerJ')\n",
    "print(character.nickname)"
   ]
  },
  {
   "cell_type": "code",
   "execution_count": null,
   "id": "33592c14",
   "metadata": {},
   "outputs": [],
   "source": [
    "### **문제 4: 네임스페이스 테스트 - 전역과 로컬**\n",
    "\n",
    "토끼는 이직 준비 도구를 사용하며, 전역 변수와 로컬 변수를 관리합니다. `namespace_test` 함수를 작성해 네임스페이스를 테스트하세요.\n",
    "\n",
    "1. 전역 변수 `tool`을 \"연필\"로 설정하세요.\n",
    "2. 함수 `namespace_test` 내부에 로컬 변수 `local_tool`을 \"키보드\"로 설정하고, `global` 키워드를 사용해 전역 변수를 \"펜\"으로 수정하세요.\n",
    "3. 함수 내부에서 로컬 변수와 전역 변수의 값을 출력하세요."
   ]
  },
  {
   "cell_type": "code",
   "execution_count": 53,
   "id": "c4d4232b",
   "metadata": {},
   "outputs": [
    {
     "name": "stdout",
     "output_type": "stream",
     "text": [
      "로컬 변수 : 키보드\n",
      "전역 변수 : 펜\n"
     ]
    }
   ],
   "source": [
    "tool = \"연필\"\n",
    "\n",
    "def namespace_test():\n",
    "    local_tool = '키보드'\n",
    "\n",
    "    global tool\n",
    "    tool = \"펜\"\n",
    "\n",
    "    print(\"로컬 변수 :\", local_tool)\n",
    "    print(\"전역 변수 :\", tool)\n",
    "\n",
    "namespace_test()\n"
   ]
  },
  {
   "cell_type": "code",
   "execution_count": null,
   "id": "06bdbbb7",
   "metadata": {},
   "outputs": [],
   "source": [
    "### **문제 5: 네임스페이스 테스트 - 클래스와 인스턴스**\n",
    "\n",
    "토끼는 이직 준비 중 클래스를 통해 도구를 관리합니다. `Toolbox` 클래스를 만들어 네임스페이스를 테스트하세요.\n",
    "\n",
    "1. 클래스 속성 `tools`를 [\"노트북\", \"책상\"]으로 초기화하세요.\n",
    "2. 생성자를 통해 인스턴스 속성 `tools`를 설정하고, 객체마다 다른 도구를 가질 수 있도록 설정하세요.\n",
    "3. `add_tool` 메서드를 만들어 클래스 속성에 새 도구를 추가하세요."
   ]
  },
  {
   "cell_type": "code",
   "execution_count": null,
   "id": "c61cd6e1",
   "metadata": {},
   "outputs": [],
   "source": [
    "# 인스턴스 속성에 append() -> 정답 아님!\n",
    "class Toolbox:\n",
    "    tools = [\"노트북\", \"책상\"]\n",
    "\n",
    "    def __init__(self):\n",
    "        self.tools = []\n",
    "    \n",
    "    def add_tool(self, tool):    # 매개변수로 받아올 tool 추가\n",
    "        self.tools.append(tool)\n"
   ]
  },
  {
   "cell_type": "code",
   "execution_count": null,
   "id": "c9f046c4",
   "metadata": {},
   "outputs": [],
   "source": [
    "class Toolbox:\n",
    "    tools = [\"노트북\", \"책상\"]\n",
    "\n",
    "    def __init__(self):\n",
    "        self.tools = []\n",
    "    \n",
    "    def add_tool(self, tool):           # 매개변수로 받아올 tool 추가\n",
    "        __class__.tools.append(tool)    # __class__ -> 내 인스턴스를 만들기 위해 만든 class -> Toolbox\n"
   ]
  },
  {
   "cell_type": "code",
   "execution_count": 51,
   "id": "370eef15",
   "metadata": {},
   "outputs": [],
   "source": [
    "class Toolbox:\n",
    "    tools = [\"노트북\", \"책상\"]\n",
    "\n",
    "    def __init__(self):\n",
    "        self.tools = []\n",
    "    \n",
    "    @classmethod                       # 첫번째 인자로 받는 것이 바뀝니다.\n",
    "    def add_tool(cls, tool):           # 매개변수로 받아올 tool 추가\n",
    "        cls.tools.append(tool)         # \n"
   ]
  },
  {
   "cell_type": "code",
   "execution_count": 52,
   "id": "cd9c7570",
   "metadata": {},
   "outputs": [
    {
     "name": "stdout",
     "output_type": "stream",
     "text": [
      "[] []\n",
      "['노트북', '책상', 'Mouse', 'keyboard']\n"
     ]
    }
   ],
   "source": [
    "toolbox1 = Toolbox()\n",
    "toolbox1.add_tool('Mouse')\n",
    "\n",
    "toolbox2 = Toolbox()\n",
    "toolbox2.add_tool('keyboard')\n",
    "\n",
    "print(toolbox1.tools, toolbox2.tools)    # 인스턴스 속성을 출력한다.\n",
    "\n",
    "print(Toolbox.tools)                     # Class 속성을 출력한다."
   ]
  },
  {
   "cell_type": "code",
   "execution_count": null,
   "id": "7a5cf52f",
   "metadata": {},
   "outputs": [],
   "source": [
    "### **문제 6: 네임스페이스 테스트 - nonlocal**\n",
    "\n",
    "토끼는 이직 준비 중 추가적인 정보가 필요합니다. 중첩 함수와 `nonlocal` 키워드를 사용해 바깥 함수의 변수를 수정하세요.\n",
    "\n",
    "1. 함수 `nested_function`을 작성하세요.\n",
    "2. 바깥 함수의 변수 `status`를 \"작성 중\"으로 초기화하세요.\n",
    "3. 중첩 함수에서 `status`를 \"완료\"로 수정하세요."
   ]
  },
  {
   "cell_type": "code",
   "execution_count": 55,
   "id": "1d4c9b9c",
   "metadata": {},
   "outputs": [
    {
     "name": "stdout",
     "output_type": "stream",
     "text": [
      "완료\n"
     ]
    }
   ],
   "source": [
    "def nested_function():\n",
    "    \n",
    "    status = \"작성 중\"\n",
    "\n",
    "    def inner_fuction():\n",
    "\n",
    "        nonlocal status\n",
    "        status = \"완료\"\n",
    "\n",
    "    inner_fuction()\n",
    "    print(status)\n",
    "\n",
    "nested_function()"
   ]
  },
  {
   "cell_type": "code",
   "execution_count": null,
   "id": "3e3e3f30",
   "metadata": {},
   "outputs": [],
   "source": [
    "def plust_something(a, b):   # a, b 는 다형성을 가지고 있는 변수이다.\n",
    "    return a + b\n",
    "\n",
    "plus_something(1, 2)\n",
    "plus_something('hello', 'world')"
   ]
  },
  {
   "cell_type": "code",
   "execution_count": null,
   "id": "c1fa4989",
   "metadata": {},
   "outputs": [],
   "source": []
  }
 ],
 "metadata": {
  "kernelspec": {
   "display_name": "pystudy_env",
   "language": "python",
   "name": "python3"
  },
  "language_info": {
   "codemirror_mode": {
    "name": "ipython",
    "version": 3
   },
   "file_extension": ".py",
   "mimetype": "text/x-python",
   "name": "python",
   "nbconvert_exporter": "python",
   "pygments_lexer": "ipython3",
   "version": "3.12.11"
  }
 },
 "nbformat": 4,
 "nbformat_minor": 5
}
