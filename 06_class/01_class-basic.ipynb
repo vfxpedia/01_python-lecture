{
 "cells": [
  {
   "cell_type": "markdown",
   "id": "2a470007",
   "metadata": {},
   "source": [
    "### 클래스"
   ]
  },
  {
   "cell_type": "code",
   "execution_count": 35,
   "id": "e3c4e9e9",
   "metadata": {},
   "outputs": [],
   "source": [
    "class Student:\n",
    "    # 1. 클래스 속성\n",
    "    dream = '취업'\n",
    "    # 2. 생성자 (->인스턴스 속성 정의)\n",
    "    \n",
    "    # 3. 메서드 (인스턴스->self 무조건, class method, 정적 self x)\n",
    "    def study(self):\n",
    "        print('오늘도 열심히 공부하는 19기 학생!')\n"
   ]
  },
  {
   "cell_type": "code",
   "execution_count": 37,
   "id": "b2cce75b",
   "metadata": {},
   "outputs": [
    {
     "name": "stdout",
     "output_type": "stream",
     "text": [
      "<__main__.Student object at 0x000001FEBC914710>\n"
     ]
    }
   ],
   "source": [
    "student = Student()     # 인스턴스 생성만 한거다. Student라는 클래스로 생성한 student 객체다.\n",
    "                        \n",
    "\n",
    "print(student)"
   ]
  },
  {
   "cell_type": "code",
   "execution_count": 25,
   "id": "aafdbd5e",
   "metadata": {},
   "outputs": [
    {
     "name": "stdout",
     "output_type": "stream",
     "text": [
      "오늘도 열심히 공부하는 19기 학생!\n",
      "오늘도 열심히 공부하는 19기 학생!\n"
     ]
    },
    {
     "data": {
      "text/plain": [
       "NoneType"
      ]
     },
     "execution_count": 25,
     "metadata": {},
     "output_type": "execute_result"
    }
   ],
   "source": [
    "student.study()    # 클래스 안에 있는 메서드인 study를 호출하고 싶어서 student.메서드()를 사용한다.\n",
    "                   # . 의존연산자 앞에 있는 것에 의존해서 호출할께\n",
    "                   # 클래스로 인스턴스를 만들었어.\n",
    "type(student.study())"
   ]
  },
  {
   "cell_type": "code",
   "execution_count": 31,
   "id": "90be0f71",
   "metadata": {},
   "outputs": [
    {
     "name": "stdout",
     "output_type": "stream",
     "text": [
      "<__main__.Student object at 0x000001FEBCA6C980>\n",
      "오늘도 열심히 공부하는 19기 학생!\n",
      "취업\n"
     ]
    }
   ],
   "source": [
    "student2 = Student()\n",
    "\n",
    "print(student2)\n",
    "student2.study()\n",
    "print(student2.dream)"
   ]
  },
  {
   "cell_type": "code",
   "execution_count": 60,
   "id": "5275f476",
   "metadata": {},
   "outputs": [],
   "source": [
    "class Student:\n",
    "    # 1. 클래스 속성\n",
    "    dream = '취업'\n",
    "    # 2. 생성자 (->인스턴스 속성 정의), 생성자도 스페셜 메서드 이므로 self가 먼저 와야한다.\n",
    "    def __init__(self, name, phone):\n",
    "        self.name = name\n",
    "        self.phone = phone\n",
    "        print('Student 인스턴스 생성!')\n",
    "    # 3. 메서드 (인스턴스->self 무조건, class method, 정적 self x)\n",
    "    def study(self):\n",
    "        print('오늘도 열심히 공부하는 19기 학생!')\n"
   ]
  },
  {
   "cell_type": "code",
   "execution_count": 69,
   "id": "797b31be",
   "metadata": {},
   "outputs": [
    {
     "name": "stdout",
     "output_type": "stream",
     "text": [
      "Student 인스턴스 생성!\n",
      "A 123\n"
     ]
    }
   ],
   "source": [
    "student = Student('A', '123')\n",
    "print(student.name, student.phone)"
   ]
  },
  {
   "cell_type": "markdown",
   "id": "ba8724e3",
   "metadata": {},
   "source": [
    "__메서드__\n",
    "\n",
    "클래스를 가지고 생성자가 호출"
   ]
  },
  {
   "cell_type": "code",
   "execution_count": 56,
   "id": "1541cb11",
   "metadata": {},
   "outputs": [
    {
     "name": "stdout",
     "output_type": "stream",
     "text": [
      "Student 인스턴스 생성!\n",
      "<class '__main__.Student'>\n",
      "<__main__.Student object at 0x000001FEBCA28E90>\n",
      "<__main__.Student object at 0x000001FEBCA28E90>\n",
      "오늘도 열심히 공부하는 19기 학생!\n"
     ]
    }
   ],
   "source": [
    "student = Student()\n",
    "print(type(student))\n",
    "print(student)\n",
    "print(student.__repr__())\n",
    "student.study()"
   ]
  },
  {
   "cell_type": "code",
   "execution_count": null,
   "id": "ee7d9c3c",
   "metadata": {},
   "outputs": [],
   "source": [
    "class Student:\n",
    "    # 1. 클래스 속성\n",
    "    dream = ['취업']\n",
    "    name = ''\n",
    "\n",
    "    def study(self):\n",
    "        print('오늘도 열심히 공부하는 19기 학생!')\n",
    "\n",
    "    def introduce(self):\n",
    "        print(f'저는 {self.name}이구요. 제 꿈은 {self.dream}입니다!')"
   ]
  },
  {
   "cell_type": "code",
   "execution_count": 109,
   "id": "7c36713a",
   "metadata": {},
   "outputs": [
    {
     "name": "stdout",
     "output_type": "stream",
     "text": [
      "<__main__.Student object at 0x000001FEBC410440> <__main__.Student object at 0x000001FEBCAB05C0>\n"
     ]
    }
   ],
   "source": [
    "student1 = Student()\n",
    "student2 = Student()\n",
    "\n",
    "print(student1, student2)"
   ]
  },
  {
   "cell_type": "code",
   "execution_count": null,
   "id": "845e771d",
   "metadata": {},
   "outputs": [
    {
     "name": "stdout",
     "output_type": "stream",
     "text": [
      "저는 이구요. 제 꿈은 ['취업']입니다!\n",
      "저는 영이구요. 제 꿈은 ['취업', '만수르']입니다!\n"
     ]
    }
   ],
   "source": [
    "student1.introduce()\n",
    "student1.name = '영'\n",
    "student1.dream.append('만수르')\n",
    "student1.introduce()"
   ]
  },
  {
   "cell_type": "code",
   "execution_count": 100,
   "id": "1be1c23e",
   "metadata": {},
   "outputs": [
    {
     "name": "stdout",
     "output_type": "stream",
     "text": [
      "저는 이구요. 제 꿈은 ['취업', '만수르']입니다!\n",
      "저는 영이구요. 제 꿈은 ['취업', '만수르', '만수르']입니다!\n"
     ]
    }
   ],
   "source": [
    "student2.introduce()\n",
    "student2.name = '영'\n",
    "student2.dream.append('만수르')\n",
    "student2.introduce()"
   ]
  },
  {
   "cell_type": "code",
   "execution_count": null,
   "id": "425cdc7e",
   "metadata": {},
   "outputs": [],
   "source": []
  }
 ],
 "metadata": {
  "kernelspec": {
   "display_name": "pystudy_env",
   "language": "python",
   "name": "python3"
  },
  "language_info": {
   "codemirror_mode": {
    "name": "ipython",
    "version": 3
   },
   "file_extension": ".py",
   "mimetype": "text/x-python",
   "name": "python",
   "nbconvert_exporter": "python",
   "pygments_lexer": "ipython3",
   "version": "3.12.11"
  }
 },
 "nbformat": 4,
 "nbformat_minor": 5
}
