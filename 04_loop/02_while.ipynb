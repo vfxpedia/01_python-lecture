{
 "cells": [
  {
   "cell_type": "markdown",
   "id": "0464f571",
   "metadata": {},
   "source": [
    "### while\n"
   ]
  },
  {
   "cell_type": "code",
   "execution_count": 3,
   "id": "5c573598",
   "metadata": {},
   "outputs": [],
   "source": [
    "# 1 ~10 까지 출력할 수 있도록 while 문을 사용해서 작성해주세요.\n",
    "# 그리고 while 문이 끝나면\n",
    "# print('-끝-')이 출력될 수 있도록 작성해주세요."
   ]
  },
  {
   "cell_type": "code",
   "execution_count": null,
   "id": "70240661",
   "metadata": {},
   "outputs": [
    {
     "ename": "SyntaxError",
     "evalue": "invalid syntax (3168196807.py, line 1)",
     "output_type": "error",
     "traceback": [
      "  \u001b[36mCell\u001b[39m\u001b[36m \u001b[39m\u001b[32mIn[1]\u001b[39m\u001b[32m, line 1\u001b[39m\n\u001b[31m    \u001b[39m\u001b[31mwhile is True:\u001b[39m\n          ^\n\u001b[31mSyntaxError\u001b[39m\u001b[31m:\u001b[39m invalid syntax\n"
     ]
    }
   ],
   "source": [
    "while is True:\n",
    "    for a in range(10):\n",
    "        a += 1\n",
    "        print(a)"
   ]
  },
  {
   "cell_type": "code",
   "execution_count": 6,
   "id": "8d4a86d1",
   "metadata": {},
   "outputs": [
    {
     "name": "stdout",
     "output_type": "stream",
     "text": [
      "1\n",
      "2\n",
      "3\n",
      "4\n",
      "5\n",
      "6\n",
      "7\n",
      "8\n",
      "9\n",
      "10\n",
      "-끝-\n"
     ]
    }
   ],
   "source": [
    "num = 1\n",
    "\n",
    "while num <= 10:\n",
    "    print(num)\n",
    "    num += 1\n",
    "print('-끝-')"
   ]
  },
  {
   "cell_type": "code",
   "execution_count": null,
   "id": "08008429",
   "metadata": {},
   "outputs": [],
   "source": [
    "# 숫자 7에 도달하면 반복문이 종료되도록 작성해주시고,\n",
    "# 마지막에 print('-끝-')"
   ]
  },
  {
   "cell_type": "code",
   "execution_count": 11,
   "id": "36878f3b",
   "metadata": {},
   "outputs": [
    {
     "name": "stdout",
     "output_type": "stream",
     "text": [
      "1\n",
      "2\n",
      "3\n",
      "4\n",
      "5\n",
      "6\n",
      "-끝-\n"
     ]
    }
   ],
   "source": [
    "num = 0\n",
    "\n",
    "while True:\n",
    "    num += 1\n",
    "    if num == 7:\n",
    "        break\n",
    "    print(num)\n",
    "print('-끝-')\n"
   ]
  },
  {
   "cell_type": "code",
   "execution_count": null,
   "id": "f8f45346",
   "metadata": {},
   "outputs": [],
   "source": [
    "# 1~10까지 출력되게끔 해주시고, 다만, 중간에 7에서는 7이 출력되지 않고 넘어갈 수 있도록 작성해주세요."
   ]
  },
  {
   "cell_type": "code",
   "execution_count": null,
   "id": "a7794a69",
   "metadata": {},
   "outputs": [],
   "source": [
    "# 반복문 분기 처리\n",
    "# break    -> 반복문 실행 중지\n",
    "#             반복문 탈출!\n",
    "# continue -> 이하 코드를 실행하지 않아요\n",
    "#             while 조건식으로 돌아간다"
   ]
  },
  {
   "cell_type": "code",
   "execution_count": 19,
   "id": "e13f6e94",
   "metadata": {},
   "outputs": [
    {
     "name": "stdout",
     "output_type": "stream",
     "text": [
      "1\n",
      "2\n",
      "3\n",
      "4\n",
      "5\n",
      "6\n"
     ]
    }
   ],
   "source": [
    "num = 0\n",
    "\n",
    "while num < 10:\n",
    "    num += 1\n",
    "    if num == 7:\n",
    "        break\n",
    "    print(num)\n",
    "    "
   ]
  },
  {
   "cell_type": "code",
   "execution_count": 20,
   "id": "2033893d",
   "metadata": {},
   "outputs": [
    {
     "name": "stdout",
     "output_type": "stream",
     "text": [
      "1\n",
      "2\n",
      "3\n",
      "4\n",
      "5\n",
      "6\n",
      "8\n",
      "9\n",
      "10\n"
     ]
    }
   ],
   "source": [
    "num = 0\n",
    "\n",
    "while num < 10:\n",
    "    num += 1\n",
    "    if num == 7:\n",
    "        continue\n",
    "    print(num)\n",
    "    "
   ]
  },
  {
   "cell_type": "code",
   "execution_count": 21,
   "id": "986ed124",
   "metadata": {},
   "outputs": [
    {
     "name": "stdout",
     "output_type": "stream",
     "text": [
      "1\n",
      "2\n",
      "3\n",
      "4\n",
      "5\n",
      "6\n",
      "7\n",
      "8\n",
      "9\n",
      "10\n"
     ]
    }
   ],
   "source": [
    "num = 0\n",
    "\n",
    "while num < 10:\n",
    "    num += 1\n",
    "    if num == 7:\n",
    "        pass\n",
    "    print(num)\n",
    "    "
   ]
  },
  {
   "cell_type": "markdown",
   "id": "76ca8a18",
   "metadata": {},
   "source": [
    "---"
   ]
  },
  {
   "cell_type": "code",
   "execution_count": null,
   "id": "b0c396a7",
   "metadata": {},
   "outputs": [],
   "source": [
    "## **문제 7: 테이블 청소하기**\n",
    "\n",
    "**토끼는 닫기 전에 테이블을 모두 청소해야 한다.\"**\n",
    "\n",
    "토끼는 5번 테이블까지 순서대로 청소해야 합니다.\n",
    "\n",
    "1. `while`문을 사용하여 `1`번부터 `5`번 테이블을 청소하세요.\n",
    "2. 각 테이블마다 **\"[n번 테이블] 청소 완료!\"**를 출력하세요."
   ]
  },
  {
   "cell_type": "code",
   "execution_count": null,
   "id": "759ced98",
   "metadata": {},
   "outputs": [
    {
     "name": "stdout",
     "output_type": "stream",
     "text": [
      "[1번 테이블] 청소 완료!\n",
      "[2번 테이블] 청소 완료!\n",
      "[3번 테이블] 청소 완료!\n",
      "[4번 테이블] 청소 완료!\n",
      "[5번 테이블] 청소 완료!\n"
     ]
    }
   ],
   "source": [
    "n = 0\n",
    "\n",
    "while n in range(5):\n",
    "    n = n + 1\n",
    "    print(f'[{n}번 테이블] 청소 완료!')"
   ]
  },
  {
   "cell_type": "code",
   "execution_count": null,
   "id": "753a3dc4",
   "metadata": {},
   "outputs": [],
   "source": [
    "## **문제 8: 손님이 그만 올 때까지 기다리기**\n",
    "\n",
    "**\"손님이 그만 올 때까지 카운터에서 기다리는 토끼.\"**\n",
    "\n",
    "토끼는 손님이 그만 올 때까지 카운터를 지켜야 합니다.\n",
    "\n",
    "1. 변수 `customers`에 초기값 `5`를 설정하세요.\n",
    "2. `while`문을 사용해 손님이 줄어들 때마다 `customers`를 1씩 감소시키세요.\n",
    "3. 손님이 0이 될 때까지 **\"남은 손님 수: [customers]명\"**을 출력하세요.\n",
    "4. 손님이 모두 떠나면 **\"오늘의 영업이 끝났습니다!\"**를 출력하세요."
   ]
  },
  {
   "cell_type": "code",
   "execution_count": 22,
   "id": "61b5cec1",
   "metadata": {},
   "outputs": [
    {
     "name": "stdout",
     "output_type": "stream",
     "text": [
      "남은 손님 수: 5명\n",
      "남은 손님 수: 4명\n",
      "남은 손님 수: 3명\n",
      "남은 손님 수: 2명\n",
      "남은 손님 수: 1명\n",
      "오늘의 영업이 끝났습니다!\n"
     ]
    }
   ],
   "source": [
    "customers = 5\n",
    "\n",
    "while 0 < customers <= 5:\n",
    "    print(f'남은 손님 수: {customers}명')\n",
    "    customers -= 1\n",
    "\n",
    "else:\n",
    "    print('오늘의 영업이 끝났습니다!')"
   ]
  },
  {
   "cell_type": "code",
   "execution_count": null,
   "id": "28643788",
   "metadata": {},
   "outputs": [],
   "source": [
    "## **문제 9: 알바비 계산하기**\n",
    "\n",
    "**\"토끼는 일한 시간만큼 알바비를 계산합니다.\"**\n",
    "\n",
    "토끼의 시급은 **1시간에 1000원**입니다.\n",
    "\n",
    "1. 변수 `work_hours`에 일한 시간(정수)을 입력받으세요.\n",
    "2. `while`문을 사용해 일한 시간만큼 반복하며 `pay`에 시급을 더하세요.\n",
    "3. 최종 알바비를 **\"오늘의 알바비는 [pay]원입니다.\"**로 출력하세요."
   ]
  },
  {
   "cell_type": "code",
   "execution_count": 27,
   "id": "6b3ad3b2",
   "metadata": {},
   "outputs": [
    {
     "name": "stdout",
     "output_type": "stream",
     "text": [
      "오늘의 알바비는 100000원입니다.\n"
     ]
    }
   ],
   "source": [
    "work_hours = int(input('당신의 일한 시간 \\'정수\\'로 입력하세요 : '))\n",
    "\n",
    "hour_pay = 1000\n",
    "pay = 0\n",
    "\n",
    "while work_hours > 0:\n",
    "    work_hours -= 1\n",
    "    pay += hour_pay\n",
    "\n",
    "print(f'오늘의 알바비는 {pay}원입니다.')\n"
   ]
  },
  {
   "cell_type": "code",
   "execution_count": null,
   "id": "906b666f",
   "metadata": {},
   "outputs": [],
   "source": []
  },
  {
   "cell_type": "code",
   "execution_count": null,
   "id": "8088f279",
   "metadata": {},
   "outputs": [],
   "source": []
  }
 ],
 "metadata": {
  "kernelspec": {
   "display_name": "pystudy_env",
   "language": "python",
   "name": "python3"
  },
  "language_info": {
   "codemirror_mode": {
    "name": "ipython",
    "version": 3
   },
   "file_extension": ".py",
   "mimetype": "text/x-python",
   "name": "python",
   "nbconvert_exporter": "python",
   "pygments_lexer": "ipython3",
   "version": "3.12.11"
  }
 },
 "nbformat": 4,
 "nbformat_minor": 5
}
