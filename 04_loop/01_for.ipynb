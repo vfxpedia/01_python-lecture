{
 "cells": [
  {
   "cell_type": "markdown",
   "id": "ac26b085",
   "metadata": {},
   "source": [
    "### 반복문\n",
    "- for (이터러블?한 객체)"
   ]
  },
  {
   "cell_type": "code",
   "execution_count": 8,
   "id": "c02a5cbc",
   "metadata": {},
   "outputs": [
    {
     "name": "stdout",
     "output_type": "stream",
     "text": [
      "a\n",
      "=====\n",
      "b\n",
      "=====\n",
      "c\n",
      "=====\n",
      "종료\n"
     ]
    }
   ],
   "source": [
    "lst = ['a', 'b', 'c']\n",
    "\n",
    "# for 변수명 in 시퀀스:\n",
    "for ch in lst:\n",
    "    print(ch)\n",
    "    print('=====')\n",
    "\n",
    "print('종료')\n"
   ]
  },
  {
   "cell_type": "code",
   "execution_count": null,
   "id": "6a861733",
   "metadata": {},
   "outputs": [],
   "source": [
    "1. 드시고 싶은 점심 메뉴 3가지를 menu 변수에 튜플로 저장해주세요.\n",
    "2. for문으로 반복하는데 수행코드에 그 요소가 출력되게끔 작성해주시면 됩니다."
   ]
  },
  {
   "cell_type": "code",
   "execution_count": 11,
   "id": "2a926952",
   "metadata": {},
   "outputs": [
    {
     "name": "stdout",
     "output_type": "stream",
     "text": [
      "짜장면\n",
      "짬뽕\n",
      "탕수육\n"
     ]
    }
   ],
   "source": [
    "menu = ('짜장면', '짬뽕', '탕수육')\n",
    "\n",
    "for food in menu:\n",
    "    print(food)"
   ]
  },
  {
   "cell_type": "code",
   "execution_count": 12,
   "id": "c75c95d5",
   "metadata": {},
   "outputs": [
    {
     "name": "stdout",
     "output_type": "stream",
     "text": [
      "h\n",
      "*****\n",
      "e\n",
      "*****\n",
      "l\n",
      "*****\n",
      "l\n",
      "*****\n",
      "o\n",
      "*****\n",
      ",\n",
      "*****\n",
      " \n",
      "*****\n",
      "w\n",
      "*****\n",
      "o\n",
      "*****\n",
      "r\n",
      "*****\n",
      "l\n",
      "*****\n",
      "d\n",
      "*****\n"
     ]
    }
   ],
   "source": [
    "word = 'hello, world'\n",
    "for ch in word:\n",
    "    print(ch)\n",
    "    print('*****')"
   ]
  },
  {
   "cell_type": "code",
   "execution_count": null,
   "id": "b15039f4",
   "metadata": {},
   "outputs": [
    {
     "name": "stdout",
     "output_type": "stream",
     "text": [
      "name = 오흥재\n",
      "age = 37\n",
      "hobby = ['독서', 'OTT 감상']\n"
     ]
    }
   ],
   "source": [
    "# 딕셔너리: for in 문에서 key를 반환한다.?\n",
    "\n",
    "dct = {\n",
    "    'name' : '오흥재',\n",
    "    'age' : 37,\n",
    "    'hobby' : ['독서', 'OTT 감상']\n",
    "}\n",
    "\n",
    "for k in dct:\n",
    "    print(f'{k} = {dct[k]}')\n",
    "    print('-----')"
   ]
  },
  {
   "cell_type": "code",
   "execution_count": null,
   "id": "a4990f45",
   "metadata": {},
   "outputs": [],
   "source": [
    "# 딕셔너리 키만 가져오는 메서드를 사용해서 출력해주세요."
   ]
  },
  {
   "cell_type": "code",
   "execution_count": 32,
   "id": "244d083a",
   "metadata": {},
   "outputs": [
    {
     "name": "stdout",
     "output_type": "stream",
     "text": [
      "name\n",
      "age\n",
      "hobby\n"
     ]
    }
   ],
   "source": [
    "for k in dct.keys():\n",
    "    print(k)"
   ]
  },
  {
   "cell_type": "code",
   "execution_count": null,
   "id": "700130a7",
   "metadata": {},
   "outputs": [],
   "source": [
    "# 딕셔너리 값만 가져오는 메서드를 사용해서 출력해주세요."
   ]
  },
  {
   "cell_type": "code",
   "execution_count": 33,
   "id": "d524970f",
   "metadata": {},
   "outputs": [
    {
     "name": "stdout",
     "output_type": "stream",
     "text": [
      "오흥재\n",
      "37\n",
      "['독서', 'OTT 감상']\n"
     ]
    }
   ],
   "source": [
    "for v in dct.values():\n",
    "    print(v)"
   ]
  },
  {
   "cell_type": "code",
   "execution_count": null,
   "id": "a921f756",
   "metadata": {},
   "outputs": [],
   "source": [
    "# 3-1. 딕셔너리 k, v 하나의 쌍(튜플로)을 가져오는 메서드를 사용해서 출력해주세요."
   ]
  },
  {
   "cell_type": "code",
   "execution_count": 35,
   "id": "edff96b9",
   "metadata": {},
   "outputs": [
    {
     "name": "stdout",
     "output_type": "stream",
     "text": [
      "('name', '오흥재')\n",
      "('age', 37)\n",
      "('hobby', ['독서', 'OTT 감상'])\n"
     ]
    }
   ],
   "source": [
    "for item in dct.items():\n",
    "    print(item)"
   ]
  },
  {
   "cell_type": "code",
   "execution_count": null,
   "id": "47e81336",
   "metadata": {},
   "outputs": [],
   "source": [
    "# 3-2. 딕셔너리 k, v 하나의 분리해서 가져오는 메서드를 사용해서 출력해주세요."
   ]
  },
  {
   "cell_type": "code",
   "execution_count": 36,
   "id": "36c7e519",
   "metadata": {},
   "outputs": [
    {
     "name": "stdout",
     "output_type": "stream",
     "text": [
      "name 오흥재\n",
      "age 37\n",
      "hobby ['독서', 'OTT 감상']\n"
     ]
    }
   ],
   "source": [
    "for k, v in dct.items():\n",
    "    print(k, v)"
   ]
  },
  {
   "cell_type": "code",
   "execution_count": null,
   "id": "28ef8531",
   "metadata": {},
   "outputs": [],
   "source": [
    "{} -> 딕셔너리, set(중복불가, 순서없음)"
   ]
  },
  {
   "cell_type": "code",
   "execution_count": 39,
   "id": "85504ba8",
   "metadata": {},
   "outputs": [
    {
     "name": "stdout",
     "output_type": "stream",
     "text": [
      "레몬\n",
      "청포도\n",
      "두리안\n",
      "사과\n",
      "수박\n",
      "자몽\n",
      "6\n"
     ]
    }
   ],
   "source": [
    "foods = {'자몽', '레몬', '수박', '청포도', '레몬', '두리안', '사과', '수박', '수박'}\n",
    "\n",
    "for f in foods:\n",
    "    print(f)\n",
    "\n",
    "print(len(foods))"
   ]
  },
  {
   "cell_type": "code",
   "execution_count": 40,
   "id": "cf6a954c",
   "metadata": {},
   "outputs": [
    {
     "ename": "NameError",
     "evalue": "name 'num' is not defined",
     "output_type": "error",
     "traceback": [
      "\u001b[31m---------------------------------------------------------------------------\u001b[39m",
      "\u001b[31mNameError\u001b[39m                                 Traceback (most recent call last)",
      "\u001b[36mCell\u001b[39m\u001b[36m \u001b[39m\u001b[32mIn[40]\u001b[39m\u001b[32m, line 1\u001b[39m\n\u001b[32m----> \u001b[39m\u001b[32m1\u001b[39m \u001b[38;5;28;01mfor\u001b[39;00m _ \u001b[38;5;129;01min\u001b[39;00m \u001b[38;5;28mrange\u001b[39m(\u001b[43mnum\u001b[49m):\n\u001b[32m      2\u001b[39m     \u001b[38;5;28mprint\u001b[39m(\u001b[33m'\u001b[39m\u001b[33mtest\u001b[39m\u001b[33m'\u001b[39m)\n",
      "\u001b[31mNameError\u001b[39m: name 'num' is not defined"
     ]
    }
   ],
   "source": [
    "for _ in range(num):\n",
    "    print('test')"
   ]
  },
  {
   "cell_type": "code",
   "execution_count": 41,
   "id": "67afa021",
   "metadata": {},
   "outputs": [
    {
     "name": "stdout",
     "output_type": "stream",
     "text": [
      "range(0, 10) <class 'range'>\n"
     ]
    }
   ],
   "source": [
    "print(range(10), type(range(10)))"
   ]
  },
  {
   "cell_type": "code",
   "execution_count": 42,
   "id": "eedb7300",
   "metadata": {},
   "outputs": [
    {
     "data": {
      "text/plain": [
       "range(0, 10)"
      ]
     },
     "execution_count": 42,
     "metadata": {},
     "output_type": "execute_result"
    }
   ],
   "source": [
    "range(10)"
   ]
  },
  {
   "cell_type": "code",
   "execution_count": 49,
   "id": "9608d4ee",
   "metadata": {},
   "outputs": [
    {
     "name": "stdout",
     "output_type": "stream",
     "text": [
      "0\n",
      "1\n",
      "2\n",
      "3\n",
      "4\n",
      "5\n",
      "6\n",
      "7\n",
      "8\n",
      "9\n"
     ]
    }
   ],
   "source": [
    "# range 함수를 사용해서 10을 넣고 그 요소를 출력해주세요.\n",
    "for i in range(10):\n",
    "    print(i)"
   ]
  },
  {
   "cell_type": "code",
   "execution_count": 50,
   "id": "e3cf5d45",
   "metadata": {},
   "outputs": [
    {
     "name": "stdout",
     "output_type": "stream",
     "text": [
      "2\n",
      "3\n",
      "4\n",
      "5\n",
      "6\n",
      "7\n",
      "8\n",
      "9\n"
     ]
    }
   ],
   "source": [
    "for i in range(2, 10):\n",
    "    print(i)"
   ]
  },
  {
   "cell_type": "code",
   "execution_count": 57,
   "id": "bafd688c",
   "metadata": {},
   "outputs": [
    {
     "name": "stdout",
     "output_type": "stream",
     "text": [
      "1 1\n",
      "2 3\n",
      "3 6\n",
      "4 10\n",
      "5 15\n",
      "6 21\n",
      "7 28\n",
      "8 36\n",
      "9 45\n",
      "10 55\n"
     ]
    }
   ],
   "source": [
    "sum = 0\n",
    "\n",
    "for i in range(1, 11):\n",
    "    sum = sum + i\n",
    "    print(i, sum)"
   ]
  },
  {
   "cell_type": "markdown",
   "id": "596b18ca",
   "metadata": {},
   "source": [
    "---\n",
    "### **실습 문제**"
   ]
  },
  {
   "cell_type": "code",
   "execution_count": null,
   "id": "f460ae8a",
   "metadata": {},
   "outputs": [],
   "source": [
    "## **문제 1: 손님 응대하기**\n",
    "\n",
    "**\"토끼는 카페에서 아르바이트를 시작했다.\"**\n",
    "\n",
    "토끼는 손님들에게 인사를 해야 합니다.\n",
    "\n",
    "1. 손님 리스트 `customers`에 다음과 같은 손님들이 있습니다.\n",
    "    - `'판다', '곰', '여우', '호랑이'`\n",
    "2. `for`문을 사용하여 **각 손님에게 다음과 같은 메시지를 출력하세요**:\n",
    "    - **\"안녕하세요, [손님 이름]님! 무엇을 도와드릴까요?\"**"
   ]
  },
  {
   "cell_type": "code",
   "execution_count": 58,
   "id": "274dff8e",
   "metadata": {},
   "outputs": [
    {
     "name": "stdout",
     "output_type": "stream",
     "text": [
      "안녕하세요, 판다님! 무엇을 도와드릴까요?\n",
      "안녕하세요, 곰님! 무엇을 도와드릴까요?\n",
      "안녕하세요, 여우님! 무엇을 도와드릴까요?\n",
      "안녕하세요, 호랑이님! 무엇을 도와드릴까요?\n"
     ]
    }
   ],
   "source": [
    "customers = ['판다', '곰', '여우', '호랑이']\n",
    "\n",
    "for name in customers:\n",
    "    print(f'안녕하세요, {name}님! 무엇을 도와드릴까요?')"
   ]
  },
  {
   "cell_type": "code",
   "execution_count": null,
   "id": "24526a4b",
   "metadata": {},
   "outputs": [],
   "source": [
    "## **문제 2: 메뉴 준비하기**\n",
    "\n",
    "**\"토끼는 주문받은 음료를 준비해야 한다.\"**\n",
    "\n",
    "토끼는 손님들이 주문한 음료를 준비합니다.\n",
    "\n",
    "1. 주문 리스트 `orders`에 다음 음료가 있습니다.\n",
    "    - `'아메리카노', '카페라떼', '핫초코'`\n",
    "2. `for`문을 사용하여 **각 음료를 준비하는 메시지를 출력하세요**:\n",
    "    - **\"[음료 이름]를 준비 중입니다...\"**"
   ]
  },
  {
   "cell_type": "code",
   "execution_count": 59,
   "id": "61a340da",
   "metadata": {},
   "outputs": [
    {
     "name": "stdout",
     "output_type": "stream",
     "text": [
      "아메리카노를 준비 중입니다...\n",
      "카페라떼를 준비 중입니다...\n",
      "핫초코를 준비 중입니다...\n"
     ]
    }
   ],
   "source": [
    "orders = ['아메리카노', '카페라떼', '핫초코']\n",
    "\n",
    "for menu in orders:\n",
    "    print(f'{menu}를 준비 중입니다...')"
   ]
  },
  {
   "cell_type": "code",
   "execution_count": null,
   "id": "92a50659",
   "metadata": {},
   "outputs": [],
   "source": [
    "## **문제 3: 청소하기**\n",
    "\n",
    "**\"일이 끝난 후, 토끼는 테이블을 청소해야 한다.\"**\n",
    "\n",
    "토끼는 카페의 테이블을 하나씩 청소합니다.\n",
    "\n",
    "1. 테이블 리스트 `tables`에 숫자 `1`부터 `5`까지의 테이블 번호가 있습니다.\n",
    "2. `for`문을 사용하여 **각 테이블을 청소하는 메시지를 출력하세요.**\n",
    "    - **\"[n번 테이블] 청소 완료!\"**"
   ]
  },
  {
   "cell_type": "code",
   "execution_count": null,
   "id": "30c26fdb",
   "metadata": {},
   "outputs": [
    {
     "name": "stdout",
     "output_type": "stream",
     "text": [
      "[1번 테이블] 청소 완료!\n",
      "[2번 테이블] 청소 완료!\n",
      "[3번 테이블] 청소 완료!\n",
      "[4번 테이블] 청소 완료!\n",
      "[5번 테이블] 청소 완료!\n"
     ]
    }
   ],
   "source": [
    "tables = [1, 2, 3, 4, 5]\n",
    "for n in tables:\n",
    "    print(f'[{n}번 테이블] 청소 완료!')\n",
    "\n",
    "# for n in range(1,6):\n",
    "#     print(f'{n}')"
   ]
  },
  {
   "cell_type": "markdown",
   "id": "c2af1ade",
   "metadata": {},
   "source": [
    "## **문제 4: 시간 기록하기**\n",
    "\n",
    "**\"토끼는 출근한 후 시간마다 일을 기록해야 한다.\"**\n",
    "\n",
    "토끼는 9시부터 12시까지 1시간마다 기록을 남깁니다.\n",
    "\n",
    "1. `for-range`를 사용하여 9부터 12까지의 시간을 반복하세요.\n",
    "2. 각 시간마다 **\"현재 시간: [시간]시, 근무 기록합니다.\"**를 출력하세요."
   ]
  },
  {
   "cell_type": "code",
   "execution_count": null,
   "id": "b0885a11",
   "metadata": {},
   "outputs": [
    {
     "name": "stdout",
     "output_type": "stream",
     "text": [
      "현재 시간 : [9]시, 근무 기록합니다.\n",
      "현재 시간 : [10]시, 근무 기록합니다.\n",
      "현재 시간 : [11]시, 근무 기록합니다.\n",
      "현재 시간 : [12]시, 근무 기록합니다.\n"
     ]
    }
   ],
   "source": [
    "for i in range(9,13):\n",
    "    print(f'현재 시간 : {i}시, 근무 기록합니다.')"
   ]
  },
  {
   "cell_type": "code",
   "execution_count": null,
   "id": "13a86d42",
   "metadata": {},
   "outputs": [],
   "source": [
    "## **문제 5: 손님 수 세기**\n",
    "\n",
    "**\"손님이 계속 들어오고 있습니다.\"**\n",
    "\n",
    "토끼는 10명의 손님이 들어올 때마다 번호를 세야 합니다.\n",
    "\n",
    "1. `for-range`를 사용하여 숫자 `1`부터 `10`까지 출력하세요.\n",
    "2. 각 손님마다 **\"손님 [번호]번째 입장!\"**을 출력하세요."
   ]
  },
  {
   "cell_type": "code",
   "execution_count": null,
   "id": "0210d508",
   "metadata": {},
   "outputs": [
    {
     "name": "stdout",
     "output_type": "stream",
     "text": [
      "1\n",
      "2\n",
      "3\n",
      "4\n",
      "5\n",
      "6\n",
      "7\n",
      "8\n",
      "9\n",
      "10\n",
      "손님 1번째 입장!\n",
      "손님 2번째 입장!\n",
      "손님 3번째 입장!\n",
      "손님 4번째 입장!\n",
      "손님 5번째 입장!\n",
      "손님 6번째 입장!\n",
      "손님 7번째 입장!\n",
      "손님 8번째 입장!\n",
      "손님 9번째 입장!\n",
      "손님 10번째 입장!\n"
     ]
    }
   ],
   "source": [
    "for c in range(10):\n",
    "    c = c + 1\n",
    "    print(c)\n",
    "\n",
    "for c in range(10):\n",
    "    c = c + 1\n",
    "    print(f'손님 {c}번째 입장!')"
   ]
  },
  {
   "cell_type": "code",
   "execution_count": null,
   "id": "72d3038b",
   "metadata": {},
   "outputs": [],
   "source": [
    "## **문제 6: 커피 만들기**\n",
    "\n",
    "**\"주문받은 커피를 몇 잔 만들까?\"**\n",
    "\n",
    "토끼는 주문받은 커피의 수량을 만들려고 합니다.\n",
    "\n",
    "1. `for-range`를 사용해 숫자 `1`부터 `5`까지의 커피 번호를 반복하세요.\n",
    "2. 각 커피마다 **\"[커피 번호]번째 커피를 만들고 있습니다.\"**를 출력하세요."
   ]
  },
  {
   "cell_type": "code",
   "execution_count": 73,
   "id": "0fda7f98",
   "metadata": {},
   "outputs": [
    {
     "name": "stdout",
     "output_type": "stream",
     "text": [
      "1번째 커피를 만들고 있습니다.\n",
      "2번째 커피를 만들고 있습니다.\n",
      "3번째 커피를 만들고 있습니다.\n",
      "4번째 커피를 만들고 있습니다.\n",
      "5번째 커피를 만들고 있습니다.\n"
     ]
    }
   ],
   "source": [
    "for i in range(1,6):\n",
    "    print(f'{i}번째 커피를 만들고 있습니다.')"
   ]
  },
  {
   "cell_type": "code",
   "execution_count": null,
   "id": "d7ac2987",
   "metadata": {},
   "outputs": [],
   "source": [
    "## **문제 7: 테이블 청소하기**\n",
    "\n",
    "**토끼는 닫기 전에 테이블을 모두 청소해야 한다.\"**\n",
    "\n",
    "토끼는 5번 테이블까지 순서대로 청소해야 합니다.\n",
    "\n",
    "1. `while`문을 사용하여 `1`번부터 `5`번 테이블을 청소하세요.\n",
    "2. 각 테이블마다 **\"[n번 테이블] 청소 완료!\"**를 출력하세요."
   ]
  },
  {
   "cell_type": "code",
   "execution_count": null,
   "id": "b023354f",
   "metadata": {},
   "outputs": [
    {
     "name": "stdout",
     "output_type": "stream",
     "text": [
      "[1번 테이블] 청소 완료!\n",
      "[2번 테이블] 청소 완료!\n",
      "[3번 테이블] 청소 완료!\n",
      "[4번 테이블] 청소 완료!\n",
      "[5번 테이블] 청소 완료!\n"
     ]
    }
   ],
   "source": [
    "n = 0\n",
    "\n",
    "while n in range(5):\n",
    "    n = n + 1\n",
    "    print(f'[{n}번 테이블] 청소 완료!')"
   ]
  },
  {
   "cell_type": "code",
   "execution_count": null,
   "id": "efeb47af",
   "metadata": {},
   "outputs": [],
   "source": [
    "## **문제 8: 손님이 그만 올 때까지 기다리기**\n",
    "\n",
    "**\"손님이 그만 올 때까지 카운터에서 기다리는 토끼.\"**\n",
    "\n",
    "토끼는 손님이 그만 올 때까지 카운터를 지켜야 합니다.\n",
    "\n",
    "1. 변수 `customers`에 초기값 `5`를 설정하세요.\n",
    "2. `while`문을 사용해 손님이 줄어들 때마다 `customers`를 1씩 감소시키세요.\n",
    "3. 손님이 0이 될 때까지 **\"남은 손님 수: [customers]명\"**을 출력하세요.\n",
    "4. 손님이 모두 떠나면 **\"오늘의 영업이 끝났습니다!\"**를 출력하세요."
   ]
  },
  {
   "cell_type": "code",
   "execution_count": 80,
   "id": "a131e1d3",
   "metadata": {},
   "outputs": [
    {
     "name": "stdout",
     "output_type": "stream",
     "text": [
      "남은 손님 수: 4명\n",
      "남은 손님 수: 3명\n",
      "남은 손님 수: 2명\n",
      "남은 손님 수: 1명\n",
      "남은 손님 수: 0명\n",
      "오늘의 영업이 끝났습니다!\n"
     ]
    }
   ],
   "source": [
    "customers = 5\n",
    "\n",
    "while 0 < customers <= 5:\n",
    "    customers -= 1\n",
    "    print(f'남은 손님 수: {customers}명')\n",
    "\n",
    "else:\n",
    "    print('오늘의 영업이 끝났습니다!')"
   ]
  },
  {
   "cell_type": "code",
   "execution_count": null,
   "id": "10436002",
   "metadata": {},
   "outputs": [],
   "source": [
    "## **문제 9: 알바비 계산하기**\n",
    "\n",
    "**\"토끼는 일한 시간만큼 알바비를 계산합니다.\"**\n",
    "\n",
    "토끼의 시급은 **1시간에 1000원**입니다.\n",
    "\n",
    "1. 변수 `work_hours`에 일한 시간(정수)을 입력받으세요.\n",
    "2. `while`문을 사용해 일한 시간만큼 반복하며 `pay`에 시급을 더하세요.\n",
    "3. 최종 알바비를 **\"오늘의 알바비는 [pay]원입니다.\"**로 출력하세요."
   ]
  },
  {
   "cell_type": "code",
   "execution_count": 86,
   "id": "d8e9f1cb",
   "metadata": {},
   "outputs": [],
   "source": [
    "work_hours = int(input('당신의 일한 시간 \\'정수\\'로 입력하세요 : '))\n",
    "t = 0\n",
    "while t != 0:\n",
    "    t -= 1\n",
    "    pay += pay\n",
    "    print(f'오늘의 알바비는 {pay}원입니다.')\n",
    "else:\n",
    "    pass"
   ]
  },
  {
   "cell_type": "code",
   "execution_count": null,
   "id": "04f61445",
   "metadata": {},
   "outputs": [],
   "source": []
  }
 ],
 "metadata": {
  "kernelspec": {
   "display_name": "pystudy_env",
   "language": "python",
   "name": "python3"
  },
  "language_info": {
   "codemirror_mode": {
    "name": "ipython",
    "version": 3
   },
   "file_extension": ".py",
   "mimetype": "text/x-python",
   "name": "python",
   "nbconvert_exporter": "python",
   "pygments_lexer": "ipython3",
   "version": "3.12.11"
  }
 },
 "nbformat": 4,
 "nbformat_minor": 5
}
