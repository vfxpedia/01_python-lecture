{
 "cells": [
  {
   "cell_type": "markdown",
   "id": "86ce344a",
   "metadata": {},
   "source": [
    "### Comprehension\n",
    " - 짧고 아주 간결하게 list, dict 를 생성할 수 있는 Python 문법\n",
    " - 기존의 반복문을 한 줄로 표현\n",
    " - 리스트 내포\n",
    " - 딕셔너리 내포"
   ]
  },
  {
   "cell_type": "code",
   "execution_count": 4,
   "id": "73f8b9a0",
   "metadata": {},
   "outputs": [
    {
     "name": "stdout",
     "output_type": "stream",
     "text": [
      "[1, 2, 3, 4, 5, 6, 7, 8, 9, 10]\n"
     ]
    }
   ],
   "source": [
    "# 1~10까지의 값을 가진 리스트를 생성\n",
    "\n",
    "lst = []\n",
    "for i in range(1,11):\n",
    "    lst.append(i)\n",
    "\n",
    "print(lst)"
   ]
  },
  {
   "cell_type": "code",
   "execution_count": 5,
   "id": "d7e52fd6",
   "metadata": {},
   "outputs": [
    {
     "name": "stdout",
     "output_type": "stream",
     "text": [
      "[1, 2, 3, 4, 5, 6, 7, 8, 9, 10]\n"
     ]
    }
   ],
   "source": [
    "# List Comprehesion\n",
    "# 표현식 : [표현식 for 요소 in 반복가능객체 if 조건]\n",
    "\n",
    "lst = [i for i in range(1,11)]\n",
    "print(lst)"
   ]
  },
  {
   "cell_type": "code",
   "execution_count": 11,
   "id": "3d8fdaea",
   "metadata": {},
   "outputs": [
    {
     "name": "stdout",
     "output_type": "stream",
     "text": [
      "{1: 1, 3: 9, 5: 25, 7: 49, 9: 81, 11: 121, 13: 169, 15: 225, 17: 289, 19: 361, 21: 441, 23: 529, 25: 625, 27: 729, 29: 841, 31: 961, 33: 1089, 35: 1225, 37: 1369, 39: 1521, 41: 1681, 43: 1849, 45: 2025, 47: 2209, 49: 2401, 51: 2601, 53: 2809, 55: 3025, 57: 3249, 59: 3481, 61: 3721, 63: 3969, 65: 4225, 67: 4489, 69: 4761, 71: 5041, 73: 5329, 75: 5625, 77: 5929, 79: 6241, 81: 6561, 83: 6889, 85: 7225, 87: 7569, 89: 7921, 91: 8281, 93: 8649, 95: 9025, 97: 9409, 99: 9801}\n"
     ]
    }
   ],
   "source": [
    "my_dct = {}\n",
    "for n in range(1,101):\n",
    "    if n % 2 != 0:\n",
    "        my_dct[n] = n ** 2\n",
    "\n",
    "print(my_dct)\n"
   ]
  },
  {
   "cell_type": "code",
   "execution_count": 13,
   "id": "aad60746",
   "metadata": {},
   "outputs": [
    {
     "name": "stdout",
     "output_type": "stream",
     "text": [
      "{1: 1, 3: 9, 5: 25, 7: 49, 9: 81, 11: 121, 13: 169, 15: 225, 17: 289, 19: 361, 21: 441, 23: 529, 25: 625, 27: 729, 29: 841, 31: 961, 33: 1089, 35: 1225, 37: 1369, 39: 1521, 41: 1681, 43: 1849, 45: 2025, 47: 2209, 49: 2401, 51: 2601, 53: 2809, 55: 3025, 57: 3249, 59: 3481, 61: 3721, 63: 3969, 65: 4225, 67: 4489, 69: 4761, 71: 5041, 73: 5329, 75: 5625, 77: 5929, 79: 6241, 81: 6561, 83: 6889, 85: 7225, 87: 7569, 89: 7921, 91: 8281, 93: 8649, 95: 9025, 97: 9409, 99: 9801}\n"
     ]
    }
   ],
   "source": [
    "# Dictionary Comprehension\n",
    "# 표현식 : {키: 값 for 요소 in 반복가능객체 if 조건}\n",
    "\n",
    "my_dct = {n: n**2 for n in range(1,101) if n % 2 != 0}\n",
    "\n",
    "print(my_dct)"
   ]
  },
  {
   "cell_type": "code",
   "execution_count": null,
   "id": "c4dfe9f1",
   "metadata": {},
   "outputs": [],
   "source": []
  }
 ],
 "metadata": {
  "kernelspec": {
   "display_name": "pystudy_env",
   "language": "python",
   "name": "python3"
  },
  "language_info": {
   "codemirror_mode": {
    "name": "ipython",
    "version": 3
   },
   "file_extension": ".py",
   "mimetype": "text/x-python",
   "name": "python",
   "nbconvert_exporter": "python",
   "pygments_lexer": "ipython3",
   "version": "3.12.11"
  }
 },
 "nbformat": 4,
 "nbformat_minor": 5
}
