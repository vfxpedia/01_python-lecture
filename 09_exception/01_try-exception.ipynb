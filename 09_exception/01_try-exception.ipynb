{
 "cells": [
  {
   "cell_type": "markdown",
   "id": "14487d7a",
   "metadata": {},
   "source": [
    "### 예외 처리\n",
    "\n",
    "시스템을 구성할 때, 예외 만들어서 쓰기도 합니다.\n",
    "원하는 메세지 커스터 마이징\n",
    "기존의 에러 메세지"
   ]
  },
  {
   "cell_type": "code",
   "execution_count": null,
   "id": "ddc3d8b7",
   "metadata": {},
   "outputs": [],
   "source": [
    "try:\n",
    "    code()\n",
    "except:\n",
    "    code()"
   ]
  },
  {
   "cell_type": "code",
   "execution_count": 1,
   "id": "9180c128",
   "metadata": {},
   "outputs": [],
   "source": [
    "class NotMyTeacher(Exception):    # 예외를 만들기 위해서는 Exception 를 반드시 상속받아야한다. 기본 클래스\n",
    "    pass"
   ]
  },
  {
   "cell_type": "code",
   "execution_count": null,
   "id": "405b1cd7",
   "metadata": {},
   "outputs": [
    {
     "ename": "NotMyTeacher",
     "evalue": "선생님 이름도 모르다니...",
     "output_type": "error",
     "traceback": [
      "\u001b[31m---------------------------------------------------------------------------\u001b[39m",
      "\u001b[31mNotMyTeacher\u001b[39m                              Traceback (most recent call last)",
      "\u001b[36mCell\u001b[39m\u001b[36m \u001b[39m\u001b[32mIn[4]\u001b[39m\u001b[32m, line 7\u001b[39m\n\u001b[32m      4\u001b[39m     \u001b[38;5;28mprint\u001b[39m(\u001b[33m'\u001b[39m\u001b[33m훌륭합니다!\u001b[39m\u001b[33m'\u001b[39m)\n\u001b[32m      6\u001b[39m \u001b[38;5;28;01melse\u001b[39;00m:\n\u001b[32m----> \u001b[39m\u001b[32m7\u001b[39m     \u001b[38;5;28;01mraise\u001b[39;00m NotMyTeacher(\u001b[33m'\u001b[39m\u001b[33m선생님 이름도 모르다니...\u001b[39m\u001b[33m'\u001b[39m)\n",
      "\u001b[31mNotMyTeacher\u001b[39m: 선생님 이름도 모르다니..."
     ]
    }
   ],
   "source": [
    "teacher_name = input('당신의 선생님 이름은 무엇입니까? > ')\n",
    "\n",
    "if teacher_name == '토끼':\n",
    "    print('훌륭합니다!')\n",
    "\n",
    "else:\n",
    "    raise NotMyTeacher('선생님 이름도 모르다니...')    # raise를 키워드를 통해서 예외를 발생시킨다.\n",
    "\n",
    "# 인자로 문자열을 넘겨줘서 예외가 발생할 대 같이 보여지는 메세지로 줄 수 있다"
   ]
  },
  {
   "cell_type": "code",
   "execution_count": 6,
   "id": "722e4eac",
   "metadata": {},
   "outputs": [],
   "source": [
    "# teacher_name = input('당신의 선생님 이름은 무엇입니까? > ')\n",
    "\n",
    "def check_teacher(teacher_name):\n",
    "    if teacher_name == '토끼':\n",
    "        print('훌륭합니다!')\n",
    "\n",
    "    else:\n",
    "        raise NotMyTeacher('선생님 이름도 모르다니...')    # raise를 키워드를 통해서 예외를 발생시킨다."
   ]
  },
  {
   "cell_type": "code",
   "execution_count": 7,
   "id": "b9267451",
   "metadata": {},
   "outputs": [
    {
     "name": "stdout",
     "output_type": "stream",
     "text": [
      "훌륭합니다!\n"
     ]
    },
    {
     "ename": "NotMyTeacher",
     "evalue": "선생님 이름도 모르다니...",
     "output_type": "error",
     "traceback": [
      "\u001b[31m---------------------------------------------------------------------------\u001b[39m",
      "\u001b[31mNotMyTeacher\u001b[39m                              Traceback (most recent call last)",
      "\u001b[36mCell\u001b[39m\u001b[36m \u001b[39m\u001b[32mIn[7]\u001b[39m\u001b[32m, line 2\u001b[39m\n\u001b[32m      1\u001b[39m check_teacher(\u001b[33m\"\u001b[39m\u001b[33m토끼\u001b[39m\u001b[33m\"\u001b[39m)\n\u001b[32m----> \u001b[39m\u001b[32m2\u001b[39m \u001b[43mcheck_teacher\u001b[49m\u001b[43m(\u001b[49m\u001b[33;43m\"\u001b[39;49m\u001b[33;43m다람쥐\u001b[39;49m\u001b[33;43m\"\u001b[39;49m\u001b[43m)\u001b[49m\n\u001b[32m      4\u001b[39m \u001b[38;5;28mprint\u001b[39m(\u001b[33m\"\u001b[39m\u001b[33m검증 완료!!\u001b[39m\u001b[33m\"\u001b[39m)\n",
      "\u001b[36mCell\u001b[39m\u001b[36m \u001b[39m\u001b[32mIn[6]\u001b[39m\u001b[32m, line 8\u001b[39m, in \u001b[36mcheck_teacher\u001b[39m\u001b[34m(teacher_name)\u001b[39m\n\u001b[32m      5\u001b[39m     \u001b[38;5;28mprint\u001b[39m(\u001b[33m'\u001b[39m\u001b[33m훌륭합니다!\u001b[39m\u001b[33m'\u001b[39m)\n\u001b[32m      7\u001b[39m \u001b[38;5;28;01melse\u001b[39;00m:\n\u001b[32m----> \u001b[39m\u001b[32m8\u001b[39m     \u001b[38;5;28;01mraise\u001b[39;00m NotMyTeacher(\u001b[33m'\u001b[39m\u001b[33m선생님 이름도 모르다니...\u001b[39m\u001b[33m'\u001b[39m)\n",
      "\u001b[31mNotMyTeacher\u001b[39m: 선생님 이름도 모르다니..."
     ]
    }
   ],
   "source": [
    "check_teacher(\"토끼\")\n",
    "check_teacher(\"다람쥐\")\n",
    "\n",
    "print(\"검증 완료!!\")"
   ]
  },
  {
   "cell_type": "code",
   "execution_count": null,
   "id": "50e03b7e",
   "metadata": {},
   "outputs": [
    {
     "ename": "SyntaxError",
     "evalue": "'break' outside loop (2611427019.py, line 14)",
     "output_type": "error",
     "traceback": [
      "  \u001b[36mCell\u001b[39m\u001b[36m \u001b[39m\u001b[32mIn[24]\u001b[39m\u001b[32m, line 14\u001b[39m\n\u001b[31m    \u001b[39m\u001b[31mbreak\u001b[39m\n    ^\n\u001b[31mSyntaxError\u001b[39m\u001b[31m:\u001b[39m 'break' outside loop\n"
     ]
    }
   ],
   "source": [
    "user_input1 = input('당신의 선생님 이름을 입력하세요: ')            # 토끼 입력\n",
    "user_input2 = input('당신의 선생님 이름을 다시 한번 입력하세요: ')   # 다람쥐 입력\n",
    "\n",
    "def check_teacher(teacher_name):\n",
    "    if teacher_name == '토끼':\n",
    "        print('훌륭합니다!')\n",
    "\n",
    "    else:\n",
    "        raise NotMyTeacher('선생님 이름도 모르다니...')    # raise를 키워드를 통해서 예외를 발생시킨다.\n",
    "\n",
    "try:\n",
    "    check_teacher(user_input1)\n",
    "    if user_input1 == 토끼:\n",
    "        sys.exit()\n",
    "except:\n",
    "    print(\"에러가 발생했어요!\")\n",
    "    pass\n",
    "try:\n",
    "    check_teacher(user_input2)\n",
    "except:\n",
    "    print(\"에러...\")\n",
    "\n",
    "print(\"끄읏\")\n",
    "\n",
    "    # 위에서 예외 처리의 필요성\n",
    "    # 예외에 대한 컨트롤/예외 컨트롤이 필요하다\n",
    "    # 예외가 발생할 법한, 발생 가능성이 있는 코드를 찾아요.\n",
    "    # 그 코드를 try: "
   ]
  },
  {
   "cell_type": "code",
   "execution_count": 34,
   "id": "51a4e3d2",
   "metadata": {},
   "outputs": [
    {
     "name": "stdout",
     "output_type": "stream",
     "text": [
      "8\n",
      "4.0\n",
      "else는 언제 출력될까요? 예외가 발생하지 않았을 때! = (try 구문 내 코드가 정상 동작했을 때)\n",
      "finally는 언제 출력될까요? 언제나!\n"
     ]
    }
   ],
   "source": [
    "idx_num = int(input('인덱스 번호를 입력하세요\" '))\n",
    "div_num = int(input('나누는 수를 입력하세요\" '))\n",
    "\n",
    "date_list = [2025, 8, 26]\n",
    "\n",
    "try:\n",
    "    print(date_list[idx_num])\n",
    "    print(date_list[1] / div_num)\n",
    "\n",
    "except IndexError as e:\n",
    "     # e : 예외 e\n",
    "    print(\"IndexError 발생\")\n",
    "    print(e)\n",
    "except ZeroDivisionError:\n",
    "    print(\"ZeroDivisionError 발생\")\n",
    "except:\n",
    "    print('그 외 모든 에러')\n",
    "else:\n",
    "    print(\"else는 언제 출력될까요? 예외가 발생하지 않았을 때! = (try 구문 내 코드가 정상 동작했을 때)\")\n",
    "finally:\n",
    "    print(\"finally는 언제 출력될까요? 언제나!\")"
   ]
  },
  {
   "cell_type": "code",
   "execution_count": null,
   "id": "c32e236b",
   "metadata": {},
   "outputs": [],
   "source": [
    "date_list = [2025, 8, 26]\n",
    "date_list[100]"
   ]
  },
  {
   "cell_type": "code",
   "execution_count": null,
   "id": "660c6435",
   "metadata": {},
   "outputs": [],
   "source": [
    "test_div = date_list[1]/0"
   ]
  },
  {
   "cell_type": "code",
   "execution_count": null,
   "id": "393d4e02",
   "metadata": {},
   "outputs": [],
   "source": []
  },
  {
   "cell_type": "code",
   "execution_count": null,
   "id": "c07d7aea",
   "metadata": {},
   "outputs": [],
   "source": [
    "except:\n",
    "- 모든 예외 상황을 커버하는 블럭\n",
    "\n",
    "except ZeroDivisionError:\n",
    "- 익셉트 그 뒤에 발생하는 에러의 이름이 들어가 있는 경우 -> 이 에러가 발생하면 그 안쪽에 있는 코드를 실행하라는 의미"
   ]
  },
  {
   "cell_type": "code",
   "execution_count": 1,
   "id": "2cd40a21",
   "metadata": {},
   "outputs": [
    {
     "name": "stdout",
     "output_type": "stream",
     "text": [
      "곰\n",
      "허용되지 않는 별명입니다.\n"
     ]
    }
   ],
   "source": [
    "class MyError(Exception):\n",
    "    pass\n",
    "def say_nick(nick):\n",
    "    if nick == '돼지':\n",
    "        raise MyError()\n",
    "    print(nick)\n",
    "\n",
    "try:\n",
    "    say_nick(\"곰\")\n",
    "    say_nick(\"돼지\")\n",
    "    \n",
    "except MyError:\n",
    "    print(\"허용되지 않는 별명입니다.\")"
   ]
  },
  {
   "cell_type": "code",
   "execution_count": 2,
   "id": "5bde20df",
   "metadata": {},
   "outputs": [
    {
     "name": "stdout",
     "output_type": "stream",
     "text": [
      "미성년자는 출입금지입니다.\n"
     ]
    }
   ],
   "source": [
    "try:\n",
    "    age=int(input('나이를 입력하세요: '))\n",
    "except:\n",
    "    print('입력이 정확하지 않습니다.')\n",
    "else:\n",
    "    if age <= 18:\n",
    "        print('미성년자는 출입금지입니다.')\n",
    "    else:\n",
    "        print('환영합니다.')"
   ]
  },
  {
   "cell_type": "code",
   "execution_count": null,
   "id": "ffce68a7",
   "metadata": {},
   "outputs": [],
   "source": [
    "라이브러리 vs 프레임워크\n",
    "어떤 기능을 제공함\n",
    "차이점 : 라이브러리는 단순 기능을 제공, 간단하게 처리할 수 있는...\n",
    "프레임워크 -> 어떠한 시스템을 구성할 수 있는 툴이 되는 기능들을 제공해 준다."
   ]
  },
  {
   "cell_type": "code",
   "execution_count": null,
   "id": "db277499",
   "metadata": {},
   "outputs": [],
   "source": [
    "무언가 입력하면 화면에 출력하는 페이지.\n",
    "\n",
    "pandas 데이터 프레임을 보여주는 페이지\n",
    "\n",
    "세션 스트레이트까지 "
   ]
  }
 ],
 "metadata": {
  "kernelspec": {
   "display_name": "pystudy_env",
   "language": "python",
   "name": "python3"
  },
  "language_info": {
   "codemirror_mode": {
    "name": "ipython",
    "version": 3
   },
   "file_extension": ".py",
   "mimetype": "text/x-python",
   "name": "python",
   "nbconvert_exporter": "python",
   "pygments_lexer": "ipython3",
   "version": "3.12.11"
  }
 },
 "nbformat": 4,
 "nbformat_minor": 5
}
