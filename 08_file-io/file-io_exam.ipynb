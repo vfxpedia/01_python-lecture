{
 "cells": [
  {
   "cell_type": "markdown",
   "id": "fd8eb458",
   "metadata": {},
   "source": [
    "### **문제 1: `.txt` 파일 생성 및 쓰기**\n",
    "\n",
    "토끼는 하루 동안 배운 내용을 기록하기 위해 일기를 작성합니다. 다음 작업을 수행하세요.\n",
    "\n",
    "1. `diary.txt` 파일을 생성하고, 토끼가 오늘 배운 내용을 작성하세요.\n",
    "2. 내용:\n",
    "    \n",
    "    ```\n",
    "    오늘은 파일 입출력을 배웠습니다.\n",
    "    다양한 파일 확장자와 접근 모드를 사용할 수 있다는 점이 흥미로웠습니다.\n",
    "    ```\n",
    "    \n",
    "3. 파일을 닫고 다시 열어 작성된 내용을 출력하세요."
   ]
  },
  {
   "cell_type": "code",
   "execution_count": 3,
   "id": "5712f45d",
   "metadata": {},
   "outputs": [
    {
     "name": "stdout",
     "output_type": "stream",
     "text": [
      "오늘은 파일 입출력을 배웠습니다.\n",
      "다양한 파일 확장자와 접근 모드를 사용할 수 있다는 점이 흥미로웠습니다.\n"
     ]
    }
   ],
   "source": [
    "f = open('diary.txt', 'w', encoding='utf-8')\n",
    "\n",
    "f.write('오늘은 파일 입출력을 배웠습니다.\\n다양한 파일 확장자와 접근 모드를 사용할 수 있다는 점이 흥미로웠습니다.')\n",
    "\n",
    "f.close()\n",
    "\n",
    "f = open('diary.txt', 'r')\n",
    "\n",
    "print(f.read())\n",
    "\n",
    "f.close()"
   ]
  },
  {
   "cell_type": "markdown",
   "id": "cbde9bce",
   "metadata": {},
   "source": [
    "### **문제 2: `.csv` 파일 생성 및 읽기**\n",
    "\n",
    "토끼는 이직 준비를 위해 지원했던 회사들의 정보를 저장하려고 합니다.\n",
    "\n",
    "1. `applications.csv` 파일을 생성하고 다음 데이터를 작성하세요.\n",
    "    \n",
    "    ```\n",
    "    회사명,직무,결과\n",
    "    회사A,데이터 분석가,합격\n",
    "    회사B,소프트웨어 엔지니어,불합격\n",
    "    회사C,제품 관리자,진행 중\n",
    "    ```\n",
    "    \n",
    "2. 파일을 닫고 다시 열어 모든 데이터를 출력하세요."
   ]
  },
  {
   "cell_type": "code",
   "execution_count": 15,
   "id": "8274949d",
   "metadata": {},
   "outputs": [
    {
     "name": "stdout",
     "output_type": "stream",
     "text": [
      "회사명, 직무, 결과\n",
      "회사A, 데이터 분석가, 합격\n",
      "회사B, 소프트웨어 엔지니어, 불합격\n",
      "회사C, 제품 관리자, 진행 중\n"
     ]
    }
   ],
   "source": [
    "f1 = open('applications.csv', 'w', encoding='utf-8')\n",
    "contents = ['회사명, 직무, 결과\\n', '회사A, 데이터 분석가, 합격\\n', '회사B, 소프트웨어 엔지니어, 불합격\\n', '회사C, 제품 관리자, 진행 중']\n",
    "f1.writelines(contents)\n",
    "\n",
    "f1.close()\n",
    "\n",
    "f1 = open('applications.csv', 'r')\n",
    "print(f1.read())\n",
    "\n",
    "f1.close()\n",
    "\n",
    "# with open('application.csv', 'r') as f1:\n",
    "#     print(f1.read())\n",
    "\n",
    "# -> with open('', 'w') as @: 'w'로만 받아서 쓴다\n"
   ]
  },
  {
   "cell_type": "markdown",
   "id": "dd114859",
   "metadata": {},
   "source": [
    "### **문제 3: `.log` 파일 읽기**\n",
    "\n",
    "토끼는 프로그램 실행 로그를 확인하려고 합니다.\n",
    "\n",
    "1. `system.log` 파일을 다음 내용으로 생성하세요.\n",
    "    \n",
    "    ```\n",
    "    [INFO] 2024-01-01 12:00:00: 시스템 시작\n",
    "    [WARN] 2024-01-01 12:05:00: 메모리 사용량 증가\n",
    "    [ERROR] 2024-01-01 12:10:00: 프로그램 종료\n",
    "    ```\n",
    "    \n",
    "2. 파일을 읽어와 `WARN` 또는 `ERROR`가 포함된 줄만 출력하세요."
   ]
  },
  {
   "cell_type": "code",
   "execution_count": null,
   "id": "d867741f",
   "metadata": {},
   "outputs": [
    {
     "name": "stdout",
     "output_type": "stream",
     "text": [
      "['[INFO] 2024-01-01 12:00:00: 시스템 시작\\n', '[WARN] 2024-01-01 12:05:00: 메모리 사용량 증가\\n', '[ERROR] 2024-01-01 12:10:00: 프로그램 종료\\n']\n"
     ]
    }
   ],
   "source": [
    "f3 = open('system.log', 'w', encoding='utf-8')\n",
    "contents = ['[INFO] 2024-01-01 12:00:00: 시스템 시작\\n',\n",
    "'[WARN] 2024-01-01 12:05:00: 메모리 사용량 증가\\n',\n",
    "'[ERROR] 2024-01-01 12:10:00: 프로그램 종료\\n']\n",
    "f3.writelines(contents)\n",
    "f3.close()\n",
    "\n",
    "f3 = open('system.log', 'r')\n",
    "lines = f3.readlines()    # list로 한줄씩 요소로 받음\n",
    "# print(lines) # ['[INFO] 2024-01-01 12:00:00: 시스템 시작\\n', '[WARN] 2024-01-01 12:05:00: 메모리 사용량 증가\\n', '[ERROR] 2024-01-01 12:10:00: 프로그램 종료\\n']\n",
    "if 'WARN' or 'ERROR' in lines:\n",
    "\n",
    "f3.close()\n",
    "\n"
   ]
  }
 ],
 "metadata": {
  "kernelspec": {
   "display_name": "pystudy_env",
   "language": "python",
   "name": "python3"
  },
  "language_info": {
   "codemirror_mode": {
    "name": "ipython",
    "version": 3
   },
   "file_extension": ".py",
   "mimetype": "text/x-python",
   "name": "python",
   "nbconvert_exporter": "python",
   "pygments_lexer": "ipython3",
   "version": "3.12.11"
  }
 },
 "nbformat": 4,
 "nbformat_minor": 5
}
