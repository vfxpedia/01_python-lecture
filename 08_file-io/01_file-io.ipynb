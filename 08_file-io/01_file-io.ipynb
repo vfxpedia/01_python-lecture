{
 "cells": [
  {
   "cell_type": "markdown",
   "id": "3a780ecd",
   "metadata": {},
   "source": [
    "### 파일 입출력"
   ]
  },
  {
   "cell_type": "code",
   "execution_count": 23,
   "id": "b2c04a10",
   "metadata": {},
   "outputs": [],
   "source": [
    "f1 = open(\"abc\\\\test.txt\", \"w\")\n",
    "f1.write(\"오늘의 점심 메뉴: 짜장과 짬뽕, 탕슉, 그리고 그냥 졸려\")\n",
    "f1.write(\"[오늘의 점심 메뉴]\\n짜장과 짬뽕\")\n",
    "# 08_file-io\\test.txt           -> relative path, 08_file-io -> root 폴더..\n",
    "f1.close()"
   ]
  },
  {
   "cell_type": "code",
   "execution_count": 20,
   "id": "6d37fe6d",
   "metadata": {},
   "outputs": [
    {
     "name": "stdout",
     "output_type": "stream",
     "text": [
      "C:\\Users\\Playdata\\anaconda3\n",
      "C:/Users/Playdata/anaconda3\n"
     ]
    }
   ],
   "source": [
    "print('C:\\\\Users\\\\Playdata\\\\anaconda3')\n",
    "print('C:/Users/Playdata/anaconda3')"
   ]
  },
  {
   "cell_type": "code",
   "execution_count": null,
   "id": "5283d24b",
   "metadata": {},
   "outputs": [],
   "source": [
    "'''\n",
    "2가지 제약\n",
    "'w' 디렉토리 x , 파일명, 파일이 존재하지 않을 경우 : 파일을 생성\n",
    "\n",
    "파.일.만! 만들어요\n",
    "\n",
    "'''"
   ]
  },
  {
   "cell_type": "code",
   "execution_count": 31,
   "id": "1119d07e",
   "metadata": {},
   "outputs": [],
   "source": [
    "f2 = open('our_song.txt', 'w')\n",
    "\n",
    "our_song = ['공주의 규칙', '나를 사랑하기', '남도 사랑하기', '삶을 사랑하기', '여유 잃지 않기', '미소 잃지 않기']\n",
    "our_song2 = ['공주의 규칙\\n', '나를 사랑하기\\n', '남도 사랑하기\\n', '삶을 사랑하기\\n', '여유 잃지 않기\\n', '미소 잃지 않기\\n']\n",
    "\n",
    "f2.writelines(our_song)    # 요소 간 자동 개행은 하지 않음.\n",
    "f2.writelines(our_song2)\n",
    "\n",
    "f2.close()"
   ]
  },
  {
   "cell_type": "code",
   "execution_count": 35,
   "id": "b84e540e",
   "metadata": {},
   "outputs": [
    {
     "name": "stdout",
     "output_type": "stream",
     "text": [
      "f3_read 공주의 규칙나를 사랑하기남도 사랑하기삶을 사랑하기여유 잃지 않기미소 잃지 않기공주의 규칙\n",
      "나를 사랑하기\n",
      "남도 사랑하기\n",
      "삶을 사랑하기\n",
      "여유 잃지 않기\n",
      "미소 잃지 않기\n",
      "\n",
      "f3_readline \n",
      "f3_readlines []\n"
     ]
    }
   ],
   "source": [
    "f3 = open('our_song.txt', 'r', encoding='utf-8')\n",
    "\n",
    "f3_read = f3.read()\n",
    "f3_readline = f3.readline()\n",
    "f3_readlines = f3.readlines()\n",
    "\n",
    "print(\"f3_read\", f3_read)\n",
    "print(\"f3_readline\", f3_readline)\n",
    "print(\"f3_readlines\", f3_readlines)\n",
    "\n",
    "f3.close()\n"
   ]
  },
  {
   "cell_type": "code",
   "execution_count": 56,
   "id": "56cc74b6",
   "metadata": {},
   "outputs": [
    {
     "name": "stdout",
     "output_type": "stream",
     "text": [
      "f3_readlines\n",
      "['공주의 규칙나를 사랑하기남도 사랑하기삶을 사랑하기여유 잃지 않기미소 잃지 않기공주의 규칙\\n', '나를 사랑하기\\n', '남도 사랑하기\\n', '삶을 사랑하기\\n', '여유 잃지 않기\\n', '미소 잃지 않기\\n']\n",
      "<class 'list'>\n"
     ]
    }
   ],
   "source": [
    "f3 = open('our_song.txt', 'r', encoding='utf-8')\n",
    "\n",
    "# f3_read = f3.read()\n",
    "# f3_readline = f3.readline()\n",
    "f3_readlines = f3.readlines()\n",
    "\n",
    "# print(\"f3_readline\", f3_readline, type(f3_readline))\n",
    "print(\"f3_readlines\", f3_readlines, type(f3_readlines), sep = \"\\n\")\n",
    "# print(\"f3_read\", f3_read, type(f3_read))\n",
    "\n",
    "'''\n",
    "read vs readline\n",
    "공통점 : str(문자열) 형태로 반환\n",
    "차이점 : read는 파일 전체를 읽음, readline 첫번째 줄만 읽음\n",
    "\n",
    "readlines\n",
    "모든 문자열을 리스트에 담아서 반환\n",
    "파일의 모든 줄을 읽어서 한줄씩 리스트 요소로 담는다.\n",
    "'''\n",
    "\n",
    "f3.close()\n"
   ]
  },
  {
   "cell_type": "code",
   "execution_count": 59,
   "id": "8c54a01f",
   "metadata": {},
   "outputs": [],
   "source": [
    "f4 = open('our_song.txt', 'a', encoding='utf-8')\n",
    "\n",
    "f4.write('노래 끝!')\n",
    "\n",
    "f4.close()"
   ]
  },
  {
   "cell_type": "code",
   "execution_count": null,
   "id": "69c813ec",
   "metadata": {},
   "outputs": [
    {
     "ename": "ValueError",
     "evalue": "I/O operation on closed file.",
     "output_type": "error",
     "traceback": [
      "\u001b[31m---------------------------------------------------------------------------\u001b[39m",
      "\u001b[31mValueError\u001b[39m                                Traceback (most recent call last)",
      "\u001b[36mCell\u001b[39m\u001b[36m \u001b[39m\u001b[32mIn[67]\u001b[39m\u001b[32m, line 6\u001b[39m\n\u001b[32m      3\u001b[39m     f.write(\u001b[33m'\u001b[39m\u001b[33m내일은 DB\u001b[39m\u001b[38;5;130;01m\\n\u001b[39;00m\u001b[33m'\u001b[39m)\n\u001b[32m      4\u001b[39m     f.write(\u001b[33m'\u001b[39m\u001b[33m다음주 부터는 Web Crawling\u001b[39m\u001b[33m'\u001b[39m)\n\u001b[32m----> \u001b[39m\u001b[32m6\u001b[39m \u001b[43mf\u001b[49m\u001b[43m.\u001b[49m\u001b[43mread\u001b[49m\u001b[43m(\u001b[49m\u001b[43m)\u001b[49m\n",
      "\u001b[31mValueError\u001b[39m: I/O operation on closed file."
     ]
    }
   ],
   "source": [
    "with open('new_test.txt', 'w', encoding='utf-8') as f:\n",
    "    f.write('오늘은 파이썬\\n')\n",
    "    f.write('내일은 DB\\n')\n",
    "    f.write('다음주 부터는 Web Crawling')\n",
    "\n"
   ]
  }
 ],
 "metadata": {
  "kernelspec": {
   "display_name": "pystudy_env",
   "language": "python",
   "name": "python3"
  },
  "language_info": {
   "codemirror_mode": {
    "name": "ipython",
    "version": 3
   },
   "file_extension": ".py",
   "mimetype": "text/x-python",
   "name": "python",
   "nbconvert_exporter": "python",
   "pygments_lexer": "ipython3",
   "version": "3.12.11"
  }
 },
 "nbformat": 4,
 "nbformat_minor": 5
}
