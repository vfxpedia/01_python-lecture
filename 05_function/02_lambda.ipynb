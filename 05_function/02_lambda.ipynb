{
 "cells": [
  {
   "cell_type": "markdown",
   "id": "28064a19",
   "metadata": {},
   "source": [
    "### lambda 람다\n",
    "- 변수명 = lambda (매개변수): (함수 실행 내용)"
   ]
  },
  {
   "cell_type": "code",
   "execution_count": 4,
   "id": "c83ad928",
   "metadata": {},
   "outputs": [
    {
     "name": "stdout",
     "output_type": "stream",
     "text": [
      "<function <lambda> at 0x000001E06625E020>\n",
      "<class 'function'>\n",
      "4\n"
     ]
    }
   ],
   "source": [
    "add = lambda a, b : a + b\n",
    "\n",
    "# def func1(a, b):\n",
    "#     함수 실행 내용\n",
    "\n",
    "# func1(a, b) -> 함수 호출\n",
    "print(add)\n",
    "print(type(add))\n",
    "print(add(1, 3))"
   ]
  },
  {
   "cell_type": "code",
   "execution_count": 7,
   "id": "58a0ca91",
   "metadata": {},
   "outputs": [
    {
     "name": "stdout",
     "output_type": "stream",
     "text": [
      "11\n",
      "30\n"
     ]
    }
   ],
   "source": [
    "func1 = lambda x, y=10 : x + y\n",
    "\n",
    "# def func1(x, y):\n",
    "#     return x + y\n",
    "\n",
    "print(func1(1))\n",
    "print(func1(10,20))"
   ]
  },
  {
   "cell_type": "code",
   "execution_count": 17,
   "id": "de5c2799",
   "metadata": {},
   "outputs": [
    {
     "name": "stdout",
     "output_type": "stream",
     "text": [
      "55\n"
     ]
    }
   ],
   "source": [
    "func2 = lambda *args : sum(args)\n",
    "\n",
    "print(func2(1, 2,  3, 4, 5, 6, 7, 8, 9, 10))"
   ]
  },
  {
   "cell_type": "code",
   "execution_count": null,
   "id": "e816537a",
   "metadata": {},
   "outputs": [],
   "source": []
  }
 ],
 "metadata": {
  "kernelspec": {
   "display_name": "pystudy_env",
   "language": "python",
   "name": "python3"
  },
  "language_info": {
   "codemirror_mode": {
    "name": "ipython",
    "version": 3
   },
   "file_extension": ".py",
   "mimetype": "text/x-python",
   "name": "python",
   "nbconvert_exporter": "python",
   "pygments_lexer": "ipython3",
   "version": "3.12.11"
  }
 },
 "nbformat": 4,
 "nbformat_minor": 5
}
