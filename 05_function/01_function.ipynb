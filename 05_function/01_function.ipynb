{
 "cells": [
  {
   "cell_type": "markdown",
   "id": "c06a8409",
   "metadata": {},
   "source": [
    "### 함수"
   ]
  },
  {
   "cell_type": "code",
   "execution_count": 8,
   "id": "06cecf15",
   "metadata": {},
   "outputs": [
    {
     "name": "stdout",
     "output_type": "stream",
     "text": [
      "안녕하세요 토끼 강사 인사드립니다~!\n"
     ]
    },
    {
     "data": {
      "text/plain": [
       "str"
      ]
     },
     "execution_count": 8,
     "metadata": {},
     "output_type": "execute_result"
    }
   ],
   "source": [
    "def introduce(name):\n",
    "    return f'안녕하세요 {name} 강사 인사드립니다~!'\n",
    "\n",
    "result = introduce('토끼')\n",
    "print(result)    # 안녕하세요 토끼 강사 인사드립니다~!\n",
    "type(result)"
   ]
  },
  {
   "cell_type": "code",
   "execution_count": 5,
   "id": "615a51d2",
   "metadata": {},
   "outputs": [
    {
     "data": {
      "text/plain": [
       "'안녕하세요 토끼 강사 인사드립니다~!'"
      ]
     },
     "execution_count": 5,
     "metadata": {},
     "output_type": "execute_result"
    }
   ],
   "source": [
    "introduce('토끼')"
   ]
  },
  {
   "cell_type": "code",
   "execution_count": 9,
   "id": "1ee39624",
   "metadata": {},
   "outputs": [],
   "source": [
    "def print_greeting():\n",
    "    print(\"즐거운 오후입니다! 목요일도 화이팅!!\")"
   ]
  },
  {
   "cell_type": "code",
   "execution_count": 10,
   "id": "a44d33ac",
   "metadata": {},
   "outputs": [
    {
     "name": "stdout",
     "output_type": "stream",
     "text": [
      "즐거운 오후입니다! 목요일도 화이팅!!\n"
     ]
    }
   ],
   "source": [
    "print_greeting()"
   ]
  },
  {
   "cell_type": "code",
   "execution_count": 11,
   "id": "41b84abc",
   "metadata": {},
   "outputs": [],
   "source": [
    "# 파라미터 X, return O -> \"즐거운 오후입니다! 목요일 화이팅!\" 반환\n",
    "\n",
    "def return_greeting():\n",
    "    result = print(f'즐거운 오후입니다! 목요일 화이팅!')\n",
    "    return result"
   ]
  },
  {
   "cell_type": "code",
   "execution_count": 12,
   "id": "5ef203af",
   "metadata": {},
   "outputs": [
    {
     "name": "stdout",
     "output_type": "stream",
     "text": [
      "즐거운 오후입니다! 목요일 화이팅!\n"
     ]
    }
   ],
   "source": [
    "return_greeting()"
   ]
  },
  {
   "cell_type": "code",
   "execution_count": 13,
   "id": "e47f059b",
   "metadata": {},
   "outputs": [],
   "source": [
    "def return_greeting():\n",
    "    return \"즐거운 오후\""
   ]
  },
  {
   "cell_type": "code",
   "execution_count": 14,
   "id": "5c575e2d",
   "metadata": {},
   "outputs": [
    {
     "data": {
      "text/plain": [
       "'즐거운 오후'"
      ]
     },
     "execution_count": 14,
     "metadata": {},
     "output_type": "execute_result"
    }
   ],
   "source": [
    "return_greeting()"
   ]
  },
  {
   "cell_type": "code",
   "execution_count": 15,
   "id": "17f72972",
   "metadata": {},
   "outputs": [],
   "source": [
    "# 파라미터 O, return X -> \"즐거운 오후입니다! 목요일 화이팅!\" 출력,\n",
    "# 파라미터로 인사할 사람 이름\n",
    "# \"{이름}님, 즐거운 오후입니다! 목요일도 화이팅!!\" 출력\n",
    "\n",
    "def print_name_greeting(name):\n",
    "    print(f'{name}님, 즐거운 오후입니다! 목요일도 화이팅!!')"
   ]
  },
  {
   "cell_type": "code",
   "execution_count": 17,
   "id": "f944b3dc",
   "metadata": {},
   "outputs": [
    {
     "name": "stdout",
     "output_type": "stream",
     "text": [
      "동그라미님, 즐거운 오후입니다! 목요일도 화이팅!!\n",
      "None\n"
     ]
    }
   ],
   "source": [
    "print(print_name_greeting(\"동그라미\"))"
   ]
  },
  {
   "cell_type": "code",
   "execution_count": null,
   "id": "2b46ae95",
   "metadata": {},
   "outputs": [],
   "source": [
    "# 파라미터 O, return O -> 파라미터로 인사할 사람 이름\n",
    "# \"{이름}님, 즐거운 오후입니다! 목요일도 화이팅!!\" 반환\n",
    "def return_name_greeting(nick_name):\n",
    "    return f\"{nick_name}님, 즐거운 오후 입니다! 목요일 화이팅!\""
   ]
  },
  {
   "cell_type": "code",
   "execution_count": 18,
   "id": "bc91fd56",
   "metadata": {},
   "outputs": [],
   "source": [
    "def return_var_greeting(name2, time):\n",
    "    return f\"{name2}님, 좋은 {time}입니다.\""
   ]
  },
  {
   "cell_type": "code",
   "execution_count": 19,
   "id": "a29d9123",
   "metadata": {},
   "outputs": [
    {
     "name": "stdout",
     "output_type": "stream",
     "text": [
      "토끼님, 좋은 아침입니다.\n"
     ]
    }
   ],
   "source": [
    "print(return_var_greeting('토끼', '아침'))"
   ]
  },
  {
   "cell_type": "code",
   "execution_count": null,
   "id": "76a2af3b",
   "metadata": {},
   "outputs": [
    {
     "name": "stdout",
     "output_type": "stream",
     "text": [
      "토끼야님, 좋은 점심입니다.\n"
     ]
    }
   ],
   "source": [
    "print(return_var_greeting(name2='토끼야', time='점심'))"
   ]
  },
  {
   "cell_type": "code",
   "execution_count": 21,
   "id": "dfb5464f",
   "metadata": {},
   "outputs": [
    {
     "name": "stdout",
     "output_type": "stream",
     "text": [
      "야끼토님, 좋은 저녁입니다.\n"
     ]
    }
   ],
   "source": [
    "print(return_var_greeting(time='저녁', name2='야끼토'))"
   ]
  },
  {
   "cell_type": "code",
   "execution_count": 23,
   "id": "2897ce6d",
   "metadata": {},
   "outputs": [
    {
     "name": "stdout",
     "output_type": "stream",
     "text": [
      "저녁님, 좋은 야끼토입니다.\n"
     ]
    }
   ],
   "source": [
    "print(return_var_greeting('저녁', time='야끼토'))"
   ]
  },
  {
   "cell_type": "markdown",
   "id": "220236c7",
   "metadata": {},
   "source": [
    "---\n",
    "### 패키징과 언패키징\n",
    "\n",
    "- 패키징 : 여러 값을 하나의 변수로 묶어내는 것\n",
    "- 언패키징 : 패킹된 객체의 값을 각가의 변수로 풀어내는 것"
   ]
  },
  {
   "cell_type": "code",
   "execution_count": null,
   "id": "7d98af69",
   "metadata": {},
   "outputs": [],
   "source": [
    "# *args | **kwagrs\n",
    "# *args : n개의 위치 인자가 많을때 사용. 위치 인자 처리가 가능한 매개변수\n",
    "# **kwargs : n개의 키워드 인자가 많을때 사용. 키워드 매개인자 처리가 가능한 매개변수"
   ]
  },
  {
   "cell_type": "code",
   "execution_count": 26,
   "id": "a4e71be9",
   "metadata": {},
   "outputs": [],
   "source": [
    "def call_animals(*animal_args):\n",
    "    for animal_name in animal_args:\n",
    "        print(animal_name)"
   ]
  },
  {
   "cell_type": "code",
   "execution_count": 27,
   "id": "ce87f4f0",
   "metadata": {},
   "outputs": [
    {
     "name": "stdout",
     "output_type": "stream",
     "text": [
      "토끼\n",
      "양\n",
      "판다\n",
      "코알라\n",
      "늑대\n",
      "기린\n"
     ]
    }
   ],
   "source": [
    "call_animals('토끼', '양', '판다', '코알라', '늑대', '기린')"
   ]
  },
  {
   "cell_type": "code",
   "execution_count": 28,
   "id": "455d871a",
   "metadata": {},
   "outputs": [],
   "source": [
    "def test(name3, *args):\n",
    "    print(name3, args)"
   ]
  },
  {
   "cell_type": "code",
   "execution_count": 30,
   "id": "80c88da2",
   "metadata": {},
   "outputs": [
    {
     "name": "stdout",
     "output_type": "stream",
     "text": [
      "홍길동 (1, 2, 3, 4, 5, 6, 7)\n",
      "1 (2, 3, 4, 5, 6, 7, '홍길동')\n"
     ]
    }
   ],
   "source": [
    "test('홍길동', 1, 2, 3, 4, 5, 6, 7)\n",
    "test(1, 2, 3, 4, 5, 6, 7, '홍길동')"
   ]
  },
  {
   "cell_type": "code",
   "execution_count": 31,
   "id": "f5f25f69",
   "metadata": {},
   "outputs": [],
   "source": [
    "def test1(**kwargs):\n",
    "    print(type(kwargs), kwargs)"
   ]
  },
  {
   "cell_type": "code",
   "execution_count": 38,
   "id": "5b44c1a4",
   "metadata": {},
   "outputs": [
    {
     "name": "stdout",
     "output_type": "stream",
     "text": [
      "<class 'dict'> {'name': 'hong', 'age': 20, 'height': 190, 'nickname': 'happy', 'hobby': ['독서', '러닝']}\n",
      "None\n"
     ]
    }
   ],
   "source": [
    "print(test1(name='hong', age=20, height=190, nickname='happy', hobby=['독서','러닝']))"
   ]
  },
  {
   "cell_type": "code",
   "execution_count": 36,
   "id": "bca18401",
   "metadata": {},
   "outputs": [],
   "source": [
    "def test2(*args):\n",
    "    print(type(args), args)"
   ]
  },
  {
   "cell_type": "code",
   "execution_count": 37,
   "id": "01f15c34",
   "metadata": {},
   "outputs": [
    {
     "name": "stdout",
     "output_type": "stream",
     "text": [
      "<class 'tuple'> ('name', 'hong', 'age', 20, 'height', 190, 'nickname', 'happy')\n",
      "None\n"
     ]
    }
   ],
   "source": [
    "print(test2('name','hong', 'age', 20, 'height', 190, 'nickname', 'happy'))"
   ]
  },
  {
   "cell_type": "code",
   "execution_count": 39,
   "id": "f96f73d8",
   "metadata": {},
   "outputs": [],
   "source": [
    "def test2(a, b, c):\n",
    "    print(a, b, c)"
   ]
  },
  {
   "cell_type": "code",
   "execution_count": 43,
   "id": "7c4f05c2",
   "metadata": {},
   "outputs": [
    {
     "ename": "TypeError",
     "evalue": "test2() missing 2 required positional arguments: 'b' and 'c'",
     "output_type": "error",
     "traceback": [
      "\u001b[31m---------------------------------------------------------------------------\u001b[39m",
      "\u001b[31mTypeError\u001b[39m                                 Traceback (most recent call last)",
      "\u001b[36mCell\u001b[39m\u001b[36m \u001b[39m\u001b[32mIn[43]\u001b[39m\u001b[32m, line 2\u001b[39m\n\u001b[32m      1\u001b[39m names = [\u001b[33m'\u001b[39m\u001b[33m김\u001b[39m\u001b[33m'\u001b[39m, \u001b[33m'\u001b[39m\u001b[33m박\u001b[39m\u001b[33m'\u001b[39m, \u001b[33m'\u001b[39m\u001b[33m이\u001b[39m\u001b[33m'\u001b[39m]\n\u001b[32m----> \u001b[39m\u001b[32m2\u001b[39m \u001b[38;5;28mprint\u001b[39m(\u001b[43mtest2\u001b[49m\u001b[43m(\u001b[49m\u001b[43mnames\u001b[49m\u001b[43m)\u001b[49m) \u001b[38;5;66;03m# 모든 인자가 a로 매칭이 되어 문제가 된다.\u001b[39;00m\n\u001b[32m      3\u001b[39m \u001b[38;5;66;03m# print(test2(*names))\u001b[39;00m\n",
      "\u001b[31mTypeError\u001b[39m: test2() missing 2 required positional arguments: 'b' and 'c'"
     ]
    }
   ],
   "source": [
    "names = ['김', '박', '이']\n",
    "print(test2(names)) # 모든 인자가 a로 매칭이 되어 문제가 된다.\n",
    "# print(test2(*names))"
   ]
  },
  {
   "cell_type": "code",
   "execution_count": null,
   "id": "dc91d2cc",
   "metadata": {},
   "outputs": [
    {
     "name": "stdout",
     "output_type": "stream",
     "text": [
      "김 박 이\n",
      "None\n"
     ]
    }
   ],
   "source": [
    "names = ['김', '박', '이']\n",
    "# print(test2(names)) -> 모든 인자가 a로 매칭이 되어 문제가 된다.\n",
    "print(test2(*names))"
   ]
  },
  {
   "cell_type": "code",
   "execution_count": null,
   "id": "5cc8b407",
   "metadata": {},
   "outputs": [
    {
     "ename": "TypeError",
     "evalue": "test2() missing 2 required positional arguments: 'b' and 'c'",
     "output_type": "error",
     "traceback": [
      "\u001b[31m---------------------------------------------------------------------------\u001b[39m",
      "\u001b[31mTypeError\u001b[39m                                 Traceback (most recent call last)",
      "\u001b[36mCell\u001b[39m\u001b[36m \u001b[39m\u001b[32mIn[41]\u001b[39m\u001b[32m, line 2\u001b[39m\n\u001b[32m      1\u001b[39m grade = {\u001b[33m'\u001b[39m\u001b[33ma\u001b[39m\u001b[33m'\u001b[39m : \u001b[32m99\u001b[39m, \u001b[33m'\u001b[39m\u001b[33mb\u001b[39m\u001b[33m'\u001b[39m : \u001b[32m85\u001b[39m, \u001b[33m'\u001b[39m\u001b[33mc\u001b[39m\u001b[33m'\u001b[39m : \u001b[32m70\u001b[39m}\n\u001b[32m----> \u001b[39m\u001b[32m2\u001b[39m \u001b[43mtest2\u001b[49m\u001b[43m(\u001b[49m\u001b[43mgrade\u001b[49m\u001b[43m)\u001b[49m\n",
      "\u001b[31mTypeError\u001b[39m: test2() missing 2 required positional arguments: 'b' and 'c'"
     ]
    }
   ],
   "source": [
    "grade = {'a' : 99, 'b' : 85, 'c' : 70}\n",
    "test2(grade)"
   ]
  },
  {
   "cell_type": "code",
   "execution_count": 44,
   "id": "d4ef44fc",
   "metadata": {},
   "outputs": [
    {
     "name": "stdout",
     "output_type": "stream",
     "text": [
      "a b c\n"
     ]
    }
   ],
   "source": [
    "grade = {'a' : 99, 'b' : 85, 'c' : 70}\n",
    "test2(*grade)"
   ]
  },
  {
   "cell_type": "code",
   "execution_count": 45,
   "id": "bebede32",
   "metadata": {},
   "outputs": [
    {
     "name": "stdout",
     "output_type": "stream",
     "text": [
      "99 85 70\n"
     ]
    }
   ],
   "source": [
    "grade = {'a' : 99, 'b' : 85, 'c' : 70}\n",
    "test2(**grade)"
   ]
  },
  {
   "cell_type": "code",
   "execution_count": 88,
   "id": "e3120fe6",
   "metadata": {},
   "outputs": [
    {
     "name": "stdout",
     "output_type": "stream",
     "text": [
      "[1, 200, 3]\n"
     ]
    }
   ],
   "source": [
    "def func2(b):\n",
    "    b[1] *= 100 # b[1] = b[1] * 100\n",
    "\n",
    "b = [1, 2, 3]\n",
    "func2(b)\n",
    "print(b)"
   ]
  },
  {
   "cell_type": "markdown",
   "id": "bfb7c9bf",
   "metadata": {},
   "source": [
    "## **문제 1: 자기소개 하기**\n",
    "\n",
    "**\"토끼는 IT 회사 첫 출근 날, 자기소개를 준비했다.\"**\n",
    "\n",
    "1. `introduce()`라는 함수를 만들어 **\"안녕하세요, 저는 토끼 신입사원입니다!\"**라는 메시지를 출력하세요.\n",
    "2. 함수를 호출하여 토끼의 자기소개를 출력하세요."
   ]
  },
  {
   "cell_type": "code",
   "execution_count": 46,
   "id": "3d35b420",
   "metadata": {},
   "outputs": [],
   "source": [
    "def introduce():\n",
    "    return \"안녕하세요, 저는 토끼 신입사원입니다!\""
   ]
  },
  {
   "cell_type": "code",
   "execution_count": 50,
   "id": "ed45a943",
   "metadata": {},
   "outputs": [
    {
     "name": "stdout",
     "output_type": "stream",
     "text": [
      "안녕하세요, 저는 토끼 신입사원입니다!\n"
     ]
    }
   ],
   "source": [
    "msg = introduce()\n",
    "print(msg)"
   ]
  },
  {
   "cell_type": "markdown",
   "id": "27fc8d92",
   "metadata": {},
   "source": [
    "## **문제 2: 출근 체크하기**\n",
    "\n",
    "**\"토끼는 출근할 때 출근부에 이름을 적어야 한다.\"**\n",
    "\n",
    "1. `check_in(name)`이라는 함수를 만들어 매개변수 `name`을 입력받아 다음과 같이 출력하세요.\n",
    "    - **\"[이름]님, 출근 체크 완료!\"**\n",
    "2. 함수를 호출해 **\"토끼\"**를 출근 체크하세요."
   ]
  },
  {
   "cell_type": "code",
   "execution_count": 52,
   "id": "44839b8e",
   "metadata": {},
   "outputs": [
    {
     "name": "stdout",
     "output_type": "stream",
     "text": [
      "토끼님, 출근 체크 완료!\n"
     ]
    }
   ],
   "source": [
    "def check_in(name):\n",
    "    return f'{name}님, 출근 체크 완료!'\n",
    "\n",
    "result = check_in('토끼')\n",
    "print(result)"
   ]
  },
  {
   "cell_type": "code",
   "execution_count": 54,
   "id": "90ca32be",
   "metadata": {},
   "outputs": [
    {
     "name": "stdout",
     "output_type": "stream",
     "text": [
      "토끼2님, 출근 체크 완료!\n"
     ]
    }
   ],
   "source": [
    "def check_in2(name):\n",
    "    print(f'{name}님, 출근 체크 완료!')\n",
    "\n",
    "check_in2('토끼2')"
   ]
  },
  {
   "cell_type": "code",
   "execution_count": 56,
   "id": "8aacad17",
   "metadata": {},
   "outputs": [
    {
     "name": "stdout",
     "output_type": "stream",
     "text": [
      "토끼2님, 출근 체크 완료!\n",
      "함수 반환값 :  None\n"
     ]
    }
   ],
   "source": [
    "result2 = check_in2('토끼2')\n",
    "print(\"함수 반환값 : \", result2)"
   ]
  },
  {
   "cell_type": "markdown",
   "id": "cceac566",
   "metadata": {},
   "source": [
    "## **문제 3: 업무 시간 계산하기**\n",
    "\n",
    "**\"토끼는 오늘 근무한 시간을 계산하고 싶다.\"**\n",
    "\n",
    "1. `work_hours(start, end)`라는 함수를 만들어 매개변수 `start`(출근 시간)와 `end`(퇴근 시간)를 입력받아 근무 시간을 계산하세요.\n",
    "    - 근무 시간 = `end - start`\n",
    "2. 반환된 근무 시간을 출력하세요.\n",
    "    - 출력 예시: **\"오늘 근무한 시간은 [근무 시간]시간입니다.\"**"
   ]
  },
  {
   "cell_type": "code",
   "execution_count": 58,
   "id": "16f42e6b",
   "metadata": {},
   "outputs": [
    {
     "name": "stdout",
     "output_type": "stream",
     "text": [
      "오늘 근무한 시간은 9시간입니다.\n"
     ]
    }
   ],
   "source": [
    "def work_hours(start, end):\n",
    "    work_times = int(end) - int(start)\n",
    "    return f'오늘 근무한 시간은 {work_times}시간입니다.'\n",
    "\n",
    "input_times = work_hours(9, 18)\n",
    "print(input_times)\n"
   ]
  },
  {
   "cell_type": "code",
   "execution_count": 59,
   "id": "77ffd15f",
   "metadata": {},
   "outputs": [
    {
     "name": "stdout",
     "output_type": "stream",
     "text": [
      "오늘 근무한 시간은 9시간입니다.\n"
     ]
    }
   ],
   "source": [
    "# Shadowing 방지 : 함수명과 지역 변수는 동일한 이름을 피한다 (work_hours, work_times)\n",
    "# 함수는 계산만, 출력은 함수 밖에서 처리 → 더 깔끔한 구조\n",
    "def work_hours(start, end):\n",
    "    work_times = end - start   # 이미 숫자라면 int() 필요 없음\n",
    "    return work_times\n",
    "\n",
    "hours = work_hours(9, 18)\n",
    "print(f\"오늘 근무한 시간은 {hours}시간입니다.\")\n"
   ]
  },
  {
   "cell_type": "code",
   "execution_count": 93,
   "id": "9f02688e",
   "metadata": {},
   "outputs": [
    {
     "name": "stdout",
     "output_type": "stream",
     "text": [
      "오늘 근무한 시간은 9시간입니다.\n"
     ]
    }
   ],
   "source": [
    "def work_hours(start, end):\n",
    "    return end - start\n",
    "\n",
    "print(f'오늘 근무한 시간은 {work_hours(9,18)}시간입니다.')"
   ]
  },
  {
   "cell_type": "markdown",
   "id": "9b83f811",
   "metadata": {},
   "source": [
    "## **문제 4: 점심 메뉴 추천**\n",
    "\n",
    "**\"점심시간, 토끼는 팀원들에게 점심 메뉴를 추천해준다.\"**\n",
    "\n",
    "1. `recommend_menu(*menus)`라는 함수를 만들어 여러 개의 점심 메뉴를 매개변수로 전달받으세요.\n",
    "2. 랜덤하게 하나의 메뉴를 선택하고 반환하세요.\n",
    "    - 출력 예시: **\"오늘의 점심 메뉴는 [선택된 메뉴]입니다!\"**\n",
    "    - 힌트: `random.choice()`를 사용하면 랜덤 선택이 가능합니다. (import random)"
   ]
  },
  {
   "cell_type": "code",
   "execution_count": 87,
   "id": "a17f15ed",
   "metadata": {},
   "outputs": [
    {
     "name": "stdout",
     "output_type": "stream",
     "text": [
      "오늘의 점심 메뉴는 1입니다.\n"
     ]
    }
   ],
   "source": [
    "import random\n",
    "\n",
    "def recommend_menu(*menus):\n",
    "    choice = random.choice(menus)\n",
    "    return choice\n",
    "\n",
    "menu_list = recommend_menu('a', 'b', 'c', 1, 2.0, True, ['set1', 'set2'])\n",
    "print(f'오늘의 점심 메뉴는 {menu_list}입니다.')"
   ]
  },
  {
   "cell_type": "markdown",
   "id": "194764dd",
   "metadata": {},
   "source": [
    "## **문제 5: 오후 커피 마시기**\n",
    "\n",
    "**\"오후에 졸린 토끼는 커피를 마시려고 한다.\"**\n",
    "\n",
    "1. `coffee_time()`이라는 함수를 만들어 다음과 같은 문자열을 반환하세요.\n",
    "    - **\"오후 3시입니다. 커피 한 잔 하세요!\"**\n",
    "2. 반환된 문자열을 출력하세요."
   ]
  },
  {
   "cell_type": "code",
   "execution_count": 92,
   "id": "2e6121d3",
   "metadata": {},
   "outputs": [
    {
     "name": "stdout",
     "output_type": "stream",
     "text": [
      "오후 3시입니다. 커피 한 잔 하세요!\n"
     ]
    }
   ],
   "source": [
    "def coffee_time():\n",
    "    return '오후 3시입니다. 커피 한 잔 하세요!'\n",
    "\n",
    "print(coffee_time())"
   ]
  },
  {
   "cell_type": "markdown",
   "id": "26d3804d",
   "metadata": {},
   "source": [
    "## **문제 6: 업무 성과**\n",
    "\n",
    "**\"토끼는 오늘의 업무 성과를 보고해야 한다.\"**\n",
    "\n",
    "1. `work_report(tasks_done)`이라는 함수를 만들어 오늘 처리한 업무 수를 매개변수로 받으세요.\n",
    "2. 함수는 다음 두 값을 반환합니다.\n",
    "    - `tasks_done`: 처리한 업무 수\n",
    "    - `status`: 업무 성과 평가 (10개 이상: \"우수\", 5~9개: \"보통\", 4개 이하: \"노력 필요\")\n",
    "3. 반환된 값을 사용해 다음 메시지를 출력하세요.\n",
    "    - **\"오늘 처리한 업무는 [업무 수]개입니다. 성과 평가: [평가]\"**"
   ]
  },
  {
   "cell_type": "code",
   "execution_count": null,
   "id": "641a32b2",
   "metadata": {},
   "outputs": [
    {
     "name": "stdout",
     "output_type": "stream",
     "text": [
      "오늘 처리한 업무는 6개입니다. 성과 평가: 보통\n"
     ]
    }
   ],
   "source": [
    "def work_report(tasks_done):\n",
    "    \n",
    "    status = \"\"\n",
    "\n",
    "    if tasks_done >= 10:        # tasks_done // 5 > 1:\n",
    "        status = \"우수\"\n",
    "    elif tasks_done >= 5:       # tasks_done // 5 == 1:\n",
    "        status = \"보통\"\n",
    "    else:\n",
    "        status = \"노력 필요\"\n",
    "\n",
    "    # status = \"우수\" if tasks_done >= 10 else (\"보통\" if tasks_done >= 5 else \"노력 필요\") #삼항 연산자를 이용한 코드\n",
    "\n",
    "    return tasks_done, status\n",
    "\n",
    "result_tasks_done, result_status = work_report(6)\n",
    "print(f'오늘 처리한 업무는 {result_tasks_done}개입니다. 성과 평가: {result_status}')"
   ]
  },
  {
   "cell_type": "markdown",
   "id": "62bd60b7",
   "metadata": {},
   "source": [
    "## **문제 7: 월급 계산 및 세금 공제**\n",
    "\n",
    "**\"토끼는 첫 월급을 계산하고 세금을 공제해야 한다.\"**\n",
    "\n",
    "1. `calculate_salary(base_salary, bonus)`라는 함수를 만들어 기본 월급과 보너스를 매개변수로 받으세요.\n",
    "2. 총 월급을 계산하고, 세금은 총 월급의 10%로 공제하세요.\n",
    "3. 함수는 다음 두 값을 반환합니다.\n",
    "    - `net_salary`: 실수령액 (총 월급 - 세금)\n",
    "    - `tax`: 세금 공제액\n",
    "4. 반환된 값을 사용해 다음 메시지를 출력하세요.\n",
    "    - **\"세전 월급: [총 월급]원, 세금: [세금]원, 실수령액: [실수령액]원\"**"
   ]
  },
  {
   "cell_type": "code",
   "execution_count": 111,
   "id": "c9eff6ef",
   "metadata": {},
   "outputs": [
    {
     "name": "stdout",
     "output_type": "stream",
     "text": [
      "세전 월급: 6000000원, 세금: 600000원, 실수령액: 5400000원\n"
     ]
    }
   ],
   "source": [
    "def calculate_salary(base_salary, bonus):\n",
    "    # 총 월급 계산 / 세금 == 총 월급의 10% 공제\n",
    "    total_salary = base_salary + bonus\n",
    "    tax = total_salary * 0.1\n",
    "    net_salary = total_salary - tax\n",
    "    return int(net_salary), int(tax) # net_salary == 실수령(총 월급 - 세금), tax = total * 0.1\n",
    "\n",
    "result_net_salary, result_tax = calculate_salary(5000000, 1000000)\n",
    "print(f'세전 월급: {result_net_salary + result_tax}원, 세금: {result_tax}원, 실수령액: {result_net_salary}원')"
   ]
  },
  {
   "cell_type": "code",
   "execution_count": null,
   "id": "de25895f",
   "metadata": {},
   "outputs": [],
   "source": []
  }
 ],
 "metadata": {
  "kernelspec": {
   "display_name": "pystudy_env",
   "language": "python",
   "name": "python3"
  },
  "language_info": {
   "codemirror_mode": {
    "name": "ipython",
    "version": 3
   },
   "file_extension": ".py",
   "mimetype": "text/x-python",
   "name": "python",
   "nbconvert_exporter": "python",
   "pygments_lexer": "ipython3",
   "version": "3.12.11"
  }
 },
 "nbformat": 4,
 "nbformat_minor": 5
}
