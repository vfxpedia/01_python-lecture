{
 "cells": [
  {
   "cell_type": "markdown",
   "id": "922d741c",
   "metadata": {},
   "source": [
    "# **문자형 (문자열)**"
   ]
  },
  {
   "cell_type": "code",
   "execution_count": 13,
   "id": "1551394a",
   "metadata": {},
   "outputs": [],
   "source": [
    "my_name = 'rabbit'\n",
    "your_name = ''\n",
    "# error_name = '이건 안되요~!\""
   ]
  },
  {
   "cell_type": "code",
   "execution_count": null,
   "id": "ea74c2c9",
   "metadata": {},
   "outputs": [
    {
     "name": "stdout",
     "output_type": "stream",
     "text": [
      "rabbit 이주원\n"
     ]
    }
   ],
   "source": [
    "print(my_name, your_name)"
   ]
  },
  {
   "cell_type": "code",
   "execution_count": 14,
   "id": "661a8a8a",
   "metadata": {},
   "outputs": [
    {
     "name": "stdout",
     "output_type": "stream",
     "text": [
      "<class 'str'>\n"
     ]
    }
   ],
   "source": [
    "print(type(your_name))"
   ]
  },
  {
   "cell_type": "code",
   "execution_count": 16,
   "id": "0018440f",
   "metadata": {},
   "outputs": [
    {
     "name": "stdout",
     "output_type": "stream",
     "text": [
      "\n",
      "hello\n",
      "world\n",
      "\n"
     ]
    }
   ],
   "source": [
    "line = \"\"\"\n",
    "hello\n",
    "world\n",
    "\"\"\"\n",
    "\n",
    "print(line)"
   ]
  },
  {
   "cell_type": "markdown",
   "id": "aa33b383",
   "metadata": {},
   "source": [
    "---\n",
    "### 문자형의 연산"
   ]
  },
  {
   "cell_type": "code",
   "execution_count": 20,
   "id": "04e02d6f",
   "metadata": {},
   "outputs": [
    {
     "name": "stdout",
     "output_type": "stream",
     "text": [
      "오늘의 점심 메뉴는?포케\n",
      "🥗🥗🥗123\n"
     ]
    }
   ],
   "source": [
    "str1 = \"오늘의 점심 메뉴는?\"\n",
    "str2 = \"포케\"\n",
    "\n",
    "print(str1 + str2)  # 문자열 연결 -> 두 문자열을 합치는데 공백이 없으므로 붙어서 출력됩니다.\n",
    "print(\"🥗\" * 3 + str(123))"
   ]
  },
  {
   "cell_type": "code",
   "execution_count": 25,
   "id": "655ad1ca",
   "metadata": {},
   "outputs": [
    {
     "name": "stdout",
     "output_type": "stream",
     "text": [
      "2025/08/19\n",
      "2025-08-19\n",
      "2025-08-19\n",
      "2025/08/19\n",
      "2024-08-19\n"
     ]
    }
   ],
   "source": [
    "today = '2025/08/19'\n",
    "print(today)\n",
    "# replace 메서드를 사용해서 /를 -로 바꾸고, 출력해주세요.\n",
    "print(today.replace('/', '-'))\n",
    "rep_today = today.replace('/', '-')\n",
    "print(rep_today)\n",
    "print(today) # 원본 문자열(today)은 변경되지 않습니다. in place로 변경되지 않음\n",
    "print(rep_today.replace('2025', '2024'))  # 새로운 문자열을 반환합니다"
   ]
  },
  {
   "cell_type": "code",
   "execution_count": 26,
   "id": "e7c2b2f2",
   "metadata": {},
   "outputs": [
    {
     "name": "stdout",
     "output_type": "stream",
     "text": [
      "hello Python\n"
     ]
    }
   ],
   "source": [
    "# .replace() 메서드를 사용해서 문자열 내의 특정 문자를 다른 문자로 바꿀 수 있습니다.\n",
    "# 예를 들어, 'hello world'에서 'world'를 'Python'으로 바꿀 수 있습니다.\n",
    "greeting = 'hello world'\n",
    "print(greeting.replace('world', 'Python'))  # 'hello Python'이 출력됩니다."
   ]
  },
  {
   "cell_type": "code",
   "execution_count": 29,
   "id": "e9d69548",
   "metadata": {},
   "outputs": [
    {
     "name": "stdout",
     "output_type": "stream",
     "text": [
      "HELLO WORLD\n",
      "hello world\n",
      "Hello world\n"
     ]
    }
   ],
   "source": [
    "txt = \"heLLO wORLD\"\n",
    "# 메소드를 사용해서 대문자로 변환, 소문자로 변환, 앞글자를 대문자로 변환해서 출력해주세요.\n",
    "print(txt.upper())  # 대문자로 변환\n",
    "print(txt.lower())  # 소문자로 변환\n",
    "print(txt.capitalize()) # 첫 글자만 대문자로 변환"
   ]
  },
  {
   "cell_type": "markdown",
   "id": "7f145836",
   "metadata": {},
   "source": [
    "---\n",
    "### 포맷팅\n",
    "\n",
    "1. %\n",
    "2. str.format()\n",
    "3. f-string"
   ]
  },
  {
   "cell_type": "code",
   "execution_count": 33,
   "id": "6cb4167e",
   "metadata": {},
   "outputs": [
    {
     "name": "stdout",
     "output_type": "stream",
     "text": [
      "고양이는 겨울철 양식으로 고구마개를 쿠팡했습니다.\n",
      "고양이는 겨울철 양식으로 고구마 6개를 쿠팡했습니다.\n"
     ]
    }
   ],
   "source": [
    "food = '고구마'\n",
    "count = 6\n",
    "print('고양이는 겨울철 양식으로 ' + food + '개를 쿠팡했습니다.')\n",
    "print('고양이는 겨울철 양식으로 ', food, ' ', count, '개를 쿠팡했습니다.', sep='')"
   ]
  },
  {
   "cell_type": "code",
   "execution_count": 42,
   "id": "321a4312",
   "metadata": {},
   "outputs": [
    {
     "name": "stdout",
     "output_type": "stream",
     "text": [
      "x는 10입니다.\n",
      "y는 123.456000 입니다.\n",
      "y는 123.46 입니다.\n",
      "y는 123.456 입니다.\n",
      "y는 123.456000 입니다.\n"
     ]
    }
   ],
   "source": [
    "x = 10\n",
    "y = 123.456\n",
    "print('x는 %d입니다.' % x)\n",
    "print('y는 %f 입니다.' % y)\n",
    "print('y는 %.2f 입니다.' % y)  # 소수점 둘째 자리까지 출력\n",
    "print('y는 %.3f 입니다.' % y)  # 소수점 셋째 자리까지 출력\n",
    "print('y는 %.6f 입니다.' % y)  # 소수점 여섯째 자리까지 출력"
   ]
  },
  {
   "cell_type": "code",
   "execution_count": 43,
   "id": "6a736d1b",
   "metadata": {},
   "outputs": [
    {
     "name": "stdout",
     "output_type": "stream",
     "text": [
      "x는 10, y는 123.456입니다.\n",
      "x는 10, y는 123.456입니다.\n",
      "x는 10, y는 123.456입니다.\n",
      "x는 10, y는 123.46입니다.\n",
      "x는 10, y는 123.456입니다.\n",
      "x는 10, y는 123.456000입니다.\n"
     ]
    }
   ],
   "source": [
    "print(\"x는 {0}, y는 {1}입니다.\".format(x, y))\n",
    "print(\"x는 {a}, y는 {b}입니다.\".format(a=x, b=y))\n",
    "print(f\"x는 {x}, y는 {y}입니다.\")  # f-string을 사용한 포맷팅\n",
    "print(f\"x는 {x}, y는 {y:.2f}입니다.\")  # 소수점 둘째 자리까지 출력\n",
    "print(f\"x는 {x}, y는 {y:.3f}입니다.\")  # 소수점 셋째 자리까지 출력\n",
    "print(f\"x는 {x}, y는 {y:.6f}입니다.\")  # 소수점 여섯째 자리까지 출력"
   ]
  },
  {
   "cell_type": "code",
   "execution_count": null,
   "id": "92ed200e",
   "metadata": {},
   "outputs": [
    {
     "name": "stdout",
     "output_type": "stream",
     "text": [
      "고양이는 겨울철 양식으로 고구마 6개를 쿠팡했습니다.\n",
      "고양이는 겨울철 양식으로 고구마 6 개를 쿠팡했습니다.\n",
      "고양이는 겨울철 양식으로 고구마 6개를 쿠팡했습니다.\n"
     ]
    }
   ],
   "source": [
    "print(f'고양이는 겨울철 양식으로 {food} {count}개를 쿠팡했습니다.')  # f-string을 사용한 포맷팅\n",
    "print('고양이는 겨울철 양식으로', food, count, '개를 쿠팡했습니다.')\n",
    "\n",
    "result_str = f'고양이는 겨울철 양식으로 {food} {count}개를 쿠팡했습니다.'\n",
    "print(result_str)  # f-string을 사용한 포맷팅 결과 출력"
   ]
  },
  {
   "cell_type": "markdown",
   "id": "0ef4d2c3",
   "metadata": {},
   "source": [
    "### **문제 1**\n",
    "\n",
    "아래 조건에 맞게 변수를 선언하고 결과를 출력하세요.\n",
    "\n",
    "1. `greeting_message` 변수에 문자열 `\"Hello\"`를 저장합니다.\n",
    "2. `greeting_target` 변수에 `\"World\"`를 저장합니다.\n",
    "3. 두 문자열을 이어 붙여 `\"HelloWorld\"`를 출력하세요."
   ]
  },
  {
   "cell_type": "code",
   "execution_count": 46,
   "id": "df1ce95d",
   "metadata": {},
   "outputs": [
    {
     "name": "stdout",
     "output_type": "stream",
     "text": [
      "HelloWorld\n",
      "HelloWorld\n"
     ]
    }
   ],
   "source": [
    "greeting_message = \"Hello\"\n",
    "greeting_target = \"World\"\n",
    "\n",
    "print(greeting_message + greeting_target)  # 문자열 연결\n",
    "print(greeting_message, greeting_target, sep='')\n"
   ]
  },
  {
   "cell_type": "markdown",
   "id": "cf3ef141",
   "metadata": {},
   "source": [
    "### **문제 2**\n",
    "\n",
    "1. `age`에 당신의 나이, `city`에 당신의 거주지를 저장합니다.\n",
    "2. f-string을 사용하여 다음 문장과 같은 형태로 출력하세요.\n",
    "    - \"나는 25살이고, Seoul에 살고 있습니다.\""
   ]
  },
  {
   "cell_type": "code",
   "execution_count": 7,
   "id": "dbc3b5cf",
   "metadata": {},
   "outputs": [],
   "source": [
    "age = 37\n",
    "city = \"Seoul\""
   ]
  },
  {
   "cell_type": "code",
   "execution_count": 9,
   "id": "ca641e4a",
   "metadata": {},
   "outputs": [
    {
     "name": "stdout",
     "output_type": "stream",
     "text": [
      "\"나는 37살이고, Seoul에 살고 있습니다.\"\n"
     ]
    }
   ],
   "source": [
    "print(f\"\\\"나는 {age}살이고, {city}에 살고 있습니다.\\\"\")"
   ]
  }
 ],
 "metadata": {
  "kernelspec": {
   "display_name": "pystudy_env",
   "language": "python",
   "name": "python3"
  },
  "language_info": {
   "codemirror_mode": {
    "name": "ipython",
    "version": 3
   },
   "file_extension": ".py",
   "mimetype": "text/x-python",
   "name": "python",
   "nbconvert_exporter": "python",
   "pygments_lexer": "ipython3",
   "version": "3.12.11"
  }
 },
 "nbformat": 4,
 "nbformat_minor": 5
}
