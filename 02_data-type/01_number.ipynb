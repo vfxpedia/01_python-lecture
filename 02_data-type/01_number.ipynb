{
 "cells": [
  {
   "cell_type": "markdown",
   "id": "8e451bd3",
   "metadata": {},
   "source": [
    "### **문제 1**\n",
    "\n",
    "다음 조건에 맞게 변수를 선언하고 연산 결과를 출력하세요.\n",
    "\n",
    "1. `num1`에 10을 저장하고, `num2`에 5를 저장합니다.\n",
    "2. 두 변수를 더한 결과를 `sum_result`에 저장하고 출력하세요."
   ]
  },
  {
   "cell_type": "code",
   "execution_count": 1,
   "id": "879474c4",
   "metadata": {},
   "outputs": [],
   "source": [
    "num1 = 10\n",
    "num2 = 5"
   ]
  },
  {
   "cell_type": "code",
   "execution_count": 2,
   "id": "8216d52c",
   "metadata": {},
   "outputs": [
    {
     "name": "stdout",
     "output_type": "stream",
     "text": [
      "Sum: 15\n"
     ]
    }
   ],
   "source": [
    "sum_result = num1 + num2\n",
    "print(\"Sum:\", sum_result)"
   ]
  },
  {
   "cell_type": "markdown",
   "id": "71d56f89",
   "metadata": {},
   "source": [
    "### **문제 2**\n",
    "\n",
    "다음 조건에 맞게 변수를 선언하고 연산 결과를 출력하세요.\n",
    "\n",
    "1. `x`에 7.5를 저장하고, `y`에 2를 저장합니다.\n",
    "2. `x`를 `y`로 나눈 결과를 `result`에 저장하고 출력하세요."
   ]
  },
  {
   "cell_type": "code",
   "execution_count": 3,
   "id": "880241c6",
   "metadata": {},
   "outputs": [
    {
     "name": "stdout",
     "output_type": "stream",
     "text": [
      "Division Result: 3.75\n"
     ]
    }
   ],
   "source": [
    "x = 7.5\n",
    "y = 2\n",
    "result = x / y\n",
    "print(\"Division Result:\", result)"
   ]
  },
  {
   "cell_type": "markdown",
   "id": "aeafaa91",
   "metadata": {},
   "source": [
    "### **문제 3**\n",
    "\n",
    "다음 조건을 만족하는 프로그램을 작성하세요.\n",
    "\n",
    "1. `num1`에 15를 저장하고, `num2`에 4를 저장합니다.\n",
    "2. 두 수의 **나머지**와 **몫**을 각각 구하여 출력하세요."
   ]
  },
  {
   "cell_type": "code",
   "execution_count": 12,
   "id": "9e2eadcd",
   "metadata": {},
   "outputs": [
    {
     "name": "stdout",
     "output_type": "stream",
     "text": [
      "Quotient: 3\n",
      "Remainder: 3\n"
     ]
    },
    {
     "ename": "NameError",
     "evalue": "name 'mod' is not defined",
     "output_type": "error",
     "traceback": [
      "\u001b[31m---------------------------------------------------------------------------\u001b[39m",
      "\u001b[31mNameError\u001b[39m                                 Traceback (most recent call last)",
      "\u001b[36mCell\u001b[39m\u001b[36m \u001b[39m\u001b[32mIn[12]\u001b[39m\u001b[32m, line 9\u001b[39m\n\u001b[32m      6\u001b[39m \u001b[38;5;28mprint\u001b[39m(\u001b[33m\"\u001b[39m\u001b[33mQuotient:\u001b[39m\u001b[33m\"\u001b[39m, quotient)\n\u001b[32m      7\u001b[39m \u001b[38;5;28mprint\u001b[39m(\u001b[33m\"\u001b[39m\u001b[33mRemainder:\u001b[39m\u001b[33m\"\u001b[39m, remainder)\n\u001b[32m----> \u001b[39m\u001b[32m9\u001b[39m result = \u001b[43mmod\u001b[49m(num1, num2)\n\u001b[32m     10\u001b[39m \u001b[38;5;28mprint\u001b[39m(\u001b[33m\"\u001b[39m\u001b[33mResult of mod function:\u001b[39m\u001b[33m\"\u001b[39m, result)\n",
      "\u001b[31mNameError\u001b[39m: name 'mod' is not defined"
     ]
    }
   ],
   "source": [
    "num1 = 15\n",
    "num2 = 4\n",
    "\n",
    "quotient = num1 // num2\n",
    "remainder = num1 % num2\n",
    "print(\"Quotient:\", quotient)\n",
    "print(\"Remainder:\", remainder)\n",
    "\n",
    "result = mod(num1, num2)\n",
    "print(\"Result of mod function:\", result)"
   ]
  },
  {
   "cell_type": "markdown",
   "id": "a62ca273",
   "metadata": {},
   "source": [
    "### **문제 4**\n",
    "\n",
    "다음 조건에 맞는 변수를 선언하고 결과를 출력하세요.\n",
    "\n",
    "1. `base`에 숫자 2를 저장하고, `exponent`에 숫자 5를 저장합니다.\n",
    "2. `base`를 `exponent`만큼 제곱한 결과를 출력하세요."
   ]
  },
  {
   "cell_type": "code",
   "execution_count": 5,
   "id": "f8b9e565",
   "metadata": {},
   "outputs": [
    {
     "name": "stdout",
     "output_type": "stream",
     "text": [
      "Result of base raised to exponent: 32\n"
     ]
    }
   ],
   "source": [
    "base = 2\n",
    "exponent = 5\n",
    "result = base ** exponent\n",
    "print(\"Result of base raised to exponent:\", result)"
   ]
  },
  {
   "cell_type": "markdown",
   "id": "7a97394d",
   "metadata": {},
   "source": [
    "### **문제 5**\n",
    "\n",
    "다음 조건에 맞는 프로그램을 작성하세요.\n",
    "\n",
    "1. `number`라는 변수에 숫자 3을 저장합니다.\n",
    "2. 이 숫자가 **짝수인지 홀수인지**를 확인하세요."
   ]
  },
  {
   "cell_type": "code",
   "execution_count": 13,
   "id": "b73ab7b1",
   "metadata": {},
   "outputs": [
    {
     "name": "stdout",
     "output_type": "stream",
     "text": [
      "The number is odd.\n"
     ]
    }
   ],
   "source": [
    "number = 3\n",
    "if number % 2 == 0: # Check if the number is even\n",
    "    print(\"The number is even.\")\n",
    "else:\n",
    "    print(\"The number is odd.\")"
   ]
  },
  {
   "cell_type": "code",
   "execution_count": 14,
   "id": "99e49d68",
   "metadata": {},
   "outputs": [
    {
     "data": {
      "text/plain": [
       "False"
      ]
     },
     "execution_count": 14,
     "metadata": {},
     "output_type": "execute_result"
    }
   ],
   "source": [
    "number = 3\n",
    "\n",
    "number % 2 == 0 # Check if the number is even"
   ]
  }
 ],
 "metadata": {
  "kernelspec": {
   "display_name": "pystudy_env",
   "language": "python",
   "name": "python3"
  },
  "language_info": {
   "codemirror_mode": {
    "name": "ipython",
    "version": 3
   },
   "file_extension": ".py",
   "mimetype": "text/x-python",
   "name": "python",
   "nbconvert_exporter": "python",
   "pygments_lexer": "ipython3",
   "version": "3.12.11"
  }
 },
 "nbformat": 4,
 "nbformat_minor": 5
}
