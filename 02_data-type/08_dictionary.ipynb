{
 "cells": [
  {
   "cell_type": "markdown",
   "id": "0ec2a70a",
   "metadata": {},
   "source": [
    "### 딕셔너리"
   ]
  },
  {
   "cell_type": "code",
   "execution_count": 10,
   "id": "1c6e6ae0",
   "metadata": {},
   "outputs": [],
   "source": [
    "empty_dict = {}  # 빈 딕셔너리\n",
    "my_dict = {\n",
    "    'name' : 'rabbit',\n",
    "    'height' : '170',\n",
    "    'job' : 'teacher',\n",
    "    'bag' : ['ipad', 'water', 'pencil'],\n",
    "    'happy' : True\n",
    "}"
   ]
  },
  {
   "cell_type": "code",
   "execution_count": 3,
   "id": "62c55ce2",
   "metadata": {},
   "outputs": [
    {
     "name": "stdout",
     "output_type": "stream",
     "text": [
      "<class 'dict'>\n"
     ]
    }
   ],
   "source": [
    "print(type(empty_dict))  # Output: <class 'dict'>"
   ]
  },
  {
   "cell_type": "code",
   "execution_count": 4,
   "id": "296ecfac",
   "metadata": {},
   "outputs": [
    {
     "name": "stdout",
     "output_type": "stream",
     "text": [
      "dict_keys(['name', 'height', 'job', 'bag', 'happy'])\n",
      "dict_values(['rabbit', '170', 'teacher', ['ipad', 'water', 'pencil'], True])\n",
      "dict_items([('name', 'rabbit'), ('height', '170'), ('job', 'teacher'), ('bag', ['ipad', 'water', 'pencil']), ('happy', True)])\n"
     ]
    }
   ],
   "source": [
    "print(my_dict.keys())\n",
    "print(my_dict.values())\n",
    "print(my_dict.items())"
   ]
  },
  {
   "cell_type": "code",
   "execution_count": 5,
   "id": "d7e6e386",
   "metadata": {},
   "outputs": [
    {
     "name": "stdout",
     "output_type": "stream",
     "text": [
      "rabbit\n"
     ]
    }
   ],
   "source": [
    "print(my_dict['name'])  # Output: rabbit"
   ]
  },
  {
   "cell_type": "code",
   "execution_count": 6,
   "id": "09a5741d",
   "metadata": {},
   "outputs": [
    {
     "name": "stdout",
     "output_type": "stream",
     "text": [
      "{'name': 'koala', 'height': '170', 'job': 'teacher', 'bag': ['ipad', 'water', 'pencil'], 'happy': True}\n"
     ]
    }
   ],
   "source": [
    "my_dict['name'] = 'koala'  # Update the value for the key 'name'\n",
    "print(my_dict)"
   ]
  },
  {
   "cell_type": "code",
   "execution_count": 11,
   "id": "d045d5be",
   "metadata": {},
   "outputs": [
    {
     "name": "stdout",
     "output_type": "stream",
     "text": [
      "{'name': 'rabbit', 'height': '170', 'job': 'teacher', 'bag': ['ipad', 'water', 'pencil']}\n"
     ]
    }
   ],
   "source": [
    "del my_dict['happy']\n",
    "print(my_dict)"
   ]
  },
  {
   "cell_type": "markdown",
   "id": "5a341e2d",
   "metadata": {},
   "source": [
    "### **문제 1**\n",
    "\n",
    "아래 조건을 만족하는 딕셔너리를 생성하세요.\n",
    "\n",
    "1. `student`라는 이름의 딕셔너리를 선언하고 다음 키-값 쌍을 추가하세요:\n",
    "    - `'name'`: `'John'`\n",
    "    - `'age'`: `20`\n",
    "    - `'major'`: `'Computer Science'`\n",
    "2. `'age'`의 값을 출력하세요."
   ]
  },
  {
   "cell_type": "code",
   "execution_count": 12,
   "id": "01e5b83d",
   "metadata": {},
   "outputs": [
    {
     "name": "stdout",
     "output_type": "stream",
     "text": [
      "20\n"
     ]
    }
   ],
   "source": [
    "students = {\n",
    "    'name' : 'John',\n",
    "    'age' : 20,\n",
    "    'major' : 'Computer Science'\n",
    "}\n",
    "print(students['age'])"
   ]
  },
  {
   "cell_type": "markdown",
   "id": "440b2539",
   "metadata": {},
   "source": [
    "### **문제 2**\n",
    "\n",
    "아래 조건에 맞게 딕셔너리를 수정하세요.\n",
    "\n",
    "1. `scores`라는 딕셔너리에 `'math': 80, 'english': 90`을 저장하세요.\n",
    "2. `'math'`의 값을 `95`로 변경하고 딕셔너리를 출력하세요."
   ]
  },
  {
   "cell_type": "code",
   "execution_count": 13,
   "id": "93bf220f",
   "metadata": {},
   "outputs": [
    {
     "name": "stdout",
     "output_type": "stream",
     "text": [
      "{'math': 95, 'english': 90}\n"
     ]
    }
   ],
   "source": [
    "scores = {\n",
    "    'math' : 80,\n",
    "    'english' : 90\n",
    "}\n",
    "scores['math'] = 95\n",
    "print(scores)"
   ]
  },
  {
   "cell_type": "markdown",
   "id": "36981688",
   "metadata": {},
   "source": [
    "### **문제 3**\n",
    "\n",
    "다음 조건에 맞게 딕셔너리를 조작하세요.\n",
    "\n",
    "1. `students` 딕셔너리에 `'student1': 85, 'student2': 90, 'student3': 95`를 저장하세요.\n",
    "2. `pop()` 메서드를 사용해 `'student2'`의 값을 제거하고, 제거된 값을 출력하세요."
   ]
  },
  {
   "cell_type": "code",
   "execution_count": 33,
   "id": "30f8a525",
   "metadata": {},
   "outputs": [
    {
     "name": "stdout",
     "output_type": "stream",
     "text": [
      "{'students1': 85, 'students2': 90, 'students3': 95}\n"
     ]
    }
   ],
   "source": [
    "students = {\n",
    "    'students1' : 85,\n",
    "    'students2' : 90,\n",
    "    'students3' : 95\n",
    "}\n",
    "print(students)"
   ]
  },
  {
   "cell_type": "code",
   "execution_count": 34,
   "id": "2db14b8e",
   "metadata": {},
   "outputs": [
    {
     "name": "stdout",
     "output_type": "stream",
     "text": [
      "students2의 제거된 값은 90입니다.\n",
      "{'students1': 85, 'students3': 95}\n"
     ]
    }
   ],
   "source": [
    "pop_result = students.pop('students2')  # Remove the key 'students2'\n",
    "print(f\"students2의 제거된 값은 {pop_result}입니다.\")\n",
    "print(students)"
   ]
  },
  {
   "cell_type": "code",
   "execution_count": null,
   "id": "beec8384",
   "metadata": {},
   "outputs": [],
   "source": []
  }
 ],
 "metadata": {
  "kernelspec": {
   "display_name": "pystudy_env",
   "language": "python",
   "name": "python3"
  },
  "language_info": {
   "codemirror_mode": {
    "name": "ipython",
    "version": 3
   },
   "file_extension": ".py",
   "mimetype": "text/x-python",
   "name": "python",
   "nbconvert_exporter": "python",
   "pygments_lexer": "ipython3",
   "version": "3.12.11"
  }
 },
 "nbformat": 4,
 "nbformat_minor": 5
}
