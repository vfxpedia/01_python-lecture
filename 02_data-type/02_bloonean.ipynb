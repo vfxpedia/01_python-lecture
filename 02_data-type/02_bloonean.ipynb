{
 "cells": [
  {
   "cell_type": "markdown",
   "id": "34983b32",
   "metadata": {},
   "source": [
    "논리형"
   ]
  },
  {
   "cell_type": "code",
   "execution_count": null,
   "id": "b59d2aad",
   "metadata": {},
   "outputs": [],
   "source": [
    "bool1 = True\n",
    "bool2 = False"
   ]
  },
  {
   "cell_type": "code",
   "execution_count": 8,
   "id": "594c873b",
   "metadata": {},
   "outputs": [
    {
     "name": "stdout",
     "output_type": "stream",
     "text": [
      "<class 'bool'>\n"
     ]
    }
   ],
   "source": [
    "print(type(bool1))  # Output: <class 'bool'>"
   ]
  },
  {
   "cell_type": "code",
   "execution_count": 21,
   "id": "27a23e58",
   "metadata": {},
   "outputs": [
    {
     "name": "stdout",
     "output_type": "stream",
     "text": [
      "False\n",
      "False\n",
      "True\n",
      "False\n",
      "True\n",
      "True\n",
      "False\n"
     ]
    }
   ],
   "source": [
    "print('hello' == 'Hello') # False\n",
    "print(100 != 100) # False\n",
    "print(10 > 9) # True\n",
    "print(10 < 9) # False\n",
    "print(10 <= 10) # True\n",
    "print(10 >= 9) # True\n",
    "print('a' <  'A') # False -> ASCII 코드로 비교"
   ]
  },
  {
   "cell_type": "markdown",
   "id": "a795ec43",
   "metadata": {},
   "source": [
    "---\n",
    "### 문제 1\n",
    "\n",
    "다음 조건에 맞게 변수를 선언하세요.\n",
    "\n",
    "1. `is_student`라는 논리형 변수를 선언하고 **True**를 저장합니다.\n",
    "2. 이 변수를 출력하고, 자료형도 함께 출력하세요."
   ]
  },
  {
   "cell_type": "code",
   "execution_count": 14,
   "id": "d38b6159",
   "metadata": {},
   "outputs": [
    {
     "name": "stdout",
     "output_type": "stream",
     "text": [
      "True\n",
      "<class 'bool'>\n"
     ]
    }
   ],
   "source": [
    "is_student = True\n",
    "print(is_student)  # Output: True\n",
    "print(type(is_student))  # Output: <class 'bool'>"
   ]
  },
  {
   "cell_type": "markdown",
   "id": "176975fe",
   "metadata": {},
   "source": [
    "### 문제 2"
   ]
  },
  {
   "cell_type": "code",
   "execution_count": 20,
   "id": "e37f5f9b",
   "metadata": {},
   "outputs": [
    {
     "name": "stdout",
     "output_type": "stream",
     "text": [
      "True\n",
      "True\n",
      "False\n",
      "False\n",
      "True\n",
      "False\n"
     ]
    }
   ],
   "source": [
    "name = '고양이'\n",
    "age = 20\n",
    "gender = 'male'\n",
    "\n",
    "# 1. 이름이 고양이면 True\n",
    "print(name == '고양이')\n",
    "\n",
    "# 2. 성인이면 True (19세 이상을 성인이라고 기준함)\n",
    "print(age >= 19)\n",
    "\n",
    "# 3. 성인이면서 여성이면 True\n",
    "print(age >= 19 and gender == 'female')\n",
    "\n",
    "# 4. 이름이 호랑이면서 성인이면서 남성이면 True\n",
    "print(name == '호랑이' and age >= 19 and gender == 'male ')\n",
    "\n",
    "# 5. 이름이 고양이거나 성인이면 True\n",
    "print(name == '고양이' or age >= 19)\n",
    "\n",
    "# 6. 이름이 고양이가 아니면 True (논리연산 not 이용)\n",
    "print(not name == '고양이')"
   ]
  },
  {
   "cell_type": "code",
   "execution_count": 23,
   "id": "b0e3bbcb",
   "metadata": {},
   "outputs": [],
   "source": [
    "# 제 이름은 홍길동입니다. 33살이고요. 반갑습니다.\n",
    "\n",
    "name = '홍길동'\n",
    "age = 33"
   ]
  },
  {
   "cell_type": "code",
   "execution_count": 25,
   "id": "5b17eab5",
   "metadata": {},
   "outputs": [
    {
     "name": "stdout",
     "output_type": "stream",
     "text": [
      "제 이름은 홍길동입니다. 33살이고요. 반갑습니다\n"
     ]
    }
   ],
   "source": [
    "print(f\"제 이름은 {name}입니다. {age}살이고요. 반갑습니다\")"
   ]
  },
  {
   "cell_type": "code",
   "execution_count": 26,
   "id": "a5a42226",
   "metadata": {},
   "outputs": [
    {
     "name": "stdout",
     "output_type": "stream",
     "text": [
      "제 이름은 홍길동입니다. 33살이고요. 반갑습니다\n"
     ]
    }
   ],
   "source": [
    "print(\"제 이름은 {}입니다. {}살이고요. 반갑습니다\".format(name, age))"
   ]
  },
  {
   "cell_type": "code",
   "execution_count": null,
   "id": "78af0c56",
   "metadata": {},
   "outputs": [],
   "source": [
    "print(\"제 이름은 %s 입니다. %d살이고요. 반갑습니다\" % (name, age))\n",
    "print(\"제 이름은 {0}입니다. {1}살이고요. 반갑습니다\".format(name, age)\n",
    "print(\"제 이름은 {name}입니다. {age}살이고요. 반갑습니다\".format(name=name, age=age)\n",
    ")"
   ]
  }
 ],
 "metadata": {
  "kernelspec": {
   "display_name": "pystudy_env",
   "language": "python",
   "name": "python3"
  },
  "language_info": {
   "codemirror_mode": {
    "name": "ipython",
    "version": 3
   },
   "file_extension": ".py",
   "mimetype": "text/x-python",
   "name": "python",
   "nbconvert_exporter": "python",
   "pygments_lexer": "ipython3",
   "version": "3.12.11"
  }
 },
 "nbformat": 4,
 "nbformat_minor": 5
}
