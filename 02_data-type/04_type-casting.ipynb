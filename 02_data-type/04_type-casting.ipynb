{
 "cells": [
  {
   "cell_type": "markdown",
   "id": "1422a007",
   "metadata": {},
   "source": [
    "### 형 변환"
   ]
  },
  {
   "cell_type": "code",
   "execution_count": 4,
   "id": "5e9000b3",
   "metadata": {},
   "outputs": [],
   "source": [
    "num = 300\n",
    "my_str = '번째'"
   ]
  },
  {
   "cell_type": "code",
   "execution_count": 6,
   "id": "18e57251",
   "metadata": {},
   "outputs": [
    {
     "name": "stdout",
     "output_type": "stream",
     "text": [
      "300번째\n",
      "300번째\n"
     ]
    }
   ],
   "source": [
    "# print(num + my_str) -> type error\n",
    "print(str(num) + my_str)  # Convert num to string before concatenation\n",
    "print(f\"{num}{my_str}\")  # Using f-string for formatting"
   ]
  },
  {
   "cell_type": "code",
   "execution_count": 8,
   "id": "cfa58bd8",
   "metadata": {},
   "outputs": [
    {
     "name": "stdout",
     "output_type": "stream",
     "text": [
      "4.140000000000001\n"
     ]
    }
   ],
   "source": [
    "# Implicit type casting example 암묵적 형 변환 예시\n",
    "num1 = 1\n",
    "num2 = 3.14\n",
    "\n",
    "print(num1 + num2)  # Implicit type casting: int to float"
   ]
  },
  {
   "cell_type": "code",
   "execution_count": 9,
   "id": "857b275c",
   "metadata": {},
   "outputs": [
    {
     "name": "stdout",
     "output_type": "stream",
     "text": [
      "185\n"
     ]
    }
   ],
   "source": [
    "# Explicit type casting example 명시적 형 변환 예시\n",
    "height = 185.234\n",
    "print(int(height))  # Convert float to int, truncating the decimal part"
   ]
  },
  {
   "cell_type": "code",
   "execution_count": null,
   "id": "94b87df8",
   "metadata": {},
   "outputs": [],
   "source": []
  }
 ],
 "metadata": {
  "kernelspec": {
   "display_name": "pystudy_env",
   "language": "python",
   "name": "python3"
  },
  "language_info": {
   "codemirror_mode": {
    "name": "ipython",
    "version": 3
   },
   "file_extension": ".py",
   "mimetype": "text/x-python",
   "name": "python",
   "nbconvert_exporter": "python",
   "pygments_lexer": "ipython3",
   "version": "3.12.11"
  }
 },
 "nbformat": 4,
 "nbformat_minor": 5
}
