{
 "cells": [
  {
   "cell_type": "markdown",
   "id": "b2ae6e83",
   "metadata": {},
   "source": [
    "### 리스트"
   ]
  },
  {
   "cell_type": "code",
   "execution_count": 2,
   "id": "e06e3112",
   "metadata": {},
   "outputs": [],
   "source": [
    "fruits = ['apple', 'cherry', 'orange', 'durian']\n",
    "animals = []\n",
    "anything = [2025, 8, 20, 'python', ['number', 'string', 'boolean'], True]"
   ]
  },
  {
   "cell_type": "code",
   "execution_count": null,
   "id": "f1d1c3f1",
   "metadata": {},
   "outputs": [
    {
     "name": "stdout",
     "output_type": "stream",
     "text": [
      "red, orange, yellow, green, blue, navy, purple\n",
      "['red', 'orange', 'yellow', 'green', 'blue', 'navy', 'purple']\n"
     ]
    }
   ],
   "source": [
    "rainbow_str = 'red-orange-yellow-green-blue-navy-purple'\n",
    "print(rainbow_str.replace('-', ', '))\n",
    "rainbow = rainbow_str.split('-') # Splitting the string into a list\n",
    "print(rainbow)\n",
    "\n",
    "# 'red', 'orange', 'yellow', 'green', 'blue', 'navy', 'purple'"
   ]
  },
  {
   "cell_type": "markdown",
   "id": "4fc8d746",
   "metadata": {},
   "source": [
    "---\n",
    "### 리스트의 연산"
   ]
  },
  {
   "cell_type": "code",
   "execution_count": 9,
   "id": "08805277",
   "metadata": {},
   "outputs": [
    {
     "name": "stdout",
     "output_type": "stream",
     "text": [
      "['apple', 'cherry', 'orange', 'durian', 2025, 8, 20, 'python', ['number', 'string', 'boolean'], True]\n"
     ]
    }
   ],
   "source": [
    "added_list = fruits + anything\n",
    "print(added_list)"
   ]
  },
  {
   "cell_type": "code",
   "execution_count": 11,
   "id": "8af3133c",
   "metadata": {},
   "outputs": [
    {
     "name": "stdout",
     "output_type": "stream",
     "text": [
      "['apple', 'cherry', 'orange', 'durian', 'apple', 'cherry', 'orange', 'durian', 'apple', 'cherry', 'orange', 'durian']\n"
     ]
    }
   ],
   "source": [
    "multiple_list = fruits * 3\n",
    "print(multiple_list)"
   ]
  },
  {
   "cell_type": "markdown",
   "id": "b76609f0",
   "metadata": {},
   "source": [
    "---\n",
    "### 리스트의 메서드"
   ]
  },
  {
   "cell_type": "code",
   "execution_count": 19,
   "id": "4ea5f1d2",
   "metadata": {},
   "outputs": [],
   "source": [
    "num_list = [2025, 8, 20, 11, 31]"
   ]
  },
  {
   "cell_type": "code",
   "execution_count": 22,
   "id": "f94cb62b",
   "metadata": {},
   "outputs": [
    {
     "name": "stdout",
     "output_type": "stream",
     "text": [
      "[2025, 8, 20, 11, 31, 7]\n"
     ]
    }
   ],
   "source": [
    "num_list.append(7)\n",
    "print(num_list)"
   ]
  },
  {
   "cell_type": "code",
   "execution_count": 24,
   "id": "1cfd0ebd",
   "metadata": {},
   "outputs": [
    {
     "name": "stdout",
     "output_type": "stream",
     "text": [
      "[77, 2025, 8, 20, 11, 31, 7]\n"
     ]
    }
   ],
   "source": [
    "num_list.insert(0, 77)\n",
    "print(num_list)"
   ]
  },
  {
   "cell_type": "code",
   "execution_count": 27,
   "id": "07577cee",
   "metadata": {},
   "outputs": [
    {
     "name": "stdout",
     "output_type": "stream",
     "text": [
      "[77, 2025, 8, 20, 11, 31, 7, 777, 777, 777]\n"
     ]
    }
   ],
   "source": [
    "num_list.append(777)\n",
    "print(num_list)"
   ]
  },
  {
   "cell_type": "code",
   "execution_count": 29,
   "id": "4a2cf79a",
   "metadata": {},
   "outputs": [
    {
     "name": "stdout",
     "output_type": "stream",
     "text": [
      "[77, 2025, 8, 20, 11, 31, 7, 777, 777]\n"
     ]
    }
   ],
   "source": [
    "num_list.remove(777)\n",
    "print(num_list)"
   ]
  },
  {
   "cell_type": "code",
   "execution_count": null,
   "id": "b38d1625",
   "metadata": {},
   "outputs": [
    {
     "name": "stdout",
     "output_type": "stream",
     "text": [
      "[8, 11, 20, 31, 2025]\n",
      "[2025, 31, 20, 11, 8]\n"
     ]
    }
   ],
   "source": [
    "num_list = [2025, 8, 20, 11, 31]\n",
    "num_list.sort()\n",
    "print(num_list)\n",
    "num_list.sort(reverse=True) # in-place sorting in descending order, method modifies the original list\n",
    "print(num_list)"
   ]
  },
  {
   "cell_type": "code",
   "execution_count": 39,
   "id": "d9426b5d",
   "metadata": {},
   "outputs": [
    {
     "name": "stdout",
     "output_type": "stream",
     "text": [
      "[8, 11, 20, 47, 2025]\n",
      "[2025, 8, 20, 11, 47]\n"
     ]
    }
   ],
   "source": [
    "num_list2 = [2025, 8, 20, 11, 47]\n",
    "\n",
    "sorted(num_list2) # This returns a new sorted list without modifying the original list\n",
    "print(sorted(num_list2))  # Sorted list\n",
    "print(num_list2)  # Original list remains unchanged\n"
   ]
  },
  {
   "cell_type": "code",
   "execution_count": 41,
   "id": "9ef63de4",
   "metadata": {},
   "outputs": [
    {
     "name": "stdout",
     "output_type": "stream",
     "text": [
      "['apple', 'cherry', 'durian', 'orange']\n",
      "['apple', 'cherry', 'orange', 'durian']\n"
     ]
    }
   ],
   "source": [
    "print(sorted(fruits))  # Sorted list of fruits\n",
    "print(fruits)  # Original list remains unchanged"
   ]
  },
  {
   "cell_type": "code",
   "execution_count": 42,
   "id": "8d73520d",
   "metadata": {},
   "outputs": [
    {
     "name": "stdout",
     "output_type": "stream",
     "text": [
      "['apple', 'cherry', 'durian', 'orange']\n",
      "['apple', 'cherry', 'orange', 'durian']\n"
     ]
    }
   ],
   "source": [
    "sorted_fruits = sorted(fruits)  # This returns a new sorted list without modifying the original list\n",
    "print(sorted_fruits)  # Sorted list of fruits\n",
    "print(fruits)  # Original list remains unchanged"
   ]
  },
  {
   "cell_type": "markdown",
   "id": "f3f9e123",
   "metadata": {},
   "source": [
    "---\n",
    "### 인덱스와 슬라이싱"
   ]
  },
  {
   "cell_type": "code",
   "execution_count": null,
   "id": "c2870107",
   "metadata": {},
   "outputs": [
    {
     "name": "stdout",
     "output_type": "stream",
     "text": [
      "8\n",
      "['number', 'string', 'boolean']\n",
      "string\n",
      "m\n",
      "num\n",
      "mun\n"
     ]
    }
   ],
   "source": [
    "#anything = [2025, 8, 20, 'python', ['number', 'string', 'boolean'], True]\n",
    "\n",
    "first_ele = anything[1]  # Accessing the second element (index 1)\n",
    "forth_ele = anything[4]  # Accessing the fifth element (index 4)\n",
    "\n",
    "print(first_ele)  # Output: 8\n",
    "print(forth_ele)  # Output: ['number', 'string', 'boolean']\n",
    "print(forth_ele[1])  # Accessing the second element of the nested list, Output: 'string'\n",
    "print(forth_ele[0][2])  # Accessing the third character of the first string in the nested list, Output: 'm'\n",
    "print(forth_ele[0][0:3])  # Slicing the first string to get 'num', Output: 'num'\n",
    "print(forth_ele[0][-4::-1])  # Slicing the first string to get 'mun', Output: 'mun'"
   ]
  },
  {
   "cell_type": "code",
   "execution_count": 52,
   "id": "0ecf8ce2",
   "metadata": {},
   "outputs": [
    {
     "name": "stdout",
     "output_type": "stream",
     "text": [
      "True\n"
     ]
    }
   ],
   "source": [
    "print(anything[-1])  # Accessing the last element, Output: True"
   ]
  },
  {
   "cell_type": "code",
   "execution_count": 53,
   "id": "061130e7",
   "metadata": {},
   "outputs": [
    {
     "name": "stdout",
     "output_type": "stream",
     "text": [
      "[2025, 8, 20, 'python', ['number', 'string', 'boolean'], False]\n"
     ]
    }
   ],
   "source": [
    "anything[-1] = False  # Modifying the last element\n",
    "print(anything)  # Output: [2025, 8, 20, 'python', ['number', 'string', 'boolean'], False]"
   ]
  },
  {
   "cell_type": "code",
   "execution_count": 61,
   "id": "aa5b5641",
   "metadata": {},
   "outputs": [
    {
     "name": "stdout",
     "output_type": "stream",
     "text": [
      "2025-8-20\n"
     ]
    }
   ],
   "source": [
    "# Slcing and indexing examples\n",
    "#anything = [2025, 8, 20, 'python', ['number', 'string', 'boolean'], True]\n",
    "\n",
    "today = anything[:3]  # Slicing to get the first three elements\n",
    "today = anything[0:3]  # Slicing to get the first three elements\n",
    "x, y, z = today\n",
    "# print(today)) # print 2025-8-20\n",
    "print(x, y, z, sep ='-')  # Output: 2025 8 20"
   ]
  },
  {
   "cell_type": "markdown",
   "id": "fed915f4",
   "metadata": {},
   "source": [
    "[start:end:step]\n",
    "역방향으로 슬라이싱 step에 값을 음수로 넣는다."
   ]
  },
  {
   "cell_type": "code",
   "execution_count": 68,
   "id": "cebfff94",
   "metadata": {},
   "outputs": [
    {
     "name": "stdout",
     "output_type": "stream",
     "text": [
      "[2025, 8, 20]\n",
      "['python', ['number', 'string', 'boolean']]\n",
      "[['number', 'string', 'boolean'], 'python']\n"
     ]
    }
   ],
   "source": [
    "print(today)\n",
    "\n",
    "str = anything[-3:-1]\n",
    "str1 = anything[-2:-4:-1]  # This will return an empty list because the start index is greater than the end index\n",
    "print(str)  # Output: ['python', ['number', 'string', 'boolean']]\n",
    "print(str1)  # Output: [['number', 'string', 'boolean'], 'python']"
   ]
  },
  {
   "cell_type": "code",
   "execution_count": 70,
   "id": "80fd0deb",
   "metadata": {},
   "outputs": [],
   "source": [
    "#         0    1    2    3    4    5    6    7    8    9   10\n",
    "texts = ['h', 'e', 'l', 'l', 'o', ',', 'w', 'o', 'r', 'l', 'd']"
   ]
  },
  {
   "cell_type": "code",
   "execution_count": 72,
   "id": "aa39a4c2",
   "metadata": {},
   "outputs": [
    {
     "name": "stdout",
     "output_type": "stream",
     "text": [
      "['h', 'e', 'l', 'l', 'o']\n",
      "['h', 'e', 'l', 'l', 'o', ',', 'w', 'o', 'r', 'l', 'd']\n",
      "['h', 'l', 'o', 'w', 'r', 'd']\n",
      "['d', 'l', 'r', 'o', 'w', ',', 'o', 'l', 'l', 'e', 'h']\n",
      "['w', 'o', 'r', 'l', 'd']\n",
      "['e', 'l', ',', 'o', 'l']\n",
      "[]\n",
      "['d', 'r', 'w']\n"
     ]
    }
   ],
   "source": [
    "print(texts[:5])      # Output: ['h', 'e', 'l', 'l', 'o']\n",
    "print(texts[:])       # Output: ['h', 'e', 'l', 'l', 'o', ',', 'w', 'o', 'r', 'l', 'd']\n",
    "print(texts[::2])     # Output: ['h', 'l', 'o', 'w', 'r', 'd']\n",
    "print(texts[::-1])    # Output: ['d', 'l', 'r', 'o', 'w', ',', 'o', 'l', 'l', 'e', 'h']\n",
    "print(texts[6:])      # Output: ['w', 'o', 'r', 'l', 'd']\n",
    "print(texts[1::2])    # Output: ['e', 'l', ',', 'o', 'l']\n",
    "print(texts[0:5:-2])  # Output: [] (empty list, as the start index is less than the end index with a negative step)\n",
    "print(texts[:5:-2])  # Output: ['h', 'l', 'o'] (slicing with a negative step)"
   ]
  },
  {
   "cell_type": "markdown",
   "id": "ab5687b7",
   "metadata": {},
   "source": [
    "### **문제 1**\n",
    "\n",
    "아래 조건에 맞게 리스트를 선언하고 결과를 출력하세요.\n",
    "\n",
    "1. `fruits`라는 리스트에 다음 요소를 저장하세요.\n",
    "    - `'apple', 'banana', 'cherry'`.\n",
    "2. `print()`를 사용해 `fruits`의 첫 번째 요소와 세 번째 요소를 출력하세요.\n",
    "\n",
    "### **문제 2**\n",
    "\n",
    "다음 조건을 만족하는 리스트를 만드세요.\n",
    "\n",
    "1. `numbers`라는 리스트를 선언하고 숫자 `1`부터 `5`까지 저장하세요.\n",
    "2. 이 리스트의 **길이**를 출력하세요.\n",
    "\n",
    "### **문제 3**\n",
    "\n",
    "다음 조건에 맞게 리스트를 조작하세요.\n",
    "\n",
    "1. `animals` 리스트에 `'cat', 'dog', 'bird'`를 저장하세요.\n",
    "2. 이 리스트의 마지막에 `'fish'`를 추가하고, 리스트를 출력하세요.\n",
    "\n",
    "### **문제 4**\n",
    "\n",
    "아래 조건에 맞는 프로그램을 작성하세요.\n",
    "\n",
    "1. `numbers` 리스트에 숫자 `3, 6, 9`를 저장하세요.\n",
    "2. 리스트의 첫 번째 요소를 **2배**로 만들어 다시 저장하고, 리스트를 출력하세요.\n",
    "\n",
    "### **문제 5**\n",
    "\n",
    "아래 문자열을 리스트로 변환하고 결과를 출력하세요.\n",
    "\n",
    "1. 문자열 `'Python-is-fun'`을 `'-'`를 기준으로 분리하여 리스트로 만드세요.\n",
    "2. 결과 리스트를 출력하세요.\n",
    "\n",
    "### **문제 6**\n",
    "\n",
    "아래 조건에 맞게 리스트와 문자열을 활용하세요.\n",
    "\n",
    "1. 리스트 `words`에 `'Life', 'is', 'too', 'short'`를 저장하세요.\n",
    "2. 리스트의 요소를 공백으로 이어붙여 문자열 `'Life is too short'`를 출력하세요.\n",
    "\n",
    "### **문제 7**\n",
    "\n",
    "아래 조건에 맞게 리스트의 요소를 수정하세요.\n",
    "\n",
    "1. `colors` 리스트에 `'red', 'blue', 'green'`을 저장하세요.\n",
    "2. `'blue'`를 `'yellow'`로 변경하고 리스트를 출력하세요.\n",
    "\n",
    "### **문제 8**\n",
    "\n",
    "아래 조건에 맞는 프로그램을 작성하세요.\n",
    "\n",
    "1. 리스트 `numbers`에 숫자 `1, 2, 3, 4, 5`를 저장하세요.\n",
    "2. 슬라이싱을 이용하여 다음을 수행하세요:\n",
    "    - 리스트의 **처음 3개의 요소**를 출력하세요.\n",
    "    - 리스트의 **마지막 2개의 요소**를 출력하세요.\n",
    "    - 리스트의 **모든 요소를 역순**으로 출력하세요."
   ]
  },
  {
   "cell_type": "code",
   "execution_count": 75,
   "id": "da112839",
   "metadata": {},
   "outputs": [
    {
     "name": "stdout",
     "output_type": "stream",
     "text": [
      "apple cherry\n"
     ]
    }
   ],
   "source": [
    "\"\"\"\n",
    "### **문제 1**\n",
    "\n",
    "아래 조건에 맞게 리스트를 선언하고 결과를 출력하세요.\n",
    "\n",
    "1. `fruits`라는 리스트에 다음 요소를 저장하세요.\n",
    "    - `'apple', 'banana', 'cherry'`.\n",
    "2. `print()`를 사용해 `fruits`의 첫 번째 요소와 세 번째 요소를 출력하세요.\n",
    "\"\"\"\n",
    "fruits = ['apple', 'banana', 'cherry']\n",
    "print(fruits[0], fruits[2])  # Output: apple cherry"
   ]
  },
  {
   "cell_type": "code",
   "execution_count": 76,
   "id": "34c1dc87",
   "metadata": {},
   "outputs": [
    {
     "name": "stdout",
     "output_type": "stream",
     "text": [
      "5\n"
     ]
    }
   ],
   "source": [
    "\"\"\"\n",
    "### **문제 2**\n",
    "\n",
    "다음 조건을 만족하는 리스트를 만드세요.\n",
    "\n",
    "1. `numbers`라는 리스트를 선언하고 숫자 `1`부터 `5`까지 저장하세요.\n",
    "2. 이 리스트의 **길이**를 출력하세요.\n",
    "\"\"\"\n",
    "numbers = [1, 2, 3, 4, 5]\n",
    "print(len(numbers))  # Output: 5"
   ]
  },
  {
   "cell_type": "code",
   "execution_count": 77,
   "id": "5a68b3b4",
   "metadata": {},
   "outputs": [
    {
     "name": "stdout",
     "output_type": "stream",
     "text": [
      "['cat', 'dog', 'bird', 'fish']\n"
     ]
    }
   ],
   "source": [
    "\"\"\"\n",
    "### **문제 3**\n",
    "\n",
    "다음 조건에 맞게 리스트를 조작하세요.\n",
    "\n",
    "1. `animals` 리스트에 `'cat', 'dog', 'bird'`를 저장하세요.\n",
    "2. 이 리스트의 마지막에 `'fish'`를 추가하고, 리스트를 출력하세요.\n",
    "\"\"\"\n",
    "animals = ['cat', 'dog', 'bird']\n",
    "animals.append('fish')\n",
    "print(animals)  # Output: ['cat', 'dog', 'bird', 'fish']"
   ]
  },
  {
   "cell_type": "code",
   "execution_count": 79,
   "id": "4a02d0c3",
   "metadata": {},
   "outputs": [
    {
     "name": "stdout",
     "output_type": "stream",
     "text": [
      "[6, 6, 9]\n"
     ]
    }
   ],
   "source": [
    "'''\n",
    "### **문제 4**\n",
    "\n",
    "아래 조건에 맞는 프로그램을 작성하세요.\n",
    "\n",
    "1. `numbers` 리스트에 숫자 `3, 6, 9`를 저장하세요.\n",
    "2. 리스트의 첫 번째 요소를 **2배**로 만들어 다시 저장하고, 리스트를 출력하세요.\n",
    "'''\n",
    "numbers = [3, 6, 9]\n",
    "numbers[0] *= 2 # Doubling the first element\n",
    "print(numbers)  # Output: [6, 6, 9]"
   ]
  },
  {
   "cell_type": "code",
   "execution_count": 82,
   "id": "53bb3cc0",
   "metadata": {},
   "outputs": [
    {
     "name": "stdout",
     "output_type": "stream",
     "text": [
      "['Python', 'is', 'fun']\n"
     ]
    }
   ],
   "source": [
    "'''\n",
    "### **문제 5**\n",
    "\n",
    "아래 문자열을 리스트로 변환하고 결과를 출력하세요.\n",
    "\n",
    "1. 문자열 `'Python-is-fun'`을 `'-'`를 기준으로 분리하여 리스트로 만드세요.\n",
    "2. 결과 리스트를 출력하세요.\n",
    "'''\n",
    "new_str = 'Python-is-fun'\n",
    "result_list = new_str.split('-')  # Splitting the string into a list\n",
    "print(result_list)  # Output: ['Python', 'is', 'fun']"
   ]
  },
  {
   "cell_type": "code",
   "execution_count": 84,
   "id": "ebeb0aaf",
   "metadata": {},
   "outputs": [
    {
     "name": "stdout",
     "output_type": "stream",
     "text": [
      "Life is too short\n"
     ]
    }
   ],
   "source": [
    "'''\n",
    "### **문제 6**\n",
    "\n",
    "아래 조건에 맞게 리스트와 문자열을 활용하세요.\n",
    "\n",
    "1. 리스트 `words`에 `'Life', 'is', 'too', 'short'`를 저장하세요.\n",
    "2. 리스트의 요소를 공백으로 이어붙여 문자열 `'Life is too short'`를 출력하세요.\n",
    "'''\n",
    "words = ['Life', 'is', 'too', 'short']\n",
    "result_string = ' '.join(words)  # Joining the list elements with a space\n",
    "print(result_string)  # Output: Life is too short\n",
    "\n"
   ]
  },
  {
   "cell_type": "code",
   "execution_count": 85,
   "id": "49d5ab8d",
   "metadata": {},
   "outputs": [
    {
     "name": "stdout",
     "output_type": "stream",
     "text": [
      "['red', 'yellow', 'green']\n"
     ]
    }
   ],
   "source": [
    "'''\n",
    "### **문제 7**\n",
    "\n",
    "아래 조건에 맞게 리스트의 요소를 수정하세요.\n",
    "\n",
    "1. `colors` 리스트에 `'red', 'blue', 'green'`을 저장하세요.\n",
    "2. `'blue'`를 `'yellow'`로 변경하고 리스트를 출력하세요.\n",
    "'''\n",
    "\n",
    "colors = ['red', 'blue', 'green']\n",
    "colors[1] = 'yellow'  # Changing 'blue' to 'yellow'\n",
    "print(colors)  # Output: ['red', 'yellow', 'green']\n"
   ]
  },
  {
   "cell_type": "markdown",
   "id": "8bc50346",
   "metadata": {},
   "source": [
    "\n",
    "### **문제 8**\n",
    "\n",
    "아래 조건에 맞는 프로그램을 작성하세요.\n",
    "\n",
    "1. 리스트 `numbers`에 숫자 `1, 2, 3, 4, 5`를 저장하세요.\n",
    "2. 슬라이싱을 이용하여 다음을 수행하세요:\n",
    "    - 리스트의 **처음 3개의 요소**를 출력하세요.\n",
    "    - 리스트의 **마지막 2개의 요소**를 출력하세요.\n",
    "    - 리스트의 **모든 요소를 역순**으로 출력하세요."
   ]
  },
  {
   "cell_type": "code",
   "execution_count": 88,
   "id": "a05d4234",
   "metadata": {},
   "outputs": [
    {
     "data": {
      "text/plain": [
       "[5, 4, 3, 2, 1]"
      ]
     },
     "execution_count": 88,
     "metadata": {},
     "output_type": "execute_result"
    }
   ],
   "source": [
    "numbers = [1, 2, 3, 4, 5]\n",
    "numbers[:3]  # Output: [1, 2, 3]\n",
    "numbers[-2:] # Output: [4, 5]\n",
    "numbers[::-1]  # Output: [5, 4, 3, 2, 1]"
   ]
  },
  {
   "cell_type": "code",
   "execution_count": null,
   "id": "2affb4e7",
   "metadata": {},
   "outputs": [],
   "source": []
  }
 ],
 "metadata": {
  "kernelspec": {
   "display_name": "pystudy_env",
   "language": "python",
   "name": "python3"
  },
  "language_info": {
   "codemirror_mode": {
    "name": "ipython",
    "version": 3
   },
   "file_extension": ".py",
   "mimetype": "text/x-python",
   "name": "python",
   "nbconvert_exporter": "python",
   "pygments_lexer": "ipython3",
   "version": "3.12.11"
  }
 },
 "nbformat": 4,
 "nbformat_minor": 5
}
