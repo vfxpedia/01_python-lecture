{
 "cells": [
  {
   "cell_type": "markdown",
   "id": "fac199d0",
   "metadata": {},
   "source": [
    "### 셋(Set)"
   ]
  },
  {
   "cell_type": "code",
   "execution_count": 12,
   "id": "f14f2880",
   "metadata": {},
   "outputs": [],
   "source": [
    "empty_set = set({}) # empty_set \n",
    "empty_set2 = {}     # This is an empty dictionary, not a set\n",
    "empty_set3 = set()  # This is the correct way to create an empty set\n",
    "number_set = {1}\n",
    "anything = {2025, 8, 20, '오늘은 수요일', True}\n"
   ]
  },
  {
   "cell_type": "code",
   "execution_count": null,
   "id": "64e79a9e",
   "metadata": {},
   "outputs": [
    {
     "name": "stdout",
     "output_type": "stream",
     "text": [
      "<class 'set'>\n",
      "<class 'dict'>\n",
      "<class 'set'>\n"
     ]
    }
   ],
   "source": [
    "print(type(empty_set))  # Output: <class 'set'>\n",
    "print(type(empty_set2))  # Output: <class 'dict'>\n",
    "print(type(empty_set3))  # Output: <class 'set'>"
   ]
  },
  {
   "cell_type": "code",
   "execution_count": 7,
   "id": "1d5f869a",
   "metadata": {},
   "outputs": [],
   "source": [
    "animals = {'rabbit', 'wolf', 'koala', 'sheep', 'rabbit'}"
   ]
  },
  {
   "cell_type": "code",
   "execution_count": 8,
   "id": "7e271dfa",
   "metadata": {},
   "outputs": [
    {
     "name": "stdout",
     "output_type": "stream",
     "text": [
      "{'rabbit', 'koala', 'wolf', 'sheep'}\n"
     ]
    }
   ],
   "source": [
    "print(animals)"
   ]
  },
  {
   "cell_type": "markdown",
   "id": "77b75ce9",
   "metadata": {},
   "source": [
    "---\n",
    "### 셋의 집합 연산"
   ]
  },
  {
   "cell_type": "code",
   "execution_count": 14,
   "id": "b669d522",
   "metadata": {},
   "outputs": [],
   "source": [
    "st_animals = {'rabbit', 'sheep', 'panda', 'wolf', 'tiger'}"
   ]
  },
  {
   "cell_type": "code",
   "execution_count": 19,
   "id": "73140450",
   "metadata": {},
   "outputs": [
    {
     "name": "stdout",
     "output_type": "stream",
     "text": [
      "{'rabbit', 'sheep', 'koala', 'wolf', 'panda', 'tiger'}\n",
      "{'rabbit', 'sheep', 'koala', 'wolf', 'panda', 'tiger'}\n",
      "{'rabbit', 'wolf', 'sheep'}\n",
      "{'rabbit', 'wolf', 'sheep'}\n",
      "{'koala'}\n",
      "{'koala'}\n",
      "{'koala', 'panda', 'tiger'}\n",
      "{'koala', 'panda', 'tiger'}\n"
     ]
    }
   ],
   "source": [
    "# animals = {'rabbit', 'wolf', 'koala', 'sheep', 'rabbit'}\n",
    "\n",
    "# 합집합 union\n",
    "print(animals.union(st_animals))  # Output: {'rabbit', 'sheep', 'panda', 'wolf', 'tiger', 'koala'}\n",
    "print(animals | st_animals)  # Output: {'rabbit', 'sheep', 'panda', 'wolf', 'tiger', 'koala'}\n",
    "\n",
    "# 교집합 intersection\n",
    "print(animals.intersection(st_animals))  # Output: {'rabbit', 'wolf', 'sheep'}\n",
    "print(animals & st_animals)  # Output: {'rabbit', 'wolf', 'sheep'}\n",
    "\n",
    "# 차집합 difference\n",
    "print(animals.difference(st_animals))  # Output: {'koala'}\n",
    "print(animals - st_animals)  # Output: {'koala'}\n",
    "\n",
    "# 대칭차집합 symmetric_difference\n",
    "print(animals.symmetric_difference(st_animals))  # Output: {'panda', 'tiger', 'koala'}\n",
    "print(animals ^ st_animals)  # Output: {'panda', 'tiger', 'koala'}"
   ]
  },
  {
   "cell_type": "markdown",
   "id": "8f01c95d",
   "metadata": {},
   "source": [
    "### **문제 1**\n",
    "\n",
    "다음 조건에 맞는 **셋**을 생성하세요.\n",
    "\n",
    "1. `fruits`라는 셋을 선언하고 `'apple', 'banana', 'cherry'`를 추가하세요.\n",
    "2. `print()`를 사용하여 `fruits`를 출력하세요."
   ]
  },
  {
   "cell_type": "code",
   "execution_count": 20,
   "id": "ad453579",
   "metadata": {},
   "outputs": [
    {
     "name": "stdout",
     "output_type": "stream",
     "text": [
      "{'cherry', 'apple', 'banana'}\n"
     ]
    }
   ],
   "source": [
    "fruits = {'apple', 'banana', 'cherry'}\n",
    "print(fruits)"
   ]
  },
  {
   "cell_type": "markdown",
   "id": "1d45c24c",
   "metadata": {},
   "source": [
    "### **문제 2**\n",
    "\n",
    "다음 조건에 맞게 **집합 연산**을 수행하세요.\n",
    "\n",
    "1. `set1`에 `{1, 2, 3}`을 저장하고, `set2`에 `{3, 4, 5}`를 저장하세요.\n",
    "2. `set1`과 `set2`의 **합집합**을 구해서 출력하세요."
   ]
  },
  {
   "cell_type": "code",
   "execution_count": 22,
   "id": "e6f249df",
   "metadata": {},
   "outputs": [
    {
     "name": "stdout",
     "output_type": "stream",
     "text": [
      "{1, 2, 3, 4, 5}\n",
      "{1, 2, 3, 4, 5}\n"
     ]
    }
   ],
   "source": [
    "set1 = {1, 2, 3}\n",
    "set2 = {3, 4, 5}\n",
    "print(set1.union(set2))\n",
    "print(set1 | set2)"
   ]
  },
  {
   "cell_type": "markdown",
   "id": "08a17f8a",
   "metadata": {},
   "source": [
    "### **문제 3**\n",
    "\n",
    "다음 조건에 맞게 **셋의 메서드**를 활용하세요.\n",
    "\n",
    "1. `colors1`에 `'red', 'blue', 'green'`을 저장하세요.\n",
    "2. `colors2`에 `'blue', 'yellow', 'pink'`를 저장하세요.\n",
    "3. 두 셋의 **교집합**을 구하여 출력하세요."
   ]
  },
  {
   "cell_type": "code",
   "execution_count": 23,
   "id": "5d7f53fc",
   "metadata": {},
   "outputs": [
    {
     "name": "stdout",
     "output_type": "stream",
     "text": [
      "{'blue'}\n",
      "{'blue'}\n"
     ]
    }
   ],
   "source": [
    "colors1 = {'red', 'green', 'blue'}\n",
    "colors2 = {'blue', 'yellow', 'pink'}\n",
    "print(colors1.intersection(colors2))\n",
    "print(colors1 & colors2)"
   ]
  },
  {
   "cell_type": "markdown",
   "id": "a5f65024",
   "metadata": {},
   "source": [
    "### **문제 4**\n",
    "\n",
    "다음 조건에 맞는 프로그램을 작성하세요.\n",
    "\n",
    "1. 두 셋 `A = {1, 2, 3, 4}`와 `B = {3, 4, 5, 6}`가 있습니다.\n",
    "2. `A`와 `B`의 **대칭 차집합**을 구하세요.\n",
    "3. 결과를 `print()`를 사용해 출력하세요."
   ]
  },
  {
   "cell_type": "code",
   "execution_count": 25,
   "id": "b89b78dd",
   "metadata": {},
   "outputs": [
    {
     "name": "stdout",
     "output_type": "stream",
     "text": [
      "{1, 2, 5, 6}\n",
      "{1, 2, 5, 6}\n"
     ]
    }
   ],
   "source": [
    "A = {1, 2, 3, 4}\n",
    "B = {3, 4, 5, 6}\n",
    "print(A.symmetric_difference(B))\n",
    "print(A ^ B)"
   ]
  },
  {
   "cell_type": "code",
   "execution_count": null,
   "id": "98d3173e",
   "metadata": {},
   "outputs": [],
   "source": []
  }
 ],
 "metadata": {
  "kernelspec": {
   "display_name": "pystudy_env",
   "language": "python",
   "name": "python3"
  },
  "language_info": {
   "codemirror_mode": {
    "name": "ipython",
    "version": 3
   },
   "file_extension": ".py",
   "mimetype": "text/x-python",
   "name": "python",
   "nbconvert_exporter": "python",
   "pygments_lexer": "ipython3",
   "version": "3.12.11"
  }
 },
 "nbformat": 4,
 "nbformat_minor": 5
}
