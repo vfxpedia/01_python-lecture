{
 "cells": [
  {
   "cell_type": "markdown",
   "id": "bc9b3ebd",
   "metadata": {},
   "source": [
    "### 튜플"
   ]
  },
  {
   "cell_type": "code",
   "execution_count": 1,
   "id": "a73258a6",
   "metadata": {},
   "outputs": [],
   "source": [
    "anything = (2025, 'hello', ['my', 'name', 'is'], True)"
   ]
  },
  {
   "cell_type": "code",
   "execution_count": 3,
   "id": "8fef35d9",
   "metadata": {},
   "outputs": [
    {
     "name": "stdout",
     "output_type": "stream",
     "text": [
      "2025\n"
     ]
    }
   ],
   "source": [
    "print(anything[0])"
   ]
  },
  {
   "cell_type": "code",
   "execution_count": 4,
   "id": "a7753a07",
   "metadata": {},
   "outputs": [
    {
     "ename": "TypeError",
     "evalue": "'tuple' object does not support item assignment",
     "output_type": "error",
     "traceback": [
      "\u001b[31m---------------------------------------------------------------------------\u001b[39m",
      "\u001b[31mTypeError\u001b[39m                                 Traceback (most recent call last)",
      "\u001b[36mCell\u001b[39m\u001b[36m \u001b[39m\u001b[32mIn[4]\u001b[39m\u001b[32m, line 1\u001b[39m\n\u001b[32m----> \u001b[39m\u001b[32m1\u001b[39m \u001b[43manything\u001b[49m\u001b[43m[\u001b[49m\u001b[32;43m0\u001b[39;49m\u001b[43m]\u001b[49m =\u001b[32m2024\u001b[39m \u001b[38;5;66;03m# This will raise an error because tuples are immutable\u001b[39;00m\n",
      "\u001b[31mTypeError\u001b[39m: 'tuple' object does not support item assignment"
     ]
    }
   ],
   "source": [
    "anything[0] =2024 # This will raise an error because tuples are immutable"
   ]
  },
  {
   "cell_type": "code",
   "execution_count": 5,
   "id": "96a11ef9",
   "metadata": {},
   "outputs": [
    {
     "name": "stdout",
     "output_type": "stream",
     "text": [
      "(2024, 'hello', ['my', 'name', 'is'], True)\n"
     ]
    }
   ],
   "source": [
    "anything = (2024, 'hello', ['my', 'name', 'is'], True)  # This is a valid reassignment, but it creates a new tuple\n",
    "print(anything)  # Output: (2024, 'hello', ['my', 'name', 'is'], True)"
   ]
  },
  {
   "cell_type": "markdown",
   "id": "9e3908e3",
   "metadata": {},
   "source": [
    "---\n",
    "### 튜플의 연산"
   ]
  },
  {
   "cell_type": "code",
   "execution_count": 6,
   "id": "3670a43d",
   "metadata": {},
   "outputs": [],
   "source": [
    "number = (2025, 8, 20)\n",
    "anything = (2025, 'hello', ['my', 'name', 'is'], True)"
   ]
  },
  {
   "cell_type": "code",
   "execution_count": 7,
   "id": "1de8f030",
   "metadata": {},
   "outputs": [
    {
     "name": "stdout",
     "output_type": "stream",
     "text": [
      "(2025, 8, 20, 2025, 'hello', ['my', 'name', 'is'], True)\n"
     ]
    }
   ],
   "source": [
    "print(number + anything)"
   ]
  },
  {
   "cell_type": "code",
   "execution_count": 8,
   "id": "3624e99a",
   "metadata": {},
   "outputs": [
    {
     "name": "stdout",
     "output_type": "stream",
     "text": [
      "(2025, 8, 20, 2025, 8, 20)\n"
     ]
    }
   ],
   "source": [
    "print(number * 2)"
   ]
  },
  {
   "cell_type": "code",
   "execution_count": null,
   "id": "a58a80f4",
   "metadata": {},
   "outputs": [],
   "source": []
  }
 ],
 "metadata": {
  "kernelspec": {
   "display_name": "pystudy_env",
   "language": "python",
   "name": "python3"
  },
  "language_info": {
   "codemirror_mode": {
    "name": "ipython",
    "version": 3
   },
   "file_extension": ".py",
   "mimetype": "text/x-python",
   "name": "python",
   "nbconvert_exporter": "python",
   "pygments_lexer": "ipython3",
   "version": "3.12.11"
  }
 },
 "nbformat": 4,
 "nbformat_minor": 5
}
